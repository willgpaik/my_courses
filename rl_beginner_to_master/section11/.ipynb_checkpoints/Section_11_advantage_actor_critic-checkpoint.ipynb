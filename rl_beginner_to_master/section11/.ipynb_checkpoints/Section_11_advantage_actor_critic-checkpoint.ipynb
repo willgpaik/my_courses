{
 "cells": [
  {
   "cell_type": "markdown",
   "metadata": {
    "id": "67rhCAvE7vV4",
    "pycharm": {
     "name": "#%%\n"
    }
   },
   "source": [
    "<div style=\"text-align:center\">\n",
    "    <h1>\n",
    "        Advantage Actor-Critic (A2C)\n",
    "    </h1>\n",
    "</div>\n",
    "\n",
    "<br><br>\n",
    "\n",
    "<div style=\"text-align:center\">\n",
    "In this notebook we are going to combine temporal difference learning (TD) with policy gradient methods. The resulting algorithm is called Advantage Actor-Critic (A2C) and uses a one-step estimate of the return to update the policy:\n",
    "</div>\n",
    "\n",
    "\\begin{equation}\n",
    "\\hat G_t = R_{t+1} + \\gamma v(S_{t+1}|w)\n",
    "\\end{equation}\n",
    "\n",
    "\n",
    "<br>"
   ]
  },
  {
   "cell_type": "code",
   "execution_count": 46,
   "metadata": {
    "cellView": "form",
    "id": "_uUI8vNy703R"
   },
   "outputs": [],
   "source": [
    "# @title Setup code (not important) - Run this cell by pressing \"Shift + Enter\"\n",
    "\n",
    "\n",
    "\n",
    "#!pip install -qq gym==0.23.0\n",
    "\n",
    "\n",
    "from typing import Tuple, Dict, Optional, Iterable, Callable\n",
    "\n",
    "import numpy as np\n",
    "import seaborn as sns\n",
    "import matplotlib\n",
    "import torch\n",
    "from matplotlib import animation\n",
    "import matplotlib.patches as mpatches\n",
    "\n",
    "from IPython.display import HTML\n",
    "\n",
    "import gymnasium as gym\n",
    "from gymnasium import spaces\n",
    "from gymnasium.error import DependencyNotInstalled\n",
    "\n",
    "import pygame\n",
    "from pygame import gfxdraw\n",
    "\n",
    "\n",
    "class Maze(gym.Env):\n",
    "\n",
    "    def __init__(self, exploring_starts: bool = False,\n",
    "                 shaped_rewards: bool = False, size: int = 5) -> None:\n",
    "        super().__init__()\n",
    "        self.exploring_starts = exploring_starts\n",
    "        self.shaped_rewards = shaped_rewards\n",
    "        self.state = (size - 1, size - 1)\n",
    "        self.goal = (size - 1, size - 1)\n",
    "        self.maze = self._create_maze(size=size)\n",
    "        self.distances = self._compute_distances(self.goal, self.maze)\n",
    "        self.action_space = spaces.Discrete(n=4)\n",
    "        self.action_space.action_meanings = {0: 'UP', 1: 'RIGHT', 2: 'DOWN', 3: \"LEFT\"}\n",
    "        self.observation_space = spaces.MultiDiscrete([size, size])\n",
    "\n",
    "        self.screen = None\n",
    "        self.agent_transform = None\n",
    "\n",
    "    def step(self, action: int) -> Tuple[Tuple[int, int], float, bool, Dict]:\n",
    "        reward = self.compute_reward(self.state, action)\n",
    "        self.state = self._get_next_state(self.state, action)\n",
    "        done = self.state == self.goal\n",
    "        info = {}\n",
    "        return self.state, reward, done, info\n",
    "\n",
    "    def reset(self) -> Tuple[int, int]:\n",
    "        if self.exploring_starts:\n",
    "            while self.state == self.goal:\n",
    "                self.state = tuple(self.observation_space.sample())\n",
    "        else:\n",
    "            self.state = (0, 0)\n",
    "        return self.state\n",
    "\n",
    "    def render(self, mode: str = 'human') -> Optional[np.ndarray]:\n",
    "        assert mode in ['human', 'rgb_array']\n",
    "\n",
    "        screen_size = 600\n",
    "        scale = screen_size / 5\n",
    "\n",
    "        if self.screen is None:\n",
    "            pygame.init()\n",
    "            self.screen = pygame.Surface((screen_size, screen_size))\n",
    "\n",
    "        surf = pygame.Surface((screen_size, screen_size))\n",
    "        surf.fill((22, 36, 71))\n",
    "\n",
    "\n",
    "        for row in range(5):\n",
    "            for col in range(5):\n",
    "\n",
    "                state = (row, col)\n",
    "                for next_state in [(row + 1, col), (row - 1, col), (row, col + 1), (row, col - 1)]:\n",
    "                    if next_state not in self.maze[state]:\n",
    "\n",
    "                        # Add the geometry of the edges and walls (i.e. the boundaries between\n",
    "                        # adjacent squares that are not connected).\n",
    "                        row_diff, col_diff = np.subtract(next_state, state)\n",
    "                        left = (col + (col_diff > 0)) * scale - 2 * (col_diff != 0)\n",
    "                        right = ((col + 1) - (col_diff < 0)) * scale + 2 * (col_diff != 0)\n",
    "                        top = (5 - (row + (row_diff > 0))) * scale - 2 * (row_diff != 0)\n",
    "                        bottom = (5 - ((row + 1) - (row_diff < 0))) * scale + 2 * (row_diff != 0)\n",
    "\n",
    "                        gfxdraw.filled_polygon(surf, [(left, bottom), (left, top), (right, top), (right, bottom)], (255, 255, 255))\n",
    "\n",
    "        # Add the geometry of the goal square to the viewer.\n",
    "        left, right, top, bottom = scale * 4 + 10, scale * 5 - 10, scale - 10, 10\n",
    "        gfxdraw.filled_polygon(surf, [(left, bottom), (left, top), (right, top), (right, bottom)], (40, 199, 172))\n",
    "\n",
    "        # Add the geometry of the agent to the viewer.\n",
    "        agent_row = int(screen_size - scale * (self.state[0] + .5))\n",
    "        agent_col = int(scale * (self.state[1] + .5))\n",
    "        gfxdraw.filled_circle(surf, agent_col, agent_row, int(scale * .6 / 2), (228, 63, 90))\n",
    "\n",
    "        surf = pygame.transform.flip(surf, False, True)\n",
    "        self.screen.blit(surf, (0, 0))\n",
    "\n",
    "        return np.transpose(\n",
    "                np.array(pygame.surfarray.pixels3d(self.screen)), axes=(1, 0, 2)\n",
    "            )\n",
    "\n",
    "    def close(self) -> None:\n",
    "        if self.screen is not None:\n",
    "            pygame.display.quit()\n",
    "            pygame.quit()\n",
    "            self.screen = None\n",
    "\n",
    "    def compute_reward(self, state: Tuple[int, int], action: int) -> float:\n",
    "        next_state = self._get_next_state(state, action)\n",
    "        if self.shaped_rewards:\n",
    "            return - (self.distances[next_state] / self.distances.max())\n",
    "        return - float(state != self.goal)\n",
    "\n",
    "    def simulate_step(self, state: Tuple[int, int], action: int):\n",
    "        reward = self.compute_reward(state, action)\n",
    "        next_state = self._get_next_state(state, action)\n",
    "        done = next_state == self.goal\n",
    "        info = {}\n",
    "        return next_state, reward, done, info\n",
    "\n",
    "    def _get_next_state(self, state: Tuple[int, int], action: int) -> Tuple[int, int]:\n",
    "        if action == 0:\n",
    "            next_state = (state[0] - 1, state[1])\n",
    "        elif action == 1:\n",
    "            next_state = (state[0], state[1] + 1)\n",
    "        elif action == 2:\n",
    "            next_state = (state[0] + 1, state[1])\n",
    "        elif action == 3:\n",
    "            next_state = (state[0], state[1] - 1)\n",
    "        else:\n",
    "            raise ValueError(\"Action value not supported:\", action)\n",
    "        if next_state in self.maze[state]:\n",
    "            return next_state\n",
    "        return state\n",
    "\n",
    "    @staticmethod\n",
    "    def _create_maze(size: int) -> Dict[Tuple[int, int], Iterable[Tuple[int, int]]]:\n",
    "        maze = {(row, col): [(row - 1, col), (row + 1, col), (row, col - 1), (row, col + 1)]\n",
    "                for row in range(size) for col in range(size)}\n",
    "\n",
    "        left_edges = [[(row, 0), (row, -1)] for row in range(size)]\n",
    "        right_edges = [[(row, size - 1), (row, size)] for row in range(size)]\n",
    "        upper_edges = [[(0, col), (-1, col)] for col in range(size)]\n",
    "        lower_edges = [[(size - 1, col), (size, col)] for col in range(size)]\n",
    "        walls = [\n",
    "            [(1, 0), (1, 1)], [(2, 0), (2, 1)], [(3, 0), (3, 1)],\n",
    "            [(1, 1), (1, 2)], [(2, 1), (2, 2)], [(3, 1), (3, 2)],\n",
    "            [(3, 1), (4, 1)], [(0, 2), (1, 2)], [(1, 2), (1, 3)],\n",
    "            [(2, 2), (3, 2)], [(2, 3), (3, 3)], [(2, 4), (3, 4)],\n",
    "            [(4, 2), (4, 3)], [(1, 3), (1, 4)], [(2, 3), (2, 4)],\n",
    "        ]\n",
    "\n",
    "        obstacles = upper_edges + lower_edges + left_edges + right_edges + walls\n",
    "\n",
    "        for src, dst in obstacles:\n",
    "            maze[src].remove(dst)\n",
    "\n",
    "            if dst in maze:\n",
    "                maze[dst].remove(src)\n",
    "\n",
    "        return maze\n",
    "\n",
    "    @staticmethod\n",
    "    def _compute_distances(goal: Tuple[int, int],\n",
    "                           maze: Dict[Tuple[int, int], Iterable[Tuple[int, int]]]) -> np.ndarray:\n",
    "        distances = np.full((5, 5), np.inf)\n",
    "        visited = set()\n",
    "        distances[goal] = 0.\n",
    "\n",
    "        while visited != set(maze):\n",
    "            sorted_dst = [(v // 5, v % 5) for v in distances.argsort(axis=None)]\n",
    "            closest = next(x for x in sorted_dst if x not in visited)\n",
    "            visited.add(closest)\n",
    "\n",
    "            for neighbour in maze[closest]:\n",
    "                distances[neighbour] = min(distances[neighbour], distances[closest] + 1)\n",
    "        return distances\n",
    "\n",
    "\n",
    "def display_video(frames):\n",
    "    # Copied from: https://colab.research.google.com/github/deepmind/dm_control/blob/master/tutorial.ipynb\n",
    "    orig_backend = matplotlib.get_backend()\n",
    "    matplotlib.use('Agg')\n",
    "    fig, ax = plt.subplots(1, 1, figsize=(5, 5))\n",
    "    matplotlib.use(orig_backend)\n",
    "    ax.set_axis_off()\n",
    "    ax.set_aspect('equal')\n",
    "    ax.set_position([0, 0, 1, 1])\n",
    "    im = ax.imshow(frames[0])\n",
    "    def update(frame):\n",
    "        im.set_data(frame)\n",
    "        return [im]\n",
    "    anim = animation.FuncAnimation(fig=fig, func=update, frames=frames,\n",
    "                                    interval=50, blit=True, repeat=False)\n",
    "    return HTML(anim.to_html5_video())\n",
    "\n",
    "\n",
    "def seed_everything(env: gym.Env, seed: int = 42) -> None:\n",
    "    #|env.seed(seed)\n",
    "    env.action_space.seed(seed)\n",
    "    env.observation_space.seed(seed)\n",
    "    np.random.seed(seed)\n",
    "    torch.manual_seed(seed)\n",
    "    torch.use_deterministic_algorithms(True)\n",
    "\n",
    "\n",
    "def plot_stats(stats):\n",
    "    rows = len(stats)\n",
    "    cols = 1\n",
    "\n",
    "    fig, ax = plt.subplots(rows, cols, figsize=(12, 6))\n",
    "\n",
    "    for i, key in enumerate(stats):\n",
    "        vals = stats[key]\n",
    "        vals = [np.mean(vals[i-10:i+10]) for i in range(10, len(vals)-10)]\n",
    "        if len(stats) > 1:\n",
    "            ax[i].plot(range(len(vals)), vals)\n",
    "            ax[i].set_title(key, size=18)\n",
    "        else:\n",
    "            ax.plot(range(len(vals)), vals)\n",
    "            ax.set_title(key, size=18)\n",
    "    plt.tight_layout()\n",
    "    plt.show()\n",
    "\n",
    "\n",
    "def test_policy_network(env, policy, episodes=10):\n",
    "    frames = []\n",
    "    for episode in range(episodes):\n",
    "        state = env.reset()\n",
    "        done = False\n",
    "        frames.append(env.render())\n",
    "\n",
    "        while not done:\n",
    "            state = torch.from_numpy(state).unsqueeze(0).float()\n",
    "            action = policy(state).multinomial(1).item()\n",
    "            next_state, _, done, _ = env.step(action)\n",
    "            img = env.render()\n",
    "            frames.append(img)\n",
    "            state = next_state\n",
    "\n",
    "    return display_video(frames)\n",
    "\n",
    "\n",
    "def plot_action_probs(probs, labels):\n",
    "    plt.figure(figsize=(6, 4))\n",
    "    plt.bar(labels, probs, color ='orange')\n",
    "    plt.title(r\"$\\pi(s)$\", size=16)\n",
    "    plt.xticks(fontsize=12)\n",
    "    plt.yticks(fontsize=12)\n",
    "    plt.tight_layout()\n",
    "    plt.show()\n",
    "\n"
   ]
  },
  {
   "cell_type": "markdown",
   "metadata": {
    "id": "RlB0Tbp07vV6"
   },
   "source": [
    "## Import the necessary software libraries:"
   ]
  },
  {
   "cell_type": "code",
   "execution_count": 47,
   "metadata": {
    "id": "2OnbUU8t7vV7"
   },
   "outputs": [],
   "source": [
    "import os\n",
    "import torch\n",
    "import gymnasium\n",
    "import numpy as np\n",
    "import matplotlib.pyplot as plt\n",
    "from tqdm import tqdm\n",
    "from torch import nn as nn\n",
    "from torch.optim import AdamW\n",
    "import torch.nn.functional as F"
   ]
  },
  {
   "cell_type": "markdown",
   "metadata": {
    "id": "pPEwlOrt7vV8"
   },
   "source": [
    "## Create and preprocess the environment"
   ]
  },
  {
   "cell_type": "markdown",
   "metadata": {
    "id": "j37j_pOh7vV8"
   },
   "source": [
    "### Create the environment"
   ]
  },
  {
   "cell_type": "code",
   "execution_count": 4,
   "metadata": {
    "id": "RDViC8L47vV8"
   },
   "outputs": [],
   "source": [
    "env = gym.make('Acrobot-v1', render_mode='rgb_array')"
   ]
  },
  {
   "cell_type": "code",
   "execution_count": 11,
   "metadata": {
    "id": "LuJ9Hx4E7vV8"
   },
   "outputs": [
    {
     "name": "stdout",
     "output_type": "stream",
     "text": [
      "State dimensions: 6. Actions: 3\n",
      "Sample state: (array([0.99677855, 0.08020269, 0.995878  , 0.09070294, 0.01738493,\n",
      "       0.04968391], dtype=float32), {})\n"
     ]
    }
   ],
   "source": [
    "dims = env.observation_space.shape[0]\n",
    "actions = env.action_space.n\n",
    "\n",
    "print(f\"State dimensions: {dims}. Actions: {actions}\")\n",
    "print(f\"Sample state: {env.reset()}\")"
   ]
  },
  {
   "cell_type": "code",
   "execution_count": 12,
   "metadata": {
    "id": "QVHSTC827vV8"
   },
   "outputs": [
    {
     "data": {
      "text/plain": [
       "<matplotlib.image.AxesImage at 0x7fe57e77a990>"
      ]
     },
     "execution_count": 12,
     "metadata": {},
     "output_type": "execute_result"
    },
    {
     "data": {
      "image/png": "[encoded data removed]",
      "text/plain": [
       "<Figure size 640x480 with 1 Axes>"
      ]
     },
     "metadata": {},
     "output_type": "display_data"
    }
   ],
   "source": [
    "plt.imshow(env.render())"
   ]
  },
  {
   "cell_type": "markdown",
   "metadata": {
    "id": "8piDIP4E7vV9"
   },
   "source": [
    "### Prepare the environment to work with PyTorch"
   ]
  },
  {
   "cell_type": "code",
   "execution_count": 48,
   "metadata": {
    "id": "bBqxt5hP7vV9"
   },
   "outputs": [],
   "source": [
    "class PreprocessEnv(gym.vector.VectorWrapper):\n",
    "\n",
    "    def __init__(self, env):\n",
    "        #gym.Wrapper.__init__(self, env)\n",
    "        super().__init__(env)\n",
    "\n",
    "    def reset(self):\n",
    "        state, _ = self.env.reset()\n",
    "        return torch.from_numpy(state).float()\n",
    "\n",
    "    def step(self, actions):\n",
    "        actions = actions.squeeze().numpy()\n",
    "        next_state, reward, done, info, _ = self.env.step(actions)\n",
    "        next_state = torch.from_numpy(next_state).float()\n",
    "        reward = torch.tensor(reward).unsqueeze(1).float()\n",
    "        done = torch.tensor(done).unsqueeze(1)\n",
    "        return next_state, reward, done, info"
   ]
  },
  {
   "cell_type": "code",
   "execution_count": 49,
   "metadata": {
    "id": "jkRkODiA7vV-"
   },
   "outputs": [],
   "source": [
    "num_envs = 12\n",
    "parallel_env = gym.make_vec('Acrobot-v1', num_envs=num_envs, vectorization_mode=\"async\")\n",
    "seed_everything(parallel_env)\n",
    "parallel_env = PreprocessEnv(parallel_env)"
   ]
  },
  {
   "cell_type": "markdown",
   "metadata": {
    "id": "H_35Rcxy7vV-"
   },
   "source": [
    "### Create the policy $\\pi(s)$"
   ]
  },
  {
   "cell_type": "code",
   "execution_count": 50,
   "metadata": {
    "id": "rF1_C5Xb7vV-"
   },
   "outputs": [],
   "source": [
    "# actor:\n",
    "policy = nn.Sequential(\n",
    "    nn.Linear(dims, 128),\n",
    "    nn.ReLU(),\n",
    "    nn.Linear(128, 64),\n",
    "    nn.ReLU(),\n",
    "    nn.Linear(64, actions), # range [-inf, inf] -> [0, 1]\n",
    "    nn.Softmax(dim=-1)\n",
    ")"
   ]
  },
  {
   "cell_type": "markdown",
   "metadata": {
    "id": "LPY8NEB17vV-"
   },
   "source": [
    "### Create the value network $v(s)$"
   ]
  },
  {
   "cell_type": "code",
   "execution_count": 51,
   "metadata": {
    "id": "EKD6vk4i7vV-"
   },
   "outputs": [],
   "source": [
    "# critic:\n",
    "value_net = nn.Sequential(\n",
    "    nn.Linear(dims, 128),\n",
    "    nn.ReLU(),\n",
    "    nn.Linear(128, 64),\n",
    "    nn.ReLU(),\n",
    "    nn.Linear(64, 1) # range [-inf, inf]\n",
    ")"
   ]
  },
  {
   "cell_type": "markdown",
   "metadata": {
    "id": "SH5RVyq-7vV-"
   },
   "source": [
    "## Implement the algorithm\n"
   ]
  },
  {
   "cell_type": "code",
   "execution_count": null,
   "metadata": {
    "id": "lI3Zju7u7vV-"
   },
   "outputs": [],
   "source": [
    "def actor_critic(policy, value_net, episodes, alpha=1e-4, gamma=0.99):\n",
    "    policy_optim = AdamW(policy.parameters(), lr=alpha)\n",
    "    value_optim = AdamW(value_net.parameters(), lr=alpha)\n",
    "    stats = {'Actor Loss': [], 'Critic Loss': [], 'Returns': []}\n",
    "\n",
    "    for episode in tqdm(range(1, episodes + 1)):\n",
    "        state = parallel_env.reset()\n",
    "        done_b = torch.zeros((num_envs, 1), dtype=torch.bool)\n",
    "        ep_return = torch.zeros((num_envs, 1))\n",
    "        I = 1.\n",
    "\n",
    "        while not done_b.all():\n",
    "            action = policy(state).multinomial(1).detach()\n",
    "            next_state, reward, done, _ = parallel_env.step(action)\n",
    "\n",
    "            # updating value network:\n",
    "            value = value_net(state)\n",
    "            target = reward + ~done * gamma * value_net(next_state).detach()\n",
    "            critic_loss = F.mse_loss(value, target)\n",
    "            value_net.zero_grad()\n",
    "            critic_loss.backward()\n",
    "            value_optim.step()\n",
    "\n",
    "            # updating policy network:\n",
    "            advantage = (target - value).detach()\n",
    "            probs = policy(state)\n",
    "            log_probs = torch.log(probs + 1e-6)\n",
    "            action_log_prob = log_probs.gather(1, action)\n",
    "            entropy = - torch.sum(probs * log_probs, dim=-1, keepdim=True)\n",
    "            actor_loss = -I * action_log_prob * advantage - 0.01 * entropy\n",
    "            actor_loss = actor_loss.mean()\n",
    "            policy.zero_grad()\n",
    "            actor_loss.backward()\n",
    "            policy_optim.step()\n",
    "\n",
    "            ep_return += reward\n",
    "            done_b |= done\n",
    "            state = next_state\n",
    "            I = I * gamma\n",
    "\n",
    "        stats['Actor Loss'].append(actor_loss.item())\n",
    "        stats['Critic Loss'].append(critic_loss.item())\n",
    "        stats['Returns'].append(ep_return.mean().item())\n",
    "\n",
    "    return stats"
   ]
  },
  {
   "cell_type": "code",
   "execution_count": 53,
   "metadata": {
    "id": "eEWU63Z07vV-",
    "scrolled": true
   },
   "outputs": [
    {
     "name": "stderr",
     "output_type": "stream",
     "text": [
      "  0%|▋                                                                                                                                                   | 1/200 [06:52<22:48:44, 412.69s/it]\n",
      "Exception ignored in: <function VectorEnv.__del__ at 0x7fe57f8a1260>\n",
      "Traceback (most recent call last):\n",
      "  File \"/home/gpaik/.conda/envs/pytorch/lib/python3.12/site-packages/gymnasium/vector/vector_env.py\", line 324, in __del__\n",
      "    self.close()\n",
      "  File \"/home/gpaik/.conda/envs/pytorch/lib/python3.12/site-packages/gymnasium/vector/vector_env.py\", line 387, in close\n",
      "    return self.env.close(**kwargs)\n",
      "           ^^^^^^^^^^^^^^^^^^^^^^^^\n",
      "  File \"/home/gpaik/.conda/envs/pytorch/lib/python3.12/site-packages/gymnasium/vector/vector_env.py\", line 222, in close\n",
      "    self.close_extras(**kwargs)\n",
      "  File \"/home/gpaik/.conda/envs/pytorch/lib/python3.12/site-packages/gymnasium/vector/async_vector_env.py\", line 588, in close_extras\n",
      "    pipe.send((\"close\", None))\n",
      "  File \"/home/gpaik/.conda/envs/pytorch/lib/python3.12/multiprocessing/connection.py\", line 206, in send\n",
      "    self._send_bytes(_ForkingPickler.dumps(obj))\n",
      "  File \"/home/gpaik/.conda/envs/pytorch/lib/python3.12/multiprocessing/connection.py\", line 427, in _send_bytes\n",
      "    self._send(header + buf)\n",
      "  File \"/home/gpaik/.conda/envs/pytorch/lib/python3.12/multiprocessing/connection.py\", line 384, in _send\n",
      "    n = write(self._handle, buf)\n",
      "        ^^^^^^^^^^^^^^^^^^^^^^^^\n",
      "BrokenPipeError: [Errno 32] Broken pipe\n",
      "/home/gpaik/.conda/envs/pytorch/lib/python3.12/site-packages/gymnasium/vector/async_vector_env.py:573: UserWarning: \u001b[33mWARN: Calling `close` while waiting for a pending call to `step` to complete.\u001b[0m\n",
      "  logger.warn(\n",
      "/home/gpaik/.conda/envs/pytorch/lib/python3.12/site-packages/gymnasium/vector/async_vector_env.py:422: UserWarning: \u001b[31mERROR: Received the following error from Worker-3 - Shutting it down\u001b[0m\n",
      "  self._raise_if_errors(successes)\n",
      "/home/gpaik/.conda/envs/pytorch/lib/python3.12/site-packages/gymnasium/vector/async_vector_env.py:422: UserWarning: \u001b[31mERROR: Traceback (most recent call last):\n",
      "  File \"/home/gpaik/.conda/envs/pytorch/lib/python3.12/site-packages/gymnasium/vector/async_vector_env.py\", line 701, in _async_worker\n",
      "    command, data = pipe.recv()\n",
      "                    ^^^^^^^^^^^\n",
      "  File \"/home/gpaik/.conda/envs/pytorch/lib/python3.12/multiprocessing/connection.py\", line 250, in recv\n",
      "    buf = self._recv_bytes()\n",
      "          ^^^^^^^^^^^^^^^^^^\n",
      "  File \"/home/gpaik/.conda/envs/pytorch/lib/python3.12/multiprocessing/connection.py\", line 430, in _recv_bytes\n",
      "    buf = self._recv(4)\n",
      "          ^^^^^^^^^^^^^\n",
      "  File \"/home/gpaik/.conda/envs/pytorch/lib/python3.12/multiprocessing/connection.py\", line 395, in _recv\n",
      "    chunk = read(handle, remaining)\n",
      "            ^^^^^^^^^^^^^^^^^^^^^^^\n",
      "KeyboardInterrupt\n",
      "\u001b[0m\n",
      "  self._raise_if_errors(successes)\n",
      "/home/gpaik/.conda/envs/pytorch/lib/python3.12/site-packages/gymnasium/vector/async_vector_env.py:422: UserWarning: \u001b[31mERROR: Received the following error from Worker-8 - Shutting it down\u001b[0m\n",
      "  self._raise_if_errors(successes)\n",
      "/home/gpaik/.conda/envs/pytorch/lib/python3.12/site-packages/gymnasium/vector/async_vector_env.py:422: UserWarning: \u001b[31mERROR: Received the following error from Worker-4 - Shutting it down\u001b[0m\n",
      "  self._raise_if_errors(successes)\n",
      "/home/gpaik/.conda/envs/pytorch/lib/python3.12/site-packages/gymnasium/vector/async_vector_env.py:422: UserWarning: \u001b[31mERROR: Received the following error from Worker-6 - Shutting it down\u001b[0m\n",
      "  self._raise_if_errors(successes)\n",
      "/home/gpaik/.conda/envs/pytorch/lib/python3.12/site-packages/gymnasium/vector/async_vector_env.py:422: UserWarning: \u001b[31mERROR: Received the following error from Worker-7 - Shutting it down\u001b[0m\n",
      "  self._raise_if_errors(successes)\n",
      "/home/gpaik/.conda/envs/pytorch/lib/python3.12/site-packages/gymnasium/vector/async_vector_env.py:422: UserWarning: \u001b[31mERROR: Received the following error from Worker-2 - Shutting it down\u001b[0m\n",
      "  self._raise_if_errors(successes)\n",
      "/home/gpaik/.conda/envs/pytorch/lib/python3.12/site-packages/gymnasium/vector/async_vector_env.py:422: UserWarning: \u001b[31mERROR: Received the following error from Worker-1 - Shutting it down\u001b[0m\n",
      "  self._raise_if_errors(successes)\n",
      "/home/gpaik/.conda/envs/pytorch/lib/python3.12/site-packages/gymnasium/vector/async_vector_env.py:422: UserWarning: \u001b[31mERROR: Received the following error from Worker-0 - Shutting it down\u001b[0m\n",
      "  self._raise_if_errors(successes)\n",
      "/home/gpaik/.conda/envs/pytorch/lib/python3.12/site-packages/gymnasium/vector/async_vector_env.py:422: UserWarning: \u001b[31mERROR: Received the following error from Worker-9 - Shutting it down\u001b[0m\n",
      "  self._raise_if_errors(successes)\n",
      "/home/gpaik/.conda/envs/pytorch/lib/python3.12/site-packages/gymnasium/vector/async_vector_env.py:422: UserWarning: \u001b[31mERROR: Traceback (most recent call last):\n",
      "  File \"/home/gpaik/.conda/envs/pytorch/lib/python3.12/site-packages/gymnasium/vector/async_vector_env.py\", line 723, in _async_worker\n",
      "    ) = env.step(data)\n",
      "        ^^^^^^^^^^^^^^\n",
      "  File \"/home/gpaik/.conda/envs/pytorch/lib/python3.12/site-packages/gymnasium/wrappers/common.py\", line 125, in step\n",
      "    observation, reward, terminated, truncated, info = self.env.step(action)\n",
      "                                                       ^^^^^^^^^^^^^^^^^^^^^\n",
      "  File \"/home/gpaik/.conda/envs/pytorch/lib/python3.12/site-packages/gymnasium/wrappers/common.py\", line 393, in step\n",
      "    return super().step(action)\n",
      "           ^^^^^^^^^^^^^^^^^^^^\n",
      "  File \"/home/gpaik/.conda/envs/pytorch/lib/python3.12/site-packages/gymnasium/core.py\", line 322, in step\n",
      "    return self.env.step(action)\n",
      "           ^^^^^^^^^^^^^^^^^^^^^\n",
      "  File \"/home/gpaik/.conda/envs/pytorch/lib/python3.12/site-packages/gymnasium/wrappers/common.py\", line 285, in step\n",
      "    return self.env.step(action)\n",
      "           ^^^^^^^^^^^^^^^^^^^^^\n",
      "  File \"/home/gpaik/.conda/envs/pytorch/lib/python3.12/site-packages/gymnasium/envs/classic_control/acrobot.py\", line 225, in step\n",
      "    terminated = self._terminal()\n",
      "                 ^^^^^^^^^^^^^^^^\n",
      "  File \"/home/gpaik/.conda/envs/pytorch/lib/python3.12/site-packages/gymnasium/envs/classic_control/acrobot.py\", line 243, in _terminal\n",
      "    return bool(-cos(s[0]) - cos(s[1] + s[0]) > 1.0)\n",
      "                             ^^^^^^^^^^^^^^^^\n",
      "KeyboardInterrupt\n",
      "\u001b[0m\n",
      "  self._raise_if_errors(successes)\n",
      "/home/gpaik/.conda/envs/pytorch/lib/python3.12/site-packages/gymnasium/vector/async_vector_env.py:422: UserWarning: \u001b[31mERROR: Raising the last exception back to the main process.\u001b[0m\n",
      "  self._raise_if_errors(successes)\n",
      "Exception ignored in: <function VectorEnv.__del__ at 0x7fe57f8a1260>\n",
      "Traceback (most recent call last):\n",
      "  File \"/home/gpaik/.conda/envs/pytorch/lib/python3.12/site-packages/gymnasium/vector/vector_env.py\", line 324, in __del__\n",
      "    self.close()\n",
      "  File \"/home/gpaik/.conda/envs/pytorch/lib/python3.12/site-packages/gymnasium/vector/vector_env.py\", line 387, in close\n",
      "    return self.env.close(**kwargs)\n",
      "           ^^^^^^^^^^^^^^^^^^^^^^^^\n",
      "  File \"/home/gpaik/.conda/envs/pytorch/lib/python3.12/site-packages/gymnasium/vector/vector_env.py\", line 222, in close\n",
      "    self.close_extras(**kwargs)\n",
      "  File \"/home/gpaik/.conda/envs/pytorch/lib/python3.12/site-packages/gymnasium/vector/async_vector_env.py\", line 577, in close_extras\n",
      "    function(timeout)\n",
      "  File \"/home/gpaik/.conda/envs/pytorch/lib/python3.12/site-packages/gymnasium/vector/async_vector_env.py\", line 422, in step_wait\n",
      "    self._raise_if_errors(successes)\n",
      "  File \"/home/gpaik/.conda/envs/pytorch/lib/python3.12/site-packages/gymnasium/vector/async_vector_env.py\", line 676, in _raise_if_errors\n",
      "    raise exctype(value)\n",
      "KeyboardInterrupt: \n"
     ]
    },
    {
     "ename": "KeyboardInterrupt",
     "evalue": "",
     "output_type": "error",
     "traceback": [
      "\u001b[0;31m---------------------------------------------------------------------------\u001b[0m",
      "\u001b[0;31mKeyboardInterrupt\u001b[0m                         Traceback (most recent call last)",
      "Cell \u001b[0;32mIn[53], line 1\u001b[0m\n\u001b[0;32m----> 1\u001b[0m stats \u001b[38;5;241m=\u001b[39m \u001b[43mactor_critic\u001b[49m\u001b[43m(\u001b[49m\u001b[43mpolicy\u001b[49m\u001b[43m,\u001b[49m\u001b[43m \u001b[49m\u001b[43mvalue_net\u001b[49m\u001b[43m,\u001b[49m\u001b[43m \u001b[49m\u001b[38;5;241;43m200\u001b[39;49m\u001b[43m)\u001b[49m\n",
      "Cell \u001b[0;32mIn[52], line 19\u001b[0m, in \u001b[0;36mactor_critic\u001b[0;34m(policy, value_net, episodes, alpha, gamma)\u001b[0m\n\u001b[1;32m     17\u001b[0m value \u001b[38;5;241m=\u001b[39m value_net(state)\n\u001b[1;32m     18\u001b[0m target \u001b[38;5;241m=\u001b[39m reward \u001b[38;5;241m+\u001b[39m \u001b[38;5;241m~\u001b[39mdone \u001b[38;5;241m*\u001b[39m gamma \u001b[38;5;241m*\u001b[39m value_net(next_state)\u001b[38;5;241m.\u001b[39mdetach()\n\u001b[0;32m---> 19\u001b[0m critic_loss \u001b[38;5;241m=\u001b[39m \u001b[43mF\u001b[49m\u001b[38;5;241;43m.\u001b[39;49m\u001b[43mmse_loss\u001b[49m\u001b[43m(\u001b[49m\u001b[43mvalue\u001b[49m\u001b[43m,\u001b[49m\u001b[43m \u001b[49m\u001b[43mtarget\u001b[49m\u001b[43m)\u001b[49m\n\u001b[1;32m     20\u001b[0m value_net\u001b[38;5;241m.\u001b[39mzero_grad()\n\u001b[1;32m     21\u001b[0m critic_loss\u001b[38;5;241m.\u001b[39mbackward()\n",
      "File \u001b[0;32m~/.conda/envs/pytorch/lib/python3.12/site-packages/torch/nn/functional.py:3791\u001b[0m, in \u001b[0;36mmse_loss\u001b[0;34m(input, target, size_average, reduce, reduction)\u001b[0m\n\u001b[1;32m   3788\u001b[0m \u001b[38;5;28;01mif\u001b[39;00m size_average \u001b[38;5;129;01mis\u001b[39;00m \u001b[38;5;129;01mnot\u001b[39;00m \u001b[38;5;28;01mNone\u001b[39;00m \u001b[38;5;129;01mor\u001b[39;00m reduce \u001b[38;5;129;01mis\u001b[39;00m \u001b[38;5;129;01mnot\u001b[39;00m \u001b[38;5;28;01mNone\u001b[39;00m:\n\u001b[1;32m   3789\u001b[0m     reduction \u001b[38;5;241m=\u001b[39m _Reduction\u001b[38;5;241m.\u001b[39mlegacy_get_string(size_average, reduce)\n\u001b[0;32m-> 3791\u001b[0m expanded_input, expanded_target \u001b[38;5;241m=\u001b[39m \u001b[43mtorch\u001b[49m\u001b[38;5;241;43m.\u001b[39;49m\u001b[43mbroadcast_tensors\u001b[49m\u001b[43m(\u001b[49m\u001b[38;5;28;43minput\u001b[39;49m\u001b[43m,\u001b[49m\u001b[43m \u001b[49m\u001b[43mtarget\u001b[49m\u001b[43m)\u001b[49m\n\u001b[1;32m   3792\u001b[0m \u001b[38;5;28;01mreturn\u001b[39;00m torch\u001b[38;5;241m.\u001b[39m_C\u001b[38;5;241m.\u001b[39m_nn\u001b[38;5;241m.\u001b[39mmse_loss(\n\u001b[1;32m   3793\u001b[0m     expanded_input, expanded_target, _Reduction\u001b[38;5;241m.\u001b[39mget_enum(reduction)\n\u001b[1;32m   3794\u001b[0m )\n",
      "File \u001b[0;32m~/.conda/envs/pytorch/lib/python3.12/site-packages/torch/functional.py:76\u001b[0m, in \u001b[0;36mbroadcast_tensors\u001b[0;34m(*tensors)\u001b[0m\n\u001b[1;32m     74\u001b[0m \u001b[38;5;28;01mif\u001b[39;00m has_torch_function(tensors):\n\u001b[1;32m     75\u001b[0m     \u001b[38;5;28;01mreturn\u001b[39;00m handle_torch_function(broadcast_tensors, tensors, \u001b[38;5;241m*\u001b[39mtensors)\n\u001b[0;32m---> 76\u001b[0m \u001b[38;5;28;01mreturn\u001b[39;00m \u001b[43m_VF\u001b[49m\u001b[38;5;241;43m.\u001b[39;49m\u001b[43mbroadcast_tensors\u001b[49m\u001b[43m(\u001b[49m\u001b[43mtensors\u001b[49m\u001b[43m)\u001b[49m\n",
      "\u001b[0;31mKeyboardInterrupt\u001b[0m: "
     ]
    }
   ],
   "source": [
    "stats = actor_critic(policy, value_net, 200)"
   ]
  },
  {
   "cell_type": "markdown",
   "metadata": {
    "id": "DoxzCbPz7vV-"
   },
   "source": [
    "## Show results"
   ]
  },
  {
   "cell_type": "markdown",
   "metadata": {
    "id": "3cmyUHP67vV-"
   },
   "source": [
    "### Show execution stats"
   ]
  },
  {
   "cell_type": "code",
   "execution_count": null,
   "metadata": {
    "id": "oV46xCdU7vV-"
   },
   "outputs": [],
   "source": [
    "plot_stats(stats)"
   ]
  },
  {
   "cell_type": "markdown",
   "metadata": {
    "id": "KD1Khhk17vV-"
   },
   "source": [
    "### Test the resulting agent"
   ]
  },
  {
   "cell_type": "code",
   "execution_count": null,
   "metadata": {
    "id": "w6EwEhPd7vV_"
   },
   "outputs": [],
   "source": [
    "test_policy_network(env, actor, episodes=2)"
   ]
  },
  {
   "cell_type": "markdown",
   "metadata": {
    "id": "UHS56xgc7vV_"
   },
   "source": [
    "## Resources"
   ]
  },
  {
   "cell_type": "markdown",
   "metadata": {
    "id": "Yk1oi1-_7vV_"
   },
   "source": [
    "[[1] Reinforcement Learning: An Introduction. Ch.13](https://web.stanford.edu/class/psych209/Readings/SuttonBartoIPRLBook2ndEd.pdf)"
   ]
  }
 ],
 "metadata": {
  "colab": {
   "provenance": []
  },
  "kernelspec": {
   "display_name": "Python 3 (ipykernel)",
   "language": "python",
   "name": "python3"
  },
  "language_info": {
   "codemirror_mode": {
    "name": "ipython",
    "version": 3
   },
   "file_extension": ".py",
   "mimetype": "text/x-python",
   "name": "python",
   "nbconvert_exporter": "python",
   "pygments_lexer": "ipython3",
   "version": "3.12.3"
  }
 },
 "nbformat": 4,
 "nbformat_minor": 4
}
