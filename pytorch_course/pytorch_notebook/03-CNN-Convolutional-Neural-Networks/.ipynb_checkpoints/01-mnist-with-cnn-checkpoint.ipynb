{
 "cells": [
  {
   "cell_type": "code",
   "execution_count": 1,
   "id": "42c4e373-8c7e-410a-a446-e282dd256f36",
   "metadata": {},
   "outputs": [],
   "source": [
    "import torch\n",
    "import torch.nn as nn\n",
    "import torch.nn.functional as F\n",
    "from torch.utils.data import DataLoader\n",
    "from torchvision import datasets, transforms\n",
    "from torchvision.utils import make_grid\n",
    "\n",
    "import numpy as np\n",
    "import pandas as pd\n",
    "from sklearn.metrics import confusion_matrix\n",
    "import matplotlib.pyplot as plt"
   ]
  },
  {
   "cell_type": "code",
   "execution_count": 2,
   "id": "13658aa0-97ac-4f1a-b8d3-70d649b5e825",
   "metadata": {},
   "outputs": [],
   "source": [
    "transform = transforms.ToTensor()"
   ]
  },
  {
   "cell_type": "code",
   "execution_count": 3,
   "id": "1a44c379-dc31-4265-ab17-c1a697c9a071",
   "metadata": {},
   "outputs": [],
   "source": [
    "train_data = datasets.MNIST(root='../Data/', train=True, download=True, transform=transform)"
   ]
  },
  {
   "cell_type": "code",
   "execution_count": 4,
   "id": "f7c12516-988c-4607-a093-1206e3ee9ea7",
   "metadata": {},
   "outputs": [],
   "source": [
    "test_data = datasets.MNIST(root='../Data/', train=False, download=True, transform=transform)"
   ]
  },
  {
   "cell_type": "code",
   "execution_count": 5,
   "id": "2e216897-8d41-4fd5-87d6-a97914608867",
   "metadata": {},
   "outputs": [
    {
     "data": {
      "text/plain": [
       "Dataset MNIST\n",
       "    Number of datapoints: 60000\n",
       "    Root location: ../Data/\n",
       "    Split: Train\n",
       "    StandardTransform\n",
       "Transform: ToTensor()"
      ]
     },
     "execution_count": 5,
     "metadata": {},
     "output_type": "execute_result"
    }
   ],
   "source": [
    "train_data"
   ]
  },
  {
   "cell_type": "code",
   "execution_count": 6,
   "id": "27faff90-5901-40a2-9686-d06a7c84ad37",
   "metadata": {},
   "outputs": [
    {
     "data": {
      "text/plain": [
       "Dataset MNIST\n",
       "    Number of datapoints: 10000\n",
       "    Root location: ../Data/\n",
       "    Split: Test\n",
       "    StandardTransform\n",
       "Transform: ToTensor()"
      ]
     },
     "execution_count": 6,
     "metadata": {},
     "output_type": "execute_result"
    }
   ],
   "source": [
    "test_data"
   ]
  },
  {
   "cell_type": "code",
   "execution_count": 7,
   "id": "a02f3aff-0c5c-4836-9aea-f42729c74607",
   "metadata": {},
   "outputs": [],
   "source": [
    "train_loader = DataLoader(train_data, batch_size=10, shuffle=True)\n",
    "test_loader = DataLoader(test_data, batch_size=10, shuffle=False)"
   ]
  },
  {
   "cell_type": "code",
   "execution_count": 8,
   "id": "82de2774-2103-4b16-8dd3-3e5ddb2056d0",
   "metadata": {},
   "outputs": [],
   "source": [
    "# 1 color channel, 6 filters (output channels, arbitrary), 3x3 kernel, stride=1\n",
    "conv1 = nn.Conv2d(1,6,3,1) # original img ---> 6 filters ---> pooling ---> conv2\n",
    "\n",
    "# 6 input filters from conv1, 16 filters (arbitrary), 3x3 kernel, stride=1\n",
    "conv2 = nn.Conv2d(6,16,3,1)"
   ]
  },
  {
   "cell_type": "code",
   "execution_count": 9,
   "id": "81ecc0cc-9dec-423c-acf8-f0ce78379022",
   "metadata": {},
   "outputs": [],
   "source": [
    "for i, (X_train, y_train) in enumerate(train_data):\n",
    "    break"
   ]
  },
  {
   "cell_type": "code",
   "execution_count": 10,
   "id": "47d3667e-f457-448b-82f1-d1cfaa88da4a",
   "metadata": {},
   "outputs": [],
   "source": [
    "# (add dimension to batch size (1), 1, 28, 28)\n",
    "x = X_train.view(1, 1, 28, 28) # conver to ----> 4D batch (batch of 1 image)"
   ]
  },
  {
   "cell_type": "code",
   "execution_count": 11,
   "id": "e94cfbdd-ad98-424e-bebe-a09295bf36f2",
   "metadata": {},
   "outputs": [],
   "source": [
    "x = F.relu(conv1(x))"
   ]
  },
  {
   "cell_type": "code",
   "execution_count": 12,
   "id": "b8ccffce-60f1-4ba4-849d-a9ea538f1dfa",
   "metadata": {},
   "outputs": [
    {
     "data": {
      "text/plain": [
       "torch.Size([1, 6, 26, 26])"
      ]
     },
     "execution_count": 12,
     "metadata": {},
     "output_type": "execute_result"
    }
   ],
   "source": [
    "x.shape # (1 image, 6 filters, losing border info (28->26), same->26) because no paddings are added"
   ]
  },
  {
   "cell_type": "code",
   "execution_count": 13,
   "id": "591a7a10-2954-4e34-9dea-6489fa9467d7",
   "metadata": {},
   "outputs": [],
   "source": [
    "x = F.max_pool2d(x,2,2) # (data, 2x2 kernel, stride=2)"
   ]
  },
  {
   "cell_type": "code",
   "execution_count": 14,
   "id": "3740dc78-b6d8-4fe9-824a-d15dee46ebae",
   "metadata": {},
   "outputs": [
    {
     "data": {
      "text/plain": [
       "torch.Size([1, 6, 13, 13])"
      ]
     },
     "execution_count": 14,
     "metadata": {},
     "output_type": "execute_result"
    }
   ],
   "source": [
    "x.shape # reduce the size by 2 (because of 2x2 kernel and stride=2)"
   ]
  },
  {
   "cell_type": "code",
   "execution_count": 15,
   "id": "56d9b7a9-2476-4670-8e81-722ebf8e763b",
   "metadata": {},
   "outputs": [],
   "source": [
    "x = F.relu(conv2(x))"
   ]
  },
  {
   "cell_type": "code",
   "execution_count": 16,
   "id": "6bc4ab44-a055-4c84-be65-d43f39856eae",
   "metadata": {},
   "outputs": [
    {
     "data": {
      "text/plain": [
       "torch.Size([1, 16, 11, 11])"
      ]
     },
     "execution_count": 16,
     "metadata": {},
     "output_type": "execute_result"
    }
   ],
   "source": [
    "x.shape"
   ]
  },
  {
   "cell_type": "code",
   "execution_count": 17,
   "id": "061a19cd-b8bb-4d23-932a-71b446a452df",
   "metadata": {},
   "outputs": [],
   "source": [
    "x = F.max_pool2d(x,2,2)"
   ]
  },
  {
   "cell_type": "code",
   "execution_count": 18,
   "id": "4dd7a4f0-d938-4109-b0a3-e44f0f29c22e",
   "metadata": {},
   "outputs": [
    {
     "data": {
      "text/plain": [
       "torch.Size([1, 16, 5, 5])"
      ]
     },
     "execution_count": 18,
     "metadata": {},
     "output_type": "execute_result"
    }
   ],
   "source": [
    "x.shape"
   ]
  },
  {
   "cell_type": "code",
   "execution_count": 19,
   "id": "79435747-767b-425f-95cd-064b3b7d79da",
   "metadata": {},
   "outputs": [
    {
     "data": {
      "text/plain": [
       "5.5"
      ]
     },
     "execution_count": 19,
     "metadata": {},
     "output_type": "execute_result"
    }
   ],
   "source": [
    "((28-2)/2-2)/2 # how to get 5"
   ]
  },
  {
   "cell_type": "code",
   "execution_count": 20,
   "id": "efcc83cd-a372-45bc-8931-a4d918562c60",
   "metadata": {},
   "outputs": [
    {
     "data": {
      "text/plain": [
       "torch.Size([1, 400])"
      ]
     },
     "execution_count": 20,
     "metadata": {},
     "output_type": "execute_result"
    }
   ],
   "source": [
    "x.view(-1,16*5*5).shape # keep first dimension, 16*5*5 to flatten"
   ]
  },
  {
   "cell_type": "code",
   "execution_count": 21,
   "id": "8af9d4fb-5f99-4f8a-a8fe-2106d5fc4e36",
   "metadata": {},
   "outputs": [],
   "source": [
    "class ConvolutionalNetwork(nn.Module):\n",
    "    def __init__(self):\n",
    "        super().__init__()\n",
    "        self.conv1 = nn.Conv2d(1,6,3,1)\n",
    "        self.conv2 = nn.Conv2d(6,16,3,1)\n",
    "        self.fc1 = nn.Linear(5*5*16, 120)\n",
    "        self.fc2 = nn.Linear(120, 84)\n",
    "        self.fc3 = nn.Linear(84,10)\n",
    "\n",
    "    def forward(self, X):\n",
    "        X = F.relu(self.conv1(X))\n",
    "        X = F.max_pool2d(X,2,2)\n",
    "        X = F.relu(self.conv2(X))\n",
    "        X = F.max_pool2d(X,2,2)\n",
    "        X = X.view(-1,16*5*5)\n",
    "        X = F.relu(self.fc1(X))\n",
    "        X = F.relu(self.fc2(X))\n",
    "        X = self.fc3(X)\n",
    "\n",
    "        return F.log_softmax(X, dim=1)"
   ]
  },
  {
   "cell_type": "code",
   "execution_count": 22,
   "id": "3945fd97-74c0-4354-8513-19a997ca5dca",
   "metadata": {},
   "outputs": [
    {
     "data": {
      "text/plain": [
       "ConvolutionalNetwork(\n",
       "  (conv1): Conv2d(1, 6, kernel_size=(3, 3), stride=(1, 1))\n",
       "  (conv2): Conv2d(6, 16, kernel_size=(3, 3), stride=(1, 1))\n",
       "  (fc1): Linear(in_features=400, out_features=120, bias=True)\n",
       "  (fc2): Linear(in_features=120, out_features=84, bias=True)\n",
       "  (fc3): Linear(in_features=84, out_features=10, bias=True)\n",
       ")"
      ]
     },
     "execution_count": 22,
     "metadata": {},
     "output_type": "execute_result"
    }
   ],
   "source": [
    "torch.manual_seed(42)\n",
    "model = ConvolutionalNetwork()\n",
    "model"
   ]
  },
  {
   "cell_type": "code",
   "execution_count": 23,
   "id": "cc2d104b-ba1d-4472-914f-1b4b5fa8581c",
   "metadata": {},
   "outputs": [
    {
     "name": "stdout",
     "output_type": "stream",
     "text": [
      "54\n",
      "6\n",
      "864\n",
      "16\n",
      "48000\n",
      "120\n",
      "10080\n",
      "84\n",
      "840\n",
      "10\n"
     ]
    }
   ],
   "source": [
    "for param in model.parameters():\n",
    "    print(param.numel())\n",
    "\n",
    "# total = 60074"
   ]
  },
  {
   "cell_type": "code",
   "execution_count": 24,
   "id": "a150eb6d-5b51-4215-bd70-bbf90ee49976",
   "metadata": {},
   "outputs": [],
   "source": [
    "criterion = nn.CrossEntropyLoss()\n",
    "optimizer = torch.optim.Adam(model.parameters(), lr=0.001)"
   ]
  },
  {
   "cell_type": "code",
   "execution_count": 25,
   "id": "beb1e226-4046-47d2-9e81-03bdd51cafe8",
   "metadata": {},
   "outputs": [
    {
     "name": "stdout",
     "output_type": "stream",
     "text": [
      "epoch: 0 batch: 600 loss: 0.042550645768642426\n",
      "epoch: 0 batch: 1200 loss: 0.0760595053434372\n",
      "epoch: 0 batch: 1800 loss: 0.3099583685398102\n",
      "epoch: 0 batch: 2400 loss: 0.02055153250694275\n",
      "epoch: 0 batch: 3000 loss: 0.007200016640126705\n",
      "epoch: 0 batch: 3600 loss: 0.002412100089713931\n",
      "epoch: 0 batch: 4200 loss: 0.5767076015472412\n",
      "epoch: 0 batch: 4800 loss: 0.06680990010499954\n",
      "epoch: 0 batch: 5400 loss: 0.00852256827056408\n",
      "epoch: 0 batch: 6000 loss: 0.061696767807006836\n",
      "epoch: 1 batch: 600 loss: 0.021697062999010086\n",
      "epoch: 1 batch: 1200 loss: 0.04175395518541336\n",
      "epoch: 1 batch: 1800 loss: 0.003502133535221219\n",
      "epoch: 1 batch: 2400 loss: 0.02740946039557457\n",
      "epoch: 1 batch: 3000 loss: 0.3473083972930908\n",
      "epoch: 1 batch: 3600 loss: 0.001055808155797422\n",
      "epoch: 1 batch: 4200 loss: 0.0015334103954955935\n",
      "epoch: 1 batch: 4800 loss: 0.0008102000574581325\n",
      "epoch: 1 batch: 5400 loss: 0.006761348806321621\n",
      "epoch: 1 batch: 6000 loss: 0.014358989894390106\n",
      "epoch: 2 batch: 600 loss: 0.0011277158046141267\n",
      "epoch: 2 batch: 1200 loss: 0.004799305461347103\n",
      "epoch: 2 batch: 1800 loss: 0.0006651489529758692\n",
      "epoch: 2 batch: 2400 loss: 0.00048031314508989453\n",
      "epoch: 2 batch: 3000 loss: 0.13310793042182922\n",
      "epoch: 2 batch: 3600 loss: 0.012317303568124771\n",
      "epoch: 2 batch: 4200 loss: 0.03873712196946144\n",
      "epoch: 2 batch: 4800 loss: 0.004281901754438877\n",
      "epoch: 2 batch: 5400 loss: 0.00040284922579303384\n",
      "epoch: 2 batch: 6000 loss: 9.717837383504957e-05\n",
      "epoch: 3 batch: 600 loss: 0.000974284834228456\n",
      "epoch: 3 batch: 1200 loss: 0.0008481705444864929\n",
      "epoch: 3 batch: 1800 loss: 0.000743067474104464\n",
      "epoch: 3 batch: 2400 loss: 0.00047108400030992925\n",
      "epoch: 3 batch: 3000 loss: 0.013880699872970581\n",
      "epoch: 3 batch: 3600 loss: 0.005650343373417854\n",
      "epoch: 3 batch: 4200 loss: 0.003388396929949522\n",
      "epoch: 3 batch: 4800 loss: 0.02909984067082405\n",
      "epoch: 3 batch: 5400 loss: 0.013074876740574837\n",
      "epoch: 3 batch: 6000 loss: 0.013943478465080261\n",
      "epoch: 4 batch: 600 loss: 0.004165962804108858\n",
      "epoch: 4 batch: 1200 loss: 0.1502198725938797\n",
      "epoch: 4 batch: 1800 loss: 0.0001791893009794876\n",
      "epoch: 4 batch: 2400 loss: 0.000511044287122786\n",
      "epoch: 4 batch: 3000 loss: 0.0020615605171769857\n",
      "epoch: 4 batch: 3600 loss: 9.806863818084821e-05\n",
      "epoch: 4 batch: 4200 loss: 0.014314820058643818\n",
      "epoch: 4 batch: 4800 loss: 0.007088630460202694\n",
      "epoch: 4 batch: 5400 loss: 7.511438161600381e-05\n",
      "epoch: 4 batch: 6000 loss: 0.002920454367995262\n",
      "training took 1.052281133333842 minutes\n"
     ]
    }
   ],
   "source": [
    "import time\n",
    "start_time = time.time()\n",
    "\n",
    "# variables (trackers)\n",
    "epochs = 5\n",
    "train_losses = []\n",
    "test_losses = []\n",
    "train_correct = []\n",
    "test_correct = []\n",
    "\n",
    "# for loop epochs\n",
    "for i in range(epochs):\n",
    "    trn_corr = 0\n",
    "    tst_corr = 0\n",
    "\n",
    "    # train\n",
    "    for b, (X_train, y_train) in enumerate(train_loader):\n",
    "        b += 1\n",
    "\n",
    "        y_pred = model(X_train) # not flatten (no longer needed cuz 2d data is required for conv2d)\n",
    "        loss = criterion(y_pred, y_train)\n",
    "\n",
    "        predicted = torch.max(y_pred.data,1)[1]\n",
    "        batch_corr = (predicted == y_train).sum() # true = 1 / false = 0\n",
    "        trn_corr += batch_corr\n",
    "\n",
    "        optimizer.zero_grad()\n",
    "        loss.backward()\n",
    "        optimizer.step()\n",
    "\n",
    "        if b%600 == 0:\n",
    "            print(f\"epoch: {i} batch: {b} loss: {loss.item()}\")\n",
    "\n",
    "    train_losses.append(loss.item())\n",
    "    train_correct.append(trn_corr)\n",
    "\n",
    "    # test\n",
    "    with torch.no_grad():\n",
    "        for b, (X_test, y_test) in enumerate(test_loader):\n",
    "\n",
    "            y_val = model(X_test)\n",
    "\n",
    "            predicted = torch.max(y_val.data,1)[1]\n",
    "            tst_corr += (predicted == y_test).sum()\n",
    "\n",
    "    loss = criterion(y_val, y_test)\n",
    "    test_losses.append(loss.item())\n",
    "    test_correct.append(tst_corr)\n",
    "\n",
    "\n",
    "current_time = time.time()\n",
    "total = current_time - start_time\n",
    "print(f\"training took {total/60} minutes\")"
   ]
  },
  {
   "cell_type": "code",
   "execution_count": 28,
   "id": "cce4a914-c2b7-4050-9740-d87f8b75a706",
   "metadata": {},
   "outputs": [
    {
     "data": {
      "text/plain": [
       "<matplotlib.legend.Legend at 0x7fe853758f20>"
      ]
     },
     "execution_count": 28,
     "metadata": {},
     "output_type": "execute_result"
    },
    {
     "data": {
      "image/png": "[encoded data removed]",
      "text/plain": [
       "<Figure size 640x480 with 1 Axes>"
      ]
     },
     "metadata": {},
     "output_type": "display_data"
    }
   ],
   "source": [
    "plt.plot(train_losses, label='train loss')\n",
    "plt.plot(test_losses, label='validation loss')\n",
    "plt.title('loss at epoch')\n",
    "plt.legend()"
   ]
  },
  {
   "cell_type": "code",
   "execution_count": 30,
   "id": "5b05f78f-2785-48b5-a60b-6de89d3c8341",
   "metadata": {},
   "outputs": [
    {
     "data": {
      "text/plain": [
       "<matplotlib.legend.Legend at 0x7fe84209e420>"
      ]
     },
     "execution_count": 30,
     "metadata": {},
     "output_type": "execute_result"
    },
    {
     "data": {
      "image/png": "[encoded data removed]",
      "text/plain": [
       "<Figure size 640x480 with 1 Axes>"
      ]
     },
     "metadata": {},
     "output_type": "display_data"
    }
   ],
   "source": [
    "plt.plot([t/600 for t in train_correct], label='training accuracy')\n",
    "plt.plot([t/100 for t in test_correct], label='validation accuracy')\n",
    "plt.title('accuracy at the end of each epoch')\n",
    "plt.legend()"
   ]
  },
  {
   "cell_type": "code",
   "execution_count": 31,
   "id": "355afffa-1279-449f-9e4f-03cab0a0188b",
   "metadata": {},
   "outputs": [],
   "source": [
    "test_load_all = DataLoader(test_data, batch_size=10000, shuffle=False)"
   ]
  },
  {
   "cell_type": "code",
   "execution_count": 33,
   "id": "9e84fc6d-f50e-4de2-aef0-1bf8e6ddbda7",
   "metadata": {},
   "outputs": [],
   "source": [
    "with torch.no_grad():\n",
    "    correct = 0\n",
    "    for X_test, y_test in test_load_all:\n",
    "        y_val = model(X_test)\n",
    "        predicted = torch.max(y_val,1)[1]\n",
    "        correct += (predicted == y_test).sum()"
   ]
  },
  {
   "cell_type": "code",
   "execution_count": 34,
   "id": "2c624e5e-320e-48ed-b8f2-a14dd95148af",
   "metadata": {},
   "outputs": [
    {
     "data": {
      "text/plain": [
       "0.9865"
      ]
     },
     "execution_count": 34,
     "metadata": {},
     "output_type": "execute_result"
    }
   ],
   "source": [
    "correct.item()/len(test_data)"
   ]
  },
  {
   "cell_type": "code",
   "execution_count": 36,
   "id": "bf117808-d8ab-4195-aaf9-fbb42842dfff",
   "metadata": {},
   "outputs": [
    {
     "name": "stdout",
     "output_type": "stream",
     "text": [
      "[[   0    1    2    3    4    5    6    7    8    9]]\n",
      "\n",
      "[[ 969    0    0    0    0    2    3    0    3    0]\n",
      " [   0 1134    0    0    0    1    3    5    0    1]\n",
      " [   4    0 1027    4    1    0    1    6    4    2]\n",
      " [   0    1    0 1000    0    8    0    0    1    1]\n",
      " [   0    0    1    0  975    0    1    2    2   12]\n",
      " [   0    0    0    3    0  871    2    0    0    4]\n",
      " [   5    0    0    0    4    3  945    0    1    1]\n",
      " [   1    0    4    1    0    1    0 1012    0    8]\n",
      " [   1    0    0    1    0    2    3    1  963   11]\n",
      " [   0    0    0    1    2    4    0    2    0  969]]\n"
     ]
    }
   ],
   "source": [
    "# print a raw values for reference\n",
    "np.set_printoptions(formatter=dict(int=lambda x: f'{x:4}'))\n",
    "print(np.arange(10).reshape(1,10))\n",
    "print()\n",
    "\n",
    "# print confusion matrix\n",
    "print(confusion_matrix(predicted.view(-1), y_test.view(-1)))"
   ]
  },
  {
   "cell_type": "code",
   "execution_count": 41,
   "id": "7734a251-188a-473e-a2ae-f3b0bb2c77ce",
   "metadata": {},
   "outputs": [
    {
     "data": {
      "text/plain": [
       "<matplotlib.image.AxesImage at 0x7fe840d63a40>"
      ]
     },
     "execution_count": 41,
     "metadata": {},
     "output_type": "execute_result"
    },
    {
     "data": {
      "image/png": "[encoded data removed]",
      "text/plain": [
       "<Figure size 640x480 with 1 Axes>"
      ]
     },
     "metadata": {},
     "output_type": "display_data"
    }
   ],
   "source": [
    "plt.imshow(test_data[333][0].reshape(28,28))"
   ]
  },
  {
   "cell_type": "code",
   "execution_count": 42,
   "id": "8c9a78da-a6bd-4cc9-8b73-097bcd75e0c8",
   "metadata": {},
   "outputs": [],
   "source": [
    "model.eval()\n",
    "with torch.no_grad():\n",
    "    new_prediction = model(test_data[333][0].view(1,1,28,28))"
   ]
  },
  {
   "cell_type": "code",
   "execution_count": 43,
   "id": "c85c392e-3fbb-457a-9f89-5130d93d487e",
   "metadata": {},
   "outputs": [
    {
     "data": {
      "text/plain": [
       "tensor(5)"
      ]
     },
     "execution_count": 43,
     "metadata": {},
     "output_type": "execute_result"
    }
   ],
   "source": [
    "new_prediction.argmax()"
   ]
  },
  {
   "cell_type": "code",
   "execution_count": null,
   "id": "20705823-dcc9-4a11-89fa-281bba77d1eb",
   "metadata": {},
   "outputs": [],
   "source": []
  }
 ],
 "metadata": {
  "kernelspec": {
   "display_name": "Python 3 (ipykernel)",
   "language": "python",
   "name": "python3"
  },
  "language_info": {
   "codemirror_mode": {
    "name": "ipython",
    "version": 3
   },
   "file_extension": ".py",
   "mimetype": "text/x-python",
   "name": "python",
   "nbconvert_exporter": "python",
   "pygments_lexer": "ipython3",
   "version": "3.12.4"
  }
 },
 "nbformat": 4,
 "nbformat_minor": 5
}
