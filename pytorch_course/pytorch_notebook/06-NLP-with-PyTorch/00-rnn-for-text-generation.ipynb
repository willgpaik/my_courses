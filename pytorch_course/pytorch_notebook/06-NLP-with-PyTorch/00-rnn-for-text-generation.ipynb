{
 "cells": [
  {
   "cell_type": "code",
   "execution_count": 1,
   "id": "3749fc82-c5c6-4e2f-88d9-e7114698ac0c",
   "metadata": {},
   "outputs": [],
   "source": [
    "import torch\n",
    "from torch import nn\n",
    "import torch.nn.functional as F"
   ]
  },
  {
   "cell_type": "code",
   "execution_count": 2,
   "id": "9089a985-5946-4d93-8597-38a47250ce25",
   "metadata": {},
   "outputs": [],
   "source": [
    "import numpy as np\n",
    "import matplotlib.pyplot as plt"
   ]
  },
  {
   "cell_type": "code",
   "execution_count": 3,
   "id": "85ff2f6a-e065-4a7f-88dc-0a2db7e9b43f",
   "metadata": {},
   "outputs": [],
   "source": [
    "with open('../Data/shakespeare.txt','r',encoding='utf8') as f:\n",
    "    text = f.read()"
   ]
  },
  {
   "cell_type": "code",
   "execution_count": 4,
   "id": "b7b15621-fdab-443f-baa5-165b67bd0042",
   "metadata": {},
   "outputs": [
    {
     "data": {
      "text/plain": [
       "str"
      ]
     },
     "execution_count": 4,
     "metadata": {},
     "output_type": "execute_result"
    }
   ],
   "source": [
    "type(text)"
   ]
  },
  {
   "cell_type": "code",
   "execution_count": 5,
   "id": "3c32051b-c05a-4767-b13e-ec772493d9b5",
   "metadata": {},
   "outputs": [
    {
     "name": "stdout",
     "output_type": "stream",
     "text": [
      "\n",
      "                     1\n",
      "  From fairest creatures we desire increase,\n",
      "  That thereby beauty's rose might never die,\n",
      "  But as the riper should by time decease,\n",
      "  His tender heir might bear his memory:\n",
      "  But thou contracted to thine own bright eyes,\n",
      "  Feed'st thy light's flame with self-substantial fuel,\n",
      "  Making a famine where abundance lies,\n",
      "  Thy self thy foe, to thy sweet self too cruel:\n",
      "  Thou that art now the world's fresh ornament,\n",
      "  And only herald to the gaudy spring,\n",
      "  Within thine own bud buriest thy content,\n",
      "  And tender churl mak'st waste in niggarding:\n",
      "    Pity the world, or else this glutton be,\n",
      "    To eat the world's due, by the grave and thee.\n",
      "\n",
      "\n",
      "                     2\n",
      "  When forty winters shall besiege thy brow,\n",
      "  And dig deep trenches in thy beauty's field,\n",
      "  Thy youth's proud livery so gazed on now,\n",
      "  Will be a tattered weed of small worth held:  \n",
      "  Then being asked, where all thy beauty lies,\n",
      "  Where all the treasure of thy lusty days;\n",
      "  To say within thine own deep su\n"
     ]
    }
   ],
   "source": [
    "print(text[:1000])"
   ]
  },
  {
   "cell_type": "code",
   "execution_count": 6,
   "id": "743add13-1a8c-41d4-b5e8-a88bc9d9fd5a",
   "metadata": {},
   "outputs": [
    {
     "data": {
      "text/plain": [
       "5445609"
      ]
     },
     "execution_count": 6,
     "metadata": {},
     "output_type": "execute_result"
    }
   ],
   "source": [
    "len(text)"
   ]
  },
  {
   "cell_type": "code",
   "execution_count": 7,
   "id": "3e426e55-2346-4ded-a5ca-ade50af7153a",
   "metadata": {},
   "outputs": [],
   "source": [
    "all_characters = set(text)"
   ]
  },
  {
   "cell_type": "code",
   "execution_count": 8,
   "id": "c7b1d7e1-a857-46a6-a3c4-4c8664f46d2a",
   "metadata": {},
   "outputs": [
    {
     "data": {
      "text/plain": [
       "84"
      ]
     },
     "execution_count": 8,
     "metadata": {},
     "output_type": "execute_result"
    }
   ],
   "source": [
    "len(all_characters)"
   ]
  },
  {
   "cell_type": "code",
   "execution_count": 9,
   "id": "b53b4fa7-405d-426f-9b37-57e766a4b81b",
   "metadata": {},
   "outputs": [],
   "source": [
    "# number of value ---> letter\n",
    "decoder = dict(enumerate(all_characters))"
   ]
  },
  {
   "cell_type": "code",
   "execution_count": 10,
   "id": "3927b319-796d-4e36-8b8d-090b81ca6b58",
   "metadata": {},
   "outputs": [],
   "source": [
    "#decoder"
   ]
  },
  {
   "cell_type": "code",
   "execution_count": 11,
   "id": "794f5a8b-6f1b-485f-8a9c-4c83cad02cb2",
   "metadata": {},
   "outputs": [],
   "source": [
    "# letter ---> corresponding number\n",
    "encoder = {char: idx for idx,char in decoder.items()}"
   ]
  },
  {
   "cell_type": "code",
   "execution_count": 12,
   "id": "a24b2c30-1a29-4ff5-8ab2-8c4c6ff1372f",
   "metadata": {},
   "outputs": [],
   "source": [
    "#encoder"
   ]
  },
  {
   "cell_type": "code",
   "execution_count": 13,
   "id": "887e0feb-52a0-4420-a6dc-21500741ceb4",
   "metadata": {},
   "outputs": [],
   "source": [
    "encoded_text = np.array([encoder[char] for char in text])"
   ]
  },
  {
   "cell_type": "code",
   "execution_count": 14,
   "id": "955792cc-ed99-4c1c-8aab-edcb1ca65be5",
   "metadata": {},
   "outputs": [
    {
     "data": {
      "text/plain": [
       "array([83, 43, 43, 43, 43, 43, 43, 43, 43, 43, 43, 43, 43, 43, 43, 43, 43,\n",
       "       43, 43, 43, 43, 43, 72, 83, 43, 43, 67, 35, 44, 82, 43, 21, 22, 77,\n",
       "       35, 50, 62, 31, 43, 42, 35, 50, 22, 31, 65, 35, 50, 62, 43,  7, 50,\n",
       "       43, 69, 50, 62, 77, 35, 50, 43, 77, 73, 42, 35, 50, 22, 62, 50, 38,\n",
       "       83, 43, 43, 59, 34, 22, 31, 43, 31, 34, 50, 35, 50, 15, 53, 43, 15,\n",
       "       50, 22, 65, 31, 53, 54, 62, 43, 35, 44, 62, 50, 43, 82, 77, 63, 34,\n",
       "       31, 43, 73, 50, 13, 50, 35, 43, 69, 77, 50, 38, 83, 43, 43, 18, 65,\n",
       "       31, 43, 22, 62, 43, 31, 34, 50, 43, 35, 77, 55, 50, 35, 43, 62, 34,\n",
       "       44, 65, 29, 69, 43, 15, 53, 43, 31, 77, 82, 50, 43, 69, 50, 42, 50,\n",
       "       22, 62, 50, 38, 83, 43, 43, 56, 77, 62, 43, 31, 50, 73, 69, 50, 35,\n",
       "       43, 34, 50, 77, 35, 43, 82, 77, 63, 34, 31, 43, 15, 50, 22, 35, 43,\n",
       "       34, 77, 62, 43, 82, 50, 82, 44, 35, 53, 11, 83, 43, 43, 18, 65, 31,\n",
       "       43, 31, 34, 44, 65, 43, 42, 44, 73, 31, 35, 22, 42, 31, 50, 69, 43,\n",
       "       31, 44, 43, 31, 34, 77, 73, 50, 43, 44,  7, 73, 43, 15, 35, 77, 63,\n",
       "       34, 31, 43, 50, 53, 50, 62, 38, 83, 43, 43, 67, 50, 50, 69, 54, 62,\n",
       "       31, 43, 31, 34, 53, 43, 29, 77, 63, 34, 31, 54, 62, 43, 21, 29, 22,\n",
       "       82, 50, 43,  7, 77, 31, 34, 43, 62, 50, 29, 21,  5, 62, 65, 15, 62,\n",
       "       31, 22, 73, 31, 77, 22, 29, 43, 21, 65, 50, 29, 38, 83, 43, 43,  3,\n",
       "       22,  6, 77, 73, 63, 43, 22, 43, 21, 22, 82, 77, 73, 50, 43,  7, 34,\n",
       "       50, 35, 50, 43, 22, 15, 65, 73, 69, 22, 73, 42, 50, 43, 29, 77, 50,\n",
       "       62, 38, 83, 43, 43, 59, 34, 53, 43, 62, 50, 29, 21, 43, 31, 34, 53,\n",
       "       43, 21, 44, 50, 38, 43, 31, 44, 43, 31, 34, 53, 43, 62,  7, 50, 50,\n",
       "       31, 43, 62, 50, 29, 21, 43, 31, 44, 44, 43, 42, 35, 65, 50, 29, 11,\n",
       "       83, 43, 43, 59, 34, 44, 65, 43, 31, 34, 22, 31, 43, 22, 35, 31, 43,\n",
       "       73, 44,  7, 43, 31, 34, 50, 43,  7, 44, 35, 29, 69, 54, 62, 43, 21,\n",
       "       35, 50, 62, 34, 43, 44, 35, 73, 22, 82, 50, 73, 31, 38, 83, 43, 43,\n",
       "       68, 73, 69, 43, 44, 73, 29, 53, 43, 34, 50, 35, 22, 29, 69, 43, 31,\n",
       "       44, 43, 31, 34, 50, 43, 63, 22, 65, 69, 53, 43, 62, 55, 35, 77, 73,\n",
       "       63, 38, 83, 43, 43, 51, 77, 31, 34, 77, 73, 43, 31, 34, 77, 73, 50,\n",
       "       43, 44,  7, 73, 43, 15, 65])"
      ]
     },
     "execution_count": 14,
     "metadata": {},
     "output_type": "execute_result"
    }
   ],
   "source": [
    "encoded_text[:500]"
   ]
  },
  {
   "cell_type": "code",
   "execution_count": 16,
   "id": "e6fc5fcc-c7b2-4477-92d3-3e9f8b3b9435",
   "metadata": {},
   "outputs": [
    {
     "data": {
      "text/plain": [
       "' '"
      ]
     },
     "execution_count": 16,
     "metadata": {},
     "output_type": "execute_result"
    }
   ],
   "source": [
    "decoder[43]"
   ]
  },
  {
   "cell_type": "code",
   "execution_count": 23,
   "id": "2dd85ce2-036e-4db3-b5a6-85fff031040b",
   "metadata": {},
   "outputs": [],
   "source": [
    "def one_hot_encoder(encoded_text, num_uni_chars):\n",
    "    # encoded text ---> batch of encoded text\n",
    "    # num_uni_chars ---> len(set(text))\n",
    "\n",
    "    one_hot = np.zeros((encoded_text.size, num_uni_chars))\n",
    "\n",
    "    # convert data type\n",
    "    one_hot = one_hot.astype(np.float32)\n",
    "\n",
    "    # set values to 1 for each corresponding character (i.e. 0, 0, 0, 0, ..., 1(43rd position), 0, 0, ...) for ' ' (space)\n",
    "    one_hot[np.arange(one_hot.shape[0]), encoded_text.flatten()] = 1.0\n",
    "\n",
    "    one_hot = one_hot.reshape((*encoded_text.shape, num_uni_chars))\n",
    "\n",
    "    return one_hot"
   ]
  },
  {
   "cell_type": "code",
   "execution_count": 20,
   "id": "df9fccfd-3561-4784-bb3a-69de41e8f557",
   "metadata": {},
   "outputs": [],
   "source": [
    "arr = np.array([1,2,0])"
   ]
  },
  {
   "cell_type": "code",
   "execution_count": 21,
   "id": "590c7885-a7ea-475d-89ea-62dd882d751a",
   "metadata": {},
   "outputs": [
    {
     "data": {
      "text/plain": [
       "array([1, 2, 0])"
      ]
     },
     "execution_count": 21,
     "metadata": {},
     "output_type": "execute_result"
    }
   ],
   "source": [
    "arr"
   ]
  },
  {
   "cell_type": "code",
   "execution_count": 25,
   "id": "1d485e21-9816-489e-bf12-43e3f73de37c",
   "metadata": {},
   "outputs": [
    {
     "data": {
      "text/plain": [
       "array([[0., 1., 0.],\n",
       "       [0., 0., 1.],\n",
       "       [1., 0., 0.]], dtype=float32)"
      ]
     },
     "execution_count": 25,
     "metadata": {},
     "output_type": "execute_result"
    }
   ],
   "source": [
    "# for idx 1 of row 1 -> 1, idx 2 of row 2 -> 1, and idx 0 of row 2 -> 1\n",
    "one_hot_encoder(arr, 3)"
   ]
  },
  {
   "cell_type": "code",
   "execution_count": null,
   "id": "a2ffe010-2a5c-4b5d-8f50-b692ac7c8b57",
   "metadata": {},
   "outputs": [],
   "source": []
  }
 ],
 "metadata": {
  "kernelspec": {
   "display_name": "Python 3 (ipykernel)",
   "language": "python",
   "name": "python3"
  },
  "language_info": {
   "codemirror_mode": {
    "name": "ipython",
    "version": 3
   },
   "file_extension": ".py",
   "mimetype": "text/x-python",
   "name": "python",
   "nbconvert_exporter": "python",
   "pygments_lexer": "ipython3",
   "version": "3.12.4"
  }
 },
 "nbformat": 4,
 "nbformat_minor": 5
}
