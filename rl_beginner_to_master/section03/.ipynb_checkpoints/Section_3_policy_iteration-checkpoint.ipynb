{
 "cells": [
  {
   "cell_type": "markdown",
   "metadata": {
    "id": "b9jmpP4J6VbY",
    "pycharm": {
     "name": "#%%\n"
    }
   },
   "source": [
    "<div style=\"text-align:center\">\n",
    "    <h1>\n",
    "        Policy Iteration\n",
    "    </h1>\n",
    "</div>\n",
    "<br>\n",
    "\n",
    "<div style=\"text-align:center\">\n",
    "    <p>\n",
    "        In this notebook we are going to look at a dynamic programming algorithm called policy iteration. In it, we will iteratively interleave two processes: policy evaluation and policy improvement, until the optimal policy and state values are found.\n",
    "    </p>\n",
    "</div>\n",
    "\n",
    "<br>"
   ]
  },
  {
   "cell_type": "code",
   "execution_count": 1,
   "metadata": {
    "cellView": "form",
    "id": "dnULhrB06fg1"
   },
   "outputs": [
    {
     "name": "stderr",
     "output_type": "stream",
     "text": [
      "<frozen importlib._bootstrap>:488: RuntimeWarning: Your system is avx2 capable but pygame was not built with support for it. The performance of some of your blits could be adversely affected. Consider enabling compile time detection with environment variables like PYGAME_DETECT_AVX2=1 if you are compiling without cross compilation.\n"
     ]
    }
   ],
   "source": [
    "# @title Setup code (not important) - Run this cell by pressing \"Shift + Enter\"\n",
    "\n",
    "\n",
    "\n",
    "!pip install -qq gym==0.23.0\n",
    "\n",
    "\n",
    "from typing import Tuple, Dict, Optional, Iterable, Callable\n",
    "\n",
    "import numpy as np\n",
    "import seaborn as sns\n",
    "import matplotlib\n",
    "from matplotlib import animation\n",
    "\n",
    "from IPython.display import HTML\n",
    "\n",
    "import gym\n",
    "from gym import spaces\n",
    "from gym.error import DependencyNotInstalled\n",
    "\n",
    "import pygame\n",
    "from pygame import gfxdraw\n",
    "\n",
    "\n",
    "class Maze(gym.Env):\n",
    "\n",
    "    def __init__(self, exploring_starts: bool = False,\n",
    "                 shaped_rewards: bool = False, size: int = 5) -> None:\n",
    "        super().__init__()\n",
    "        self.exploring_starts = exploring_starts\n",
    "        self.shaped_rewards = shaped_rewards\n",
    "        self.state = (size - 1, size - 1)\n",
    "        self.goal = (size - 1, size - 1)\n",
    "        self.maze = self._create_maze(size=size)\n",
    "        self.distances = self._compute_distances(self.goal, self.maze)\n",
    "        self.action_space = spaces.Discrete(n=4)\n",
    "        self.action_space.action_meanings = {0: 'UP', 1: 'RIGHT', 2: 'DOWN', 3: \"LEFT\"}\n",
    "        self.observation_space = spaces.MultiDiscrete([size, size])\n",
    "\n",
    "        self.screen = None\n",
    "        self.agent_transform = None\n",
    "\n",
    "    def step(self, action: int) -> Tuple[Tuple[int, int], float, bool, Dict]:\n",
    "        reward = self.compute_reward(self.state, action)\n",
    "        self.state = self._get_next_state(self.state, action)\n",
    "        done = self.state == self.goal\n",
    "        info = {}\n",
    "        return self.state, reward, done, info\n",
    "\n",
    "    def reset(self) -> Tuple[int, int]:\n",
    "        if self.exploring_starts:\n",
    "            while self.state == self.goal:\n",
    "                self.state = tuple(self.observation_space.sample())\n",
    "        else:\n",
    "            self.state = (0, 0)\n",
    "        return self.state\n",
    "\n",
    "    def render(self, mode: str = 'human') -> Optional[np.ndarray]:\n",
    "        assert mode in ['human', 'rgb_array']\n",
    "\n",
    "        screen_size = 600\n",
    "        scale = screen_size / 5\n",
    "\n",
    "        if self.screen is None:\n",
    "            pygame.init()\n",
    "            self.screen = pygame.Surface((screen_size, screen_size))\n",
    "\n",
    "        surf = pygame.Surface((screen_size, screen_size))\n",
    "        surf.fill((22, 36, 71))\n",
    "\n",
    "\n",
    "        for row in range(5):\n",
    "            for col in range(5):\n",
    "\n",
    "                state = (row, col)\n",
    "                for next_state in [(row + 1, col), (row - 1, col), (row, col + 1), (row, col - 1)]:\n",
    "                    if next_state not in self.maze[state]:\n",
    "\n",
    "                        # Add the geometry of the edges and walls (i.e. the boundaries between\n",
    "                        # adjacent squares that are not connected).\n",
    "                        row_diff, col_diff = np.subtract(next_state, state)\n",
    "                        left = (col + (col_diff > 0)) * scale - 2 * (col_diff != 0)\n",
    "                        right = ((col + 1) - (col_diff < 0)) * scale + 2 * (col_diff != 0)\n",
    "                        top = (5 - (row + (row_diff > 0))) * scale - 2 * (row_diff != 0)\n",
    "                        bottom = (5 - ((row + 1) - (row_diff < 0))) * scale + 2 * (row_diff != 0)\n",
    "\n",
    "                        gfxdraw.filled_polygon(surf, [(left, bottom), (left, top), (right, top), (right, bottom)], (255, 255, 255))\n",
    "\n",
    "        # Add the geometry of the goal square to the viewer.\n",
    "        left, right, top, bottom = scale * 4 + 10, scale * 5 - 10, scale - 10, 10\n",
    "        gfxdraw.filled_polygon(surf, [(left, bottom), (left, top), (right, top), (right, bottom)], (40, 199, 172))\n",
    "\n",
    "        # Add the geometry of the agent to the viewer.\n",
    "        agent_row = int(screen_size - scale * (self.state[0] + .5))\n",
    "        agent_col = int(scale * (self.state[1] + .5))\n",
    "        gfxdraw.filled_circle(surf, agent_col, agent_row, int(scale * .6 / 2), (228, 63, 90))\n",
    "\n",
    "        surf = pygame.transform.flip(surf, False, True)\n",
    "        self.screen.blit(surf, (0, 0))\n",
    "\n",
    "        return np.transpose(\n",
    "                np.array(pygame.surfarray.pixels3d(self.screen)), axes=(1, 0, 2)\n",
    "            )\n",
    "\n",
    "    def close(self) -> None:\n",
    "        if self.screen is not None:\n",
    "            pygame.display.quit()\n",
    "            pygame.quit()\n",
    "            self.screen = None\n",
    "\n",
    "    def compute_reward(self, state: Tuple[int, int], action: int) -> float:\n",
    "        next_state = self._get_next_state(state, action)\n",
    "        if self.shaped_rewards:\n",
    "            return - (self.distances[next_state] / self.distances.max())\n",
    "        return - float(state != self.goal)\n",
    "\n",
    "    def simulate_step(self, state: Tuple[int, int], action: int):\n",
    "        reward = self.compute_reward(state, action)\n",
    "        next_state = self._get_next_state(state, action)\n",
    "        done = next_state == self.goal\n",
    "        info = {}\n",
    "        return next_state, reward, done, info\n",
    "\n",
    "    def _get_next_state(self, state: Tuple[int, int], action: int) -> Tuple[int, int]:\n",
    "        if action == 0:\n",
    "            next_state = (state[0] - 1, state[1])\n",
    "        elif action == 1:\n",
    "            next_state = (state[0], state[1] + 1)\n",
    "        elif action == 2:\n",
    "            next_state = (state[0] + 1, state[1])\n",
    "        elif action == 3:\n",
    "            next_state = (state[0], state[1] - 1)\n",
    "        else:\n",
    "            raise ValueError(\"Action value not supported:\", action)\n",
    "        if next_state in self.maze[state]:\n",
    "            return next_state\n",
    "        return state\n",
    "\n",
    "    @staticmethod\n",
    "    def _create_maze(size: int) -> Dict[Tuple[int, int], Iterable[Tuple[int, int]]]:\n",
    "        maze = {(row, col): [(row - 1, col), (row + 1, col), (row, col - 1), (row, col + 1)]\n",
    "                for row in range(size) for col in range(size)}\n",
    "\n",
    "        left_edges = [[(row, 0), (row, -1)] for row in range(size)]\n",
    "        right_edges = [[(row, size - 1), (row, size)] for row in range(size)]\n",
    "        upper_edges = [[(0, col), (-1, col)] for col in range(size)]\n",
    "        lower_edges = [[(size - 1, col), (size, col)] for col in range(size)]\n",
    "        walls = [\n",
    "            [(1, 0), (1, 1)], [(2, 0), (2, 1)], [(3, 0), (3, 1)],\n",
    "            [(1, 1), (1, 2)], [(2, 1), (2, 2)], [(3, 1), (3, 2)],\n",
    "            [(3, 1), (4, 1)], [(0, 2), (1, 2)], [(1, 2), (1, 3)],\n",
    "            [(2, 2), (3, 2)], [(2, 3), (3, 3)], [(2, 4), (3, 4)],\n",
    "            [(4, 2), (4, 3)], [(1, 3), (1, 4)], [(2, 3), (2, 4)],\n",
    "        ]\n",
    "\n",
    "        obstacles = upper_edges + lower_edges + left_edges + right_edges + walls\n",
    "\n",
    "        for src, dst in obstacles:\n",
    "            maze[src].remove(dst)\n",
    "\n",
    "            if dst in maze:\n",
    "                maze[dst].remove(src)\n",
    "\n",
    "        return maze\n",
    "\n",
    "    @staticmethod\n",
    "    def _compute_distances(goal: Tuple[int, int],\n",
    "                           maze: Dict[Tuple[int, int], Iterable[Tuple[int, int]]]) -> np.ndarray:\n",
    "        distances = np.full((5, 5), np.inf)\n",
    "        visited = set()\n",
    "        distances[goal] = 0.\n",
    "\n",
    "        while visited != set(maze):\n",
    "            sorted_dst = [(v // 5, v % 5) for v in distances.argsort(axis=None)]\n",
    "            closest = next(x for x in sorted_dst if x not in visited)\n",
    "            visited.add(closest)\n",
    "\n",
    "            for neighbour in maze[closest]:\n",
    "                distances[neighbour] = min(distances[neighbour], distances[closest] + 1)\n",
    "        return distances\n",
    "\n",
    "\n",
    "def plot_policy(probs_or_qvals, frame, action_meanings=None):\n",
    "    if action_meanings is None:\n",
    "        action_meanings = {0: 'U', 1: 'R', 2: 'D', 3: 'L'}\n",
    "    fig, axes = plt.subplots(1, 2, figsize=(8, 4))\n",
    "    max_prob_actions = probs_or_qvals.argmax(axis=-1)\n",
    "    probs_copy = max_prob_actions.copy().astype(object)\n",
    "    for key in action_meanings:\n",
    "        probs_copy[probs_copy == key] = action_meanings[key]\n",
    "    sns.heatmap(max_prob_actions, annot=probs_copy, fmt='', cbar=False, cmap='coolwarm',\n",
    "                annot_kws={'weight': 'bold', 'size': 12}, linewidths=2, ax=axes[0])\n",
    "    axes[1].imshow(frame)\n",
    "    axes[0].axis('off')\n",
    "    axes[1].axis('off')\n",
    "    plt.suptitle(\"Policy\", size=18)\n",
    "    plt.tight_layout()\n",
    "\n",
    "\n",
    "def plot_values(state_values, frame):\n",
    "    f, axes = plt.subplots(1, 2, figsize=(10, 4))\n",
    "    sns.heatmap(state_values, annot=True, fmt=\".2f\", cmap='coolwarm',\n",
    "                annot_kws={'weight': 'bold', 'size': 12}, linewidths=2, ax=axes[0])\n",
    "    axes[1].imshow(frame)\n",
    "    axes[0].axis('off')\n",
    "    axes[1].axis('off')\n",
    "    plt.tight_layout()\n",
    "\n",
    "\n",
    "def display_video(frames):\n",
    "    # Copied from: https://colab.research.google.com/github/deepmind/dm_control/blob/master/tutorial.ipynb\n",
    "    orig_backend = matplotlib.get_backend()\n",
    "    matplotlib.use('Agg')\n",
    "    fig, ax = plt.subplots(1, 1, figsize=(5, 5))\n",
    "    matplotlib.use(orig_backend)\n",
    "    ax.set_axis_off()\n",
    "    ax.set_aspect('equal')\n",
    "    ax.set_position([0, 0, 1, 1])\n",
    "    im = ax.imshow(frames[0])\n",
    "    def update(frame):\n",
    "        im.set_data(frame)\n",
    "        return [im]\n",
    "    anim = animation.FuncAnimation(fig=fig, func=update, frames=frames,\n",
    "                                    interval=50, blit=True, repeat=False)\n",
    "    return HTML(anim.to_html5_video())\n",
    "\n",
    "\n",
    "def test_agent(environment, policy, episodes=10):\n",
    "    frames = []\n",
    "    for episode in range(episodes):\n",
    "        state = env.reset()\n",
    "        done = False\n",
    "        frames.append(env.render(mode=\"rgb_array\"))\n",
    "\n",
    "        while not done:\n",
    "            p = policy(state)\n",
    "            if isinstance(p, np.ndarray):\n",
    "                action = np.random.choice(4, p=p)\n",
    "            else:\n",
    "                action = p\n",
    "            next_state, reward, done, extra_info = env.step(action)\n",
    "            img = env.render(mode=\"rgb_array\")\n",
    "            frames.append(img)\n",
    "            state = next_state\n",
    "\n",
    "    return display_video(frames)\n",
    "\n"
   ]
  },
  {
   "cell_type": "markdown",
   "metadata": {
    "id": "j-pns0SL6Vbc"
   },
   "source": [
    "## Import the necessary software libraries:"
   ]
  },
  {
   "cell_type": "code",
   "execution_count": 2,
   "metadata": {
    "id": "MiP1siGs6Vbc"
   },
   "outputs": [],
   "source": [
    "import numpy as np\n",
    "import matplotlib.pyplot as plt"
   ]
  },
  {
   "cell_type": "markdown",
   "metadata": {
    "id": "NM6THrGl6Vbd"
   },
   "source": [
    "## Initialize the environment"
   ]
  },
  {
   "cell_type": "code",
   "execution_count": 3,
   "metadata": {
    "id": "q2ytq7oR6Vbe"
   },
   "outputs": [],
   "source": [
    "env = Maze()"
   ]
  },
  {
   "cell_type": "code",
   "execution_count": 4,
   "metadata": {
    "id": "glvnH2SX6Vbe"
   },
   "outputs": [
    {
     "data": {
      "text/plain": [
       "<matplotlib.image.AxesImage at 0x7fa04a9f4200>"
      ]
     },
     "execution_count": 4,
     "metadata": {},
     "output_type": "execute_result"
    },
    {
     "data": {
      "image/png": "[encoded data removed]",
      "text/plain": [
       "<Figure size 640x480 with 1 Axes>"
      ]
     },
     "metadata": {},
     "output_type": "display_data"
    }
   ],
   "source": [
    "frame = env.render(mode='rgb_array')\n",
    "plt.axis('off')\n",
    "plt.imshow(frame)"
   ]
  },
  {
   "cell_type": "code",
   "execution_count": 5,
   "metadata": {
    "id": "YrpWHqxu6Vbe"
   },
   "outputs": [
    {
     "name": "stdout",
     "output_type": "stream",
     "text": [
      "Observation space shape: [5 5]\n",
      "Number of actions: 4\n"
     ]
    }
   ],
   "source": [
    "print(f\"Observation space shape: {env.observation_space.nvec}\")\n",
    "print(f\"Number of actions: {env.action_space.n}\")"
   ]
  },
  {
   "cell_type": "markdown",
   "metadata": {
    "id": "Rx947Ii46Vbf"
   },
   "source": [
    "## Define the policy $\\pi(\\cdot|s)$"
   ]
  },
  {
   "cell_type": "markdown",
   "metadata": {
    "id": "mj-DEzgD6Vbf"
   },
   "source": [
    "#### Create the policy $\\pi(\\cdot|s)$"
   ]
  },
  {
   "cell_type": "code",
   "execution_count": 6,
   "metadata": {
    "id": "kivjfd-t6Vbf"
   },
   "outputs": [],
   "source": [
    "policy_probs = np.full((5, 5, 4), 0.25)"
   ]
  },
  {
   "cell_type": "code",
   "execution_count": 7,
   "metadata": {
    "id": "sunXzggw6Vbf"
   },
   "outputs": [],
   "source": [
    "def policy(state):\n",
    "    return policy_probs[state]"
   ]
  },
  {
   "cell_type": "markdown",
   "metadata": {
    "id": "PGrxXujC6Vbg"
   },
   "source": [
    "#### Test the policy with state (0, 0)"
   ]
  },
  {
   "cell_type": "code",
   "execution_count": 8,
   "metadata": {
    "id": "VlXckfZ96Vbg"
   },
   "outputs": [
    {
     "name": "stdout",
     "output_type": "stream",
     "text": [
      "Probability of taking action 0: 0.25\n",
      "Probability of taking action 1: 0.25\n",
      "Probability of taking action 2: 0.25\n",
      "Probability of taking action 3: 0.25\n"
     ]
    }
   ],
   "source": [
    "action_probabilities = policy((0,0))\n",
    "for action, prob in zip(range(4), action_probabilities):\n",
    "    print(f\"Probability of taking action {action}: {prob}\")"
   ]
  },
  {
   "cell_type": "markdown",
   "metadata": {
    "id": "THcQNGHa6Vbg"
   },
   "source": [
    "#### See how the random policy does in the maze"
   ]
  },
  {
   "cell_type": "code",
   "execution_count": 10,
   "metadata": {
    "id": "gsSYs5Ry6Vbg"
   },
   "outputs": [
    {
     "name": "stderr",
     "output_type": "stream",
     "text": [
      "/tmp/ipykernel_48581/1108643250.py:215: MatplotlibDeprecationWarning: Auto-close()ing of figures upon backend switching is deprecated since 3.8 and will be removed in 3.10.  To suppress this warning, explicitly call plt.close('all') first.\n",
      "  matplotlib.use(orig_backend)\n"
     ]
    },
    {
     "data": {
      "text/html": [
       "<video width=\"500\" height=\"500\" controls autoplay>\n",
       "  <source type=\"video/mp4\" src=\"data:video/mp4;base64,AAAAIGZ0eXBNNFYgAAACAE00ViBpc29taXNvMmF2YzEAAAAIZnJlZQAAMu9tZGF0AAACrwYF//+r\n",
       "3EXpvebZSLeWLNgg2SPu73gyNjQgLSBjb3JlIDE2NCByMzA5NSBiYWVlNDAwIC0gSC4yNjQvTVBF\n",
       "Ry00IEFWQyBjb2RlYyAtIENvcHlsZWZ0IDIwMDMtMjAyMiAtIGh0dHA6Ly93d3cudmlkZW9sYW4u\n",
       "b3JnL3gyNjQuaHRtbCAtIG9wdGlvbnM6IGNhYmFjPTEgcmVmPTMgZGVibG9jaz0xOjA6MCBhbmFs\n",
       "eXNlPTB4MzoweDExMyBtZT1oZXggc3VibWU9NyBwc3k9MSBwc3lfcmQ9MS4wMDowLjAwIG1peGVk\n",
       "X3JlZj0xIG1lX3JhbmdlPTE2IGNocm9tYV9tZT0xIHRyZWxsaXM9MSA4eDhkY3Q9MSBjcW09MCBk\n",
       "ZWFkem9uZT0yMSwxMSBmYXN0X3Bza2lwPTEgY2hyb21hX3FwX29mZnNldD0tMiB0aHJlYWRzPTE2\n",
       "IGxvb2thaGVhZF90aHJlYWRzPTIgc2xpY2VkX3RocmVhZHM9MCBucj0wIGRlY2ltYXRlPTEgaW50\n",
       "ZXJsYWNlZD0wIGJsdXJheV9jb21wYXQ9MCBjb25zdHJhaW5lZF9pbnRyYT0wIGJmcmFtZXM9MyBi\n",
       "X3B5cmFtaWQ9MiBiX2FkYXB0PTEgYl9iaWFzPTAgZGlyZWN0PTEgd2VpZ2h0Yj0xIG9wZW5fZ29w\n",
       "PTAgd2VpZ2h0cD0yIGtleWludD0yNTAga2V5aW50X21pbj0yMCBzY2VuZWN1dD00MCBpbnRyYV9y\n",
       "ZWZyZXNoPTAgcmNfbG9va2FoZWFkPTQwIHJjPWNyZiBtYnRyZWU9MSBjcmY9MjMuMCBxY29tcD0w\n",
       "LjYwIHFwbWluPTAgcXBtYXg9NjkgcXBzdGVwPTQgaXBfcmF0aW89MS40MCBhcT0xOjEuMDAAgAAA\n",
       "Bm1liIQAn9lnQQTHEoEe/T1jMRSYbUUAvtTDsX6kX35fgSBmEqW59OC/Pa3jEepdsAAAAwAAAwBA\n",
       "pzomoB/4x4ZybNx15K60HxeaGvBy3fNv766p24vRbgaeEVsSarHAwkfhvD3ZDdkbBDu4YSuRCasj\n",
       "0AjYC5Df5bNN884ojdF136NBo+HjN8Hrou+aDUcPVplZEis2YAbgi4A9VgHEnAVYTWLx4BlRxhk1\n",
       "7jlhHE6wudYKP3jjLxYiE1R6zLWwwLAjyVH6X7P1Z3veJEVHdqbThmcXDZX2rxKRuO//Sr+NkceP\n",
       "ffNRfxzBrrcmf4R1sFgWpmR1e2LajoN+i4XTkV0xjGT65/zn7kk33hhUF5Mvh5tzzAA7hCzGqctC\n",
       "YVgRxsvgWAADomi0BW2kQml03ytp02QMgXyGoRUCmhKBVXqtfOpCx6mU5rFNAapKOT69ygfxk6//\n",
       "S8Tm0Cy0io7P3NGngstiXpTCDc2VftXO+ZOGsPPwYSIN+oimF8kp6VSeeR3KgjxSIlQQ/Y3SjnQT\n",
       "EZU+9iPz9b7pKBcn9XGYGrcUBTXAqSeXsf6ZiFRt4sEAAJzE3M3D8GmijOrCTC1b1pkFaETGxqcj\n",
       "ler54PTPQEEDbusuYGCNhWZIPrdumxpplcKLkHuGFHlnckG+v+gTRiHDrcX1iFCM9F1rTKFlDAHA\n",
       "ywp3BhGpx6tFJtHcOULSCJqGRCM6jhHQ4r9gBfNHigpfarsD+kP+fCJB9Hvzd871ZR3WsPhAe7tQ\n",
       "mQR1rP+27lniOdrBrHUtN/BIZwqGALy9tmUtLtDz61729tH9LvgTziGBKp4C3Ufn3xTsbbHYZD/P\n",
       "xlZhfOfua2Ml6Y3K0/sVGNjhL/gGbbtbi2K04RuBnA9hd6Nmc+4Rf4eEBFXKaAAdW6lLPUwfsePi\n",
       "fCAov5vASGvrMeY8nzK0kWAYBP5OgWjLrtL66YS49k4BlIdt4UBrjY/nea2ZTOwOBvX/RjX4h6Oe\n",
       "ktSI4Ek8LpDCM3FQAs0i0J7cDwBNo6ENyOQjASO9wwLMMGe4IzkeHeq/I7O5gmDtPFA973nGntYj\n",
       "pRbWrZgKmoSHUQ2r4MWBbJKtFKWqFlcDykdV4ZX/+ijgsEQn4ggd5YSbAyHZqRo2Knaa+C6xPzOc\n",
       "gerWyB6Z1ZNW3CMRWo0Q6hVPDvsPsuCLMp7NuGL8QDt8WYTKOrXbQWeEesQP+ThJ8GGnG5pZwCuF\n",
       "NhDSwGPzjSm9ltwS/5gFw2QV3eK7KEdKEJgzi7FCu+K8KSzt5rmGFQgRYq3Fv/Dx8Lu7jcjPVa/C\n",
       "j/Q3QCIJSKjEF+Rd7XWqgpaiUroMYkjqQq0ci8srYADVvAFHBqZcXqZtlTkS4AkckAu0/qVtlZZT\n",
       "OPGv6OoO5RKNb5Q3nS0EVH0WzFczNd2NyvCwcekuMd6VBf/2JjFPJD5fVzZBtDSuYrwHg5A5Nggr\n",
       "6LaBTWlUNTvXtXzwM475do71t2hkixOZ0rlmtk9Ii8d2+NbXH9HruJPSDGFHmf++qW381VEWAF5h\n",
       "P8egsZmRZSBpPTUNPhTq8V7mQ88p3iOT3T4vI97gSF0VW6Nn48Vp//FSZW7c9VYURepkUTKWz7GN\n",
       "pLrNVMdl/uDbXLDeUZIH0Yr7Wi2XZ/zTKjzxR0AAAAMAYu2gFY9aiUGcqj8AsWGd2NpS2yqF6oY1\n",
       "tV3YVSBVeh9GaGr9oYPIU/Dg9guDGmTVz591BbAylbxarV9QA5OOjsZovELr+PYLlvd8uGjlc1LE\n",
       "Y0Wqg6Pent8Q/t4MaT7Q0lR920HptxhfqJkkxgOL2MhqGtgVAAYON48MUfOrho3heP9+ovxfJduN\n",
       "oPBBIVoFuqF2Zub1o9jTPhWx7LVgm1rYBOEcyuVrM2AKlfMKz2DngBHB3OpDjGv1P5uveuyoYSRr\n",
       "dhZlzrBo1hJVpDbvRF1cQDQH8wMT222HWdOTpZrTgd1NimM/NcBrfWe5MLP8BVlnKEyXy83EU7yr\n",
       "HWbqK2AU3beRcP/azf/yF1n/90DxTVDZ4UiyguVlFIfUfJIYQTE0rqLIxYOb5jebeIgO7Sp0YhcQ\n",
       "r6NV2tb/+xiJ/TAArPKPKe19OtUbyhIHoZpsnw7qOoTPBRZmWCsay7uku5LvAyV6rkboAt2avcfm\n",
       "XVMz3NDSpz/ybGoBFhSREZ5/qMrw+VYfj/yA9satKwp/s4/0ak+kAMfSpZf4DQLGk56BAAAAHkGa\n",
       "JGxJ/wAAnwVIBbJZKB7y2p1u0rejEtlAAACigAAAAA5BnkJ4hL8AAAMAAAMCPwAAAA4BnmF0Qt8A\n",
       "AAMAAAMCggAAAA4BnmNqQt8AAAMAAAMCgwAAABVBmmhJqEFomUwJPwAAAwAAAwAAr4EAAAARQZ6G\n",
       "RREsJf8B5vNvZAAABv0AAAAPAZ6ldELfAh13xCQAAAi5AAAAEAGep2pC3wIdd8Dn4AAAUEAAAAAV\n",
       "QZqsSahBbJlMCT8AAAMAAAMAAK+AAAAAEEGeykUVLCX/AAADAAADAj8AAAAOAZ7pdELfAAADAAAD\n",
       "AoIAAAAOAZ7rakLfAAADAAADAoIAAAF4QZrvSahBbJlMCT8AHz/KdFyYBtyatVScYM2v3mX2Lf91\n",
       "t6dR1/4tEs5Hj1fgb8/jqiT8QdePWi6OLe5Zpi2XlKqQOcDSW+ZMothOVS9TrOmkPyx8bkq6KraS\n",
       "+qDt1Jq3mCthUVafdA02pwqVi24cfDLg5VYwdpEnfuoOWGcOzzk969Wmn8X9Sgcd1UDjOu7+hp4G\n",
       "j6ShZmgXcD9N4b43t6dysztxy6xDzbA7ZOzjJPhAo06s6Z24hoBKbqAULDaCM/xvug1bgggUTsW4\n",
       "jNALZS+GVA4da+kpzHBXEI9e5ZbPaPT4kPvHusOyPbsHYZLaK4NLCZLGvXhEl9os3N2mAL0Kjt8S\n",
       "DQe1gkXAPUnjZBjtHXC7NHSMZR/ShoUKsZqCmAQ4Wst/u6YqSTCDMbWhQOS2KVAbT0MRHQ44smnK\n",
       "/zafXEatJbbaIvNWCCYH3VMRoLybM0/ZJ4GKxV5yJxL4S5TDrjCSauWSz4w4n6ejgGsXtq5wAAAU\n",
       "kQAAAB1Bnw1FFSwp/z2jZXA6AaNLaihAX0VqgAAAAwAyoQAAAB4Bny5qQt8/WI1xlALtSrf80mYD\n",
       "g4BTVkoAAAMAEDEAAAGVQZswSahBbJlMCT8AE54mpgIrOBoQ1ctF+VETCZtAcBMD7BNtukiKMY5H\n",
       "TFx9D9QPVchb1L0WJtDxXSNmMi5OeF+bAFTeraUX0hWY6gV+oyDtJqgEI5lfkVC/UOaNkKBogD9V\n",
       "oQTsgtjXhbIrUFO9Ne7LYSGMgdrxOX46dOf0Tn17WOpDYkBc5XhVsPJOPctxkAbq1Dwi1NhCezDy\n",
       "gO7aARpS8R75MvPOJzG56LZxpOmqBXgZ69IDeig25Fj/gHK0HfGeAuzT3ecJyUU/Il7D4Z0wEYdb\n",
       "N6VaeR4AAFwtK0m72WrYoON0xNdgJX84Uoq35fF+xi9x60G64g2+YabI/OWm0EZt/xtcBF/9wA2W\n",
       "78npdRlxXZABrTwG+SPhPzxW5fOb1PModAFONMGxy9afikkw1VTwD9YLO9B3I93Yg2WSj+JjRyUI\n",
       "FIUU7M1gvGNnJ3s/ypEFx3ogK1PXf9i93ndkevkaii69Q6dSazLQfudyPhkuqdHl5bhs4X4CwPmh\n",
       "juV3cOir5vwQ2fR32owAAAMAAJOAAAABjEGbUUnhClJlMCT/AA2sNP00V0Ax1e8m+gUnA5fOcj0L\n",
       "mvS/mtdTgHUtzZ11jR3O8eDYJqxS7hKiKoDTMOOyRmSvpD96BJi4Jt9qBLRoZDSfYGsXZVkbj/bN\n",
       "6IC8zaWwJajg48vIi8Ypx7n/yWzrkHa8zmaB0XciUtBcree1408BRlRZPWCSlJoPutAe/qmWnaNq\n",
       "lX7CemH34+B4/J8tcXXuSZrmVhDNECT2PVw3m8gAuGcnSm+m/q8dIHxybnTpG8kBTFwyES2MsjYr\n",
       "sa+UnwNw7n/fxU+SAKJuS5PJhjhm/y/+pSIEoKVdFSOT8YkNsi6E0sxMldDwRsn1Hk6oWu37mp8p\n",
       "v+IiZXgAS1C20Ru5nMeC6gpO7Zrn5VQKKtXuL8jXXpefDT9kVUlE7nox2iRBFQEIanWF/ahSfbcF\n",
       "/ipWfL1q0qpqOLQufoCp00NMPSBjzJQPBBTLy65SZk8XNAnu7WFpjTxzxmWuXDtnYYPg8Brrm4ZA\n",
       "H7dpX+hxH3yTjrEfwToZzrAAAAMDqgAAAEZBm3JJ4Q6JlMCT/wAN8mRSmUMRWL8JPPHHWkwPXf8c\n",
       "8g1ApVSAdxZYPA1ba1s9zTEyyDV/fHBzJ1Emd+dZbEzFNwAAAwFTAAABe0GblEnhDyZTBRE8nwAT\n",
       "anX6qTjBm1+8y+xb/utvTrOohTpNHB0yVmBvz+OqJPxB149aLo4t7lmmLZeUqpA5wHz7qZMpNHtM\n",
       "+3CAnNqQ/LHxuSrwFe7r9PigyXnQ19AW2FRVp90DWdUiP2LRl39wFsfd0b2VDnIK5nTmCDZnZnjd\n",
       "TzTT+L+pQOO6qB0PXd/R1zpqVhrv9y0rA/TeG+N7Z3yUBQkJ5l7X2pnBtinUT4QKNVDEqTi/xBSn\n",
       "EKnXpYEhGFt9/WHJsMuiNLXvl87bhbKXwyoHFDA6ZFz7q4nubNLF+n+7aiRSUPdYdke3YO10G0Vw\n",
       "tOIibVou0R2dL9jxAQhyehUdviZafgsD2tebyMehB8m2FJFfy/2TRO/WyrpoghyL4Ytay3+MxFPB\n",
       "Fggg1oUDktilQG09DER0OOLJf6v9x34GR6jFabRF5qwQTA+6piNBegfyIyAvBhVv3WOKXQs09lo3\n",
       "TopNhMifGHE/T0cAx7QAX5QTwAAABtQAAAAlAZ+zakLfNnEtZaU/E3J0E/qiRxyKI0jDaY3jgWRi\n",
       "gAAAAwApIAAAAYRBm7VJ4Q8mUwJPAB88CGgUf4KhCrsLl9OiqdZR7HC8qBiz5UgT6/qSrJm8Yb0F\n",
       "f+WH4g+WxFx93/nGiL/O8UHtmHj6oj0X2BQrRN+UxIlkhQjo91gMXcEiBKPSGvMe80421StJFUUu\n",
       "EeQ2qHMqedNclaGOP3wvy1gvto2nlrt9d7TTBW4BNu6MR679V118tzlp8nxQtVIesNTxbMAZAc5N\n",
       "nI0YSIDN6nQxjULjc3wMiYlcv6oEAIZ1ko0H+B6pc7nWl5sDFqQFUvOCzLqDLg/Z+YMnc4kArQLN\n",
       "Xru49AgK6mYSibPcmtbQ5CkqnWXbUHMN3CTC0wgWb2zrqwpu6EjPdWXN924pnyvDQBeq+BnTsiM5\n",
       "Au7HoTF2Eqq0JPELzxVq8tlDUKQpfkT2vbHlHL+CPUrSXNWOs/EuA2XHhyuD+HmfntB6T0Jw22Yy\n",
       "PA+jLrKx+MaubUrthja0E6N2bvKCgsk6i877jbYbOYjujvamnBGhyOic3HrOCYAALOU2mFwAAApJ\n",
       "AAAAOEGb1knhDyZTAk8AHdcF6Z2RWCWn2NZ3A0iwkNVknGO92QDAFC7teoTE5ohGGUWgAAs7HYAA\n",
       "ACkgAAABokGb+EnhDyZTBRE8nwATngL0v6W1WDnF6PgIWQy0GXLjCk0a7/qHuof1Ngm51kabEZXT\n",
       "HpABNbWZvAZbssvGx+A7uME5/tdMjgVk5IOUaJnPf/yx/8BWhNleYu2sYND/sVVx5oazZssGeIwv\n",
       "lmezrpc/RqeWzYbPXoXDb2Tup1QoHOUWAIc/9fdtSUhv9sDWiyhBznPvKpMEVS5d8DriGEqLxGYl\n",
       "a5rOimue+I7jI/dHN4L0thHUpbYpmdAKsBs+kD+shb9Qd7xTwPqlYY9IQ4e9HHdxmZxUt8wQjdYz\n",
       "0l8Y0LlE4DlG46WyggFUDhkPv8bsocdIAJZIssrOZzNtMHd9d4xjUpDRmu9R62UyNpqTTrhFs8ro\n",
       "xqLzVJqFRhEBdHt0BoRfdr68ga+uekVTXrK2l5GsHVNDhAKwSoTgJuKVsFXeyoKxYSv2QEWfwmKG\n",
       "8B8xNWXdi0VVw0kK/1G+Y23zr/Wjzm6+hUJoq00zRh+haie9Yk+8R4Zt7qJp2bOfHhAdDeXqnbQ4\n",
       "C1/N53bFlb2+yu7R4TcXF7cSY1pay2gACgkAAAAkAZ4XakLfNmADvA8OFqEb0D4ivPoRQ5Ne8Osr\n",
       "06qCnVAAAHLBAAABmEGaGUnhDyZTAk8AABvv8UngBPmDGv4N+7IKc74RrXMSsl7cP8W1Tj41tBM/\n",
       "kKQSXfNl0JZAyIOQgunhdDlmPAUJWDQt3p+0JW9tpSqNa96U6yChq6hzho9dnY2CszSab8vXMlCS\n",
       "Z9JKHP4SQArISq8+KAQZLLwrpe+xn92OCpfHRvDgmOOUcJJE92nnM6K2RpRcUNflCOgE3wI4kanz\n",
       "OVMufC90yliUhVP+2m44QBl20EIWn877VQwvsUPXpJ64mFArao4QA4umM3b9W2SYIDXBD15wG7JT\n",
       "GZ4nFh+KhPZyj8MDry3O9hIGcYq9htu4ZCTPhQk6sZ+mLyasz4vrop0MyswhSJzwbce3/Zi8OeH9\n",
       "T4RrN9PQ3t/oV8XKQi3Uxy2jL02SXwSOrNYrBq948uIhMx0SwkN+dL2g4mu2KHf/pnEz3iSIqdBN\n",
       "ifpnEnSSRpiNNl8X27TsstGsEXKiakeP5XbweKwCtFvgMUSonbLbEPieFngwnFKPez+soPLWY3RB\n",
       "BBIEEV/bkH1RQjQMDMldgkE0RgBxwAAAADxBmjtJ4Q8mUwURPJ8AABsDCdmCCrkhAAWo59y4N/3n\n",
       "dVHdhtoeAhLyGgBNJLd/N4ISjrXPxwRreEEAyoEAAAAeAZ5aakLfAGaQBB4ztrt8xYknLFdAeJeb\n",
       "WH7AAAVMAAABdkGaXEnhDyZTAk8AE2p1+qk4wZtfvMvsW/7rb06zqIU6TRwdMlZgb8/jqiT8QdeP\n",
       "Wi6OLe5ZpkqrKVUgc4Gkt7xCi2NZX7cICc2pD8sSgD5caiq2j2ADJedDX0BbYVFWxc+LWpwqZ026\n",
       "JB3Tm9jm6flK8eBZPA03r1aagwQ3NbN36okZ13f0NOPTThMLM0fKwP03hwvyyGcimkNhhIxH0h+q\n",
       "3s4yT4QKNdITx1qfh/FN1AKFhs8+f433lMb4Pnz/9wtlL4ZUDjdgIzC5sFcQj17lkA1I0UB/oF/v\n",
       "zu2zdt2DtUzTVcGlhMljXrkJtX1MAetj95IEimxBAUEi4B6k8a5Xmmiq3LDpGPJDyHCfs7eATa5z\n",
       "nC1lv93TFI1bQp3wL9VyWxSoDaehiI5tdr6ZLr/DF+zwvWlttoi81YIJgfdUxGgvS0BWpCegxWKv\n",
       "OROJfCXKYdcYNLSZU8+MOJ+no4BrTU9XJeHxl9gQL9xdBcgYV/x8AAQtAAABgkGafUnhDyZTAk8A\n",
       "HzwIaBR/gqEKuwuX06Kp1lHscLyoGLPlSBPr+pKsmbxhvQV/5YfiD5bEXH3f+caIv87xQe2YePqi\n",
       "PRfXpoJOQnlGZZIUI6PdYDBR0wnID39oaNyIRCDo1zailwjyu3O1tC0m8ejEhMTIUkUeWzX656T0\n",
       "thvaaYK3AJt3RiPXlOk95axkrvExmzjmX7a89YBunoFDzlNWBSPoS2002GoXLZvgZExMXhVvuufn\n",
       "W5zPx/4PzbotEPblHYyAqmCJ0YGeUsaALGw3ucSAVoFmr13ce19GvEAZbOQW+wNJRhvFNzK2Lljg\n",
       "gwbDFSo+RIliMqOtvwE91Zc33bimgzoNAHVb4Gfzv+zkC7sehMXYSwzZNKy50pb5+Uu1VvHRfkT2\n",
       "vbHlHL+CPUrSXO5V0RgvA2XEJWBZ2ZpAjF3hxZ/prMxkeB9GXWVj8YgAugrzDGvoJ0bs3eUFBZJ1\n",
       "F533G224+CsVtK9EfXW4ze60ry1OCYAANUdDGFwAAApJAAABc0GanknhDyZTAk8AHdqjlwG+NZkr\n",
       "FKD57XguIVUGft2Xf9WpoKtUlKIkjvoOHI0nnubxSTCpH4jHER5qOGnBBpFyxoKxjmIJ/40Xc9ZP\n",
       "FemVjULkIpvr3Wn4wOi3Qs1ohgIBmTmbX8gCTdZVcbHOGOkytrLO/yYIqbMk9/qqJFs06Vi5fxls\n",
       "OEjCC0y0i41PQqkgGoHZ2hXPck1qUTT83SQtXVfZyabRdEQDX+8CI4p6GDi+8uvF1ZMsHWZI/n7D\n",
       "ZR6t/s9U5j83kLFUFTu75Gor40FK3p0sCKNtB4iqyw1KerVXbm1Nywk3/Z13SUSoza2KRgWejSpX\n",
       "F2V7ECyX9D3mEV1Q6FVwYE7WNIMSN45NBTTIJSgzIqCjgSj3rB1hnzQc27UPZvCdWGIAsZuQgITi\n",
       "EjM1W/SWB0OOPBYCnqKtEOX7gAA5BU+yYPqHfevGKnYLziL45xHbEVN1ZPJKtCpG1OtzvFCjPt+6\n",
       "1OElU4wYAAXcAAABnEGav0nhDyZTAk8AACA/7Cd6gEGefAo65z/pM1PWodHkq60c9H/AosDlecEz\n",
       "fnu6+1xn2dCRfJYJXnmhh4Nto9cylQthw1114zVnsrIIH0gDA26XsK1yAndUG1Ahr1KAMSWhEUnu\n",
       "ffINakYm/9KL94FX215zcFIMNGmBuwVlqEt8c9ccalvDsdcmwYSzCZhaBrBjNqLiFs8QUmh4DWv2\n",
       "GzUKdCATyYe9V5R0M0vzrvoF2plm7pgNfxVWuZe/3Ny/gPvjHKjK1yVILkAkYLovsrxXJ0+078fS\n",
       "dMt6rE+1eg6ILV8BGj2w1KXjdpZidYgQ3qir02XLihtW/nxxTmwHazpXdVJ+HxvEEQ6PWh2rUQ/o\n",
       "A7JzYg/2T+2MlKETPucT612mRm6Ngy21sKINQ9Y7phkIw11gjFxVJeFXDOJ7N00Zr2H2FUhLb8Rt\n",
       "O/Fd6Mc9Hq7/JZ8T8Xbtkrwn3rEQkIL5EXZ8CHCy5+dL55Ag8uEvxVLcB/KPYr4Vwe5InldpzP4D\n",
       "3FRcxul4ux0pC+VYqm/s4v2PAkukmygoAW0AAAGSQZrASeEPJlMCTwAAHU/y3qQp+MQvKN3NjNno\n",
       "WiEGN9ivCPKh7wvbv4wQm57KOjilUkrr4hvtSdvWebJCqxuZJJbVVqW67pA0fpDdAbmtaoIm4ULk\n",
       "6AXeFSP2vFxiAZSa4bpBYj+OIim/jFquqZCPINq1vA9OTpeRRAgm1XlNKPqSbFppLZ22k7y0L/9c\n",
       "DWpuss/9cZN9dtvcq3DLxyJHgiRjGVV6ukLRD1PC8ZOWNMcNVH+oW8FTqQyo2d1ASGsupejPmrBs\n",
       "8hhVrhMh8l+zFK92TP/0/LGdnNtymiU9//X/fCIrAUqir7wjnk4hoJYW0comEggpqlcl8S7x7Dj+\n",
       "/lW4w8FkxQJm/y67djB7pbtVI54R2JSXjWBe5RK87wUhmtn+LLDFkcuaMqL3SxTCrxlFrwXHXlcB\n",
       "AGly1J7hYcbgbRJDY6pulFJJ5eZfkKOlN9vQX+flPAuWQTLypkU5WJjJmV8g9bCEL6j/ujLCe79Y\n",
       "qH9TuHjRD/ioJa6PY+t8iElWNeMRkN9/uoxFwBH81mLBAAAAQkGa4knhDyZTBRE8nwAAAwA56bDk\n",
       "KMmhmmLL8ZwGqkjTnkdRARS6i2m2UFS6EQyk4WKVfLYc5t+5aFa6dRgiNXqoIAAAACIBnwFqQt8C\n",
       "PXfEJuXxDrHBfmLOAUmRd1+CGj/UyHMXVws5AAAAS0GbBEnhDyZTBTyfAAADADntUcuEtWY5AAMn\n",
       "4oskRbWgtTLiCAewsHqIFJK1ImhMa29agdoALT7YlvRQ6ynSyrVa/Ew6G5YVtWBVBAAAAB0BnyNq\n",
       "Qt8CPXfEJt8MNeWPmDmBVmrLCOQgs79CywAAAYVBmyVJ4Q8mUwJPAAADAASn/ZLpkB/2rAmJw77p\n",
       "vg47i2l44awIArlR/FjZdAR8vp0VTrKPY4XlQMWfKkCfXzbusRQJD3oK/8sPxB8tiLj7v/ONEX+d\n",
       "4oPbMPH1RHovsChWiYb2a96oUI6PdYDF3BIgSj0hq61wkqfYCYZFUUuEeQ2qHMqedNclaGOP3vLA\n",
       "pEIo6aYK3AJt3RiPXfquuvluctPk+KFqpD1hqeLTwjIDnJs5GjCRAZtmuoKsxvPqKE4OqyjNqxAC\n",
       "GdZKMdENGy8dFoh7co7GQFUvOCyILfOSdziQCtAs1eu7j0CArqZhKJs9yb+Hyz64U3MrYuWOCDBs\n",
       "MU56tLNL7P637xuE91Zc33bimfK7wNAQFh/ZyBd2PQmLsJVVoSeIXnirV5bKGqUOBYF9vRBeUcv4\n",
       "I9StJc1Y6z8S4DZceHK4P4eZ+e0HsZ6QUnZjI8D6MusrH4xq5tSyzzkEwTo3Zu8oKCyTqLzvuNth\n",
       "s5iO6O9qacEaHI6Jzces4LPOgQAAAXlBm0ZJ4Q8mUwJPAAADAAADAFv/2E71AI/grRKqTjBm1+8y\n",
       "+xb/utvTqZossglj68er8Dfn8dUSfiDrx60XRxb3LNMWy8pVSBzgaS3zJlFsJyrspmfph6PLHxuS\n",
       "roqtpL8fHknaxyhnbCoq0+6BptThUrFtw4+GXByqxg8MXnLjB7ZY8Ozzk969Wmn8X9Sgcd1UDjOu\n",
       "7+hp4Gj6ShZmUXcD9N4b43t6d0cKf9HaxDzbA7ZOzjJPhAo06s6Z24hoBKbqAULDaCM/xvu7EgAV\n",
       "HE+8dGjNALZS+GVA4da+kpzHBXEI9e5ZEEDMOokWvHusOyPbsHYZLaK4NLCZLGvXhE2K0Y4IdpiT\n",
       "0Kjt8SDQe1gkXAPUnjY0jtHXC7NHSMZR/ShoUKsZqCmAQ4Wst/u6YqDECDOfWhQOS2KVAbT0MRHQ\n",
       "44smnK/zOfaPtMYrTaIvNWCCYH3VMRoLybM0/ZJ4GKxV5yJxL4S5TDrjCNdTLInxhxP09HANaGSp\n",
       "gQAAADtBm2dJ4Q8mUwJPAAADAAADAFrk33xDEtv/UCFxQEkIhgblEpxe7HECUVSzw3/q2PiZei0B\n",
       "ldZPYY+WgQAAADtBm4hJ4Q8mUwJPAAADAAADAFv/2E+SXT6HE+jT0PCpmcgflTA1XItwpGe9KHAZ\n",
       "6MM0NFQp3qIAWxkqYAAAAZFBm6lJ4Q8mUwJPAAADAAADAE5/2E+TZQ0G2hDaHceygJZM2gOAmB9g\n",
       "m23SRFGMcjpi4+h+oHquQt6l6LE2h4rpGzGAx4CP48AVN6tpRfSFZjqBX6jIO0mp+LosOFSv+uzh\n",
       "wTROdEAfqtCCdkFsa8LZFagp3ant1sJDGQO14nL8dOnP6Jz69rHQ9fZ6SlkQhAT5GSF4yAN1ah4R\n",
       "amwhPZh5QHdtAI0peI98heOeXNLHYLZxpOmqBXgZ69IDeiGm5Fj2c5FoO+M8Bdmnu84Tkop+RL2H\n",
       "wzpgIw62b0q08igAAsHW3uney1bFBxumJrsBK/nClFW/L49leDePWg9XoyAfDTZH5y02gjNv+Nrg\n",
       "Iv/uAGy3fk9LqMuK6IAqBEDfJHwn54rcvnN6nmUOgCnGmDY5etPxSSYaqsShusFneg7ke7sQbLJR\n",
       "/Exo5KECkKKdmawXjGzlEKf5UiC470QFanrv+xe7zuyPXyNRRdeodOpNZloP3O5Hwyb1Ojy8tw2c\n",
       "L8BYHzQx3K7uHRV834IbPr0zKAAAADZBm8pJ4Q8mUwJvAAADAAADAJnKXaABBAdADtzfgntAmkLn\n",
       "fWZEJKqyal32DKOgANXr+dB6P6kAAABCQZvsSeEPJlMFETzfAAADAAADAJt+61jOPmkoSMl4FIkb\n",
       "PFuQYq2b1ixkJOGIKB0y8WX/j5JCwMGB5S6mO/UUOm/AAAAAIwGeC2pC3wI9d8QkAAOpdgu8dJ6z\n",
       "8lFhdzMnKjkyVy+A63KAAAABmkGaDUnhDyZTAm8AAAMAAJk0tc8r7zqNeNXB8pqggxBkId26EDWX\n",
       "uyAcpfjBg810dlq1lCom/uxnD5I3vPptDUkQuunoTS6rS//xFQkzDPzBbTv9yOgRm/WMs9zgARQN\n",
       "Xa2wAoujk5S686sqZWuUUNH3Ch0xIaDdCJXAc/6eMt9PTRutUH+F02UR7WGWO1KkPXOOBWQN9MOG\n",
       "sfAk9ppvDWcxKFkx8e1Kl6690xhZC4DFboES3ThBN+dLy9FrtsmcHMGjucUOxy08C86SqSGeVnkU\n",
       "AXpY/TUq17Sv4W8zysdBJ8kB12ip0nq/324PtyPMmNZetUJjCQZswuVLFnNsYObpEqeH75DAu2SW\n",
       "SGSbQ5OQMMAy0rM1Wkfir7MDAfX+eWQivV4pw9/v5v/P1DY1H0ZyDVCnwJ5l4wHvKqwUmdytn3jz\n",
       "Tz9CfkBHERKOb+n002BuIp8zivJyv6lK6gjifXUqwzpsCAkaHexytDZeD1YHMmOiABLflmGKwK/+\n",
       "+m55F1gTyxsHvWH/uau3ji0oAQ5ZQK2R8qC31Q5zAAABmkGaLknhDyZTAm8AAAMAAJnLcjD07Svv\n",
       "OnMjBAlwydbDOpLJ24+JKt/KHYG0fUWiugPvw2gicZNea6qPtEfRreJ7fY5QWd6SyU6J/MGggcfm\n",
       "oX6Lgqs6NbX71LppSBAUNo0b3s9XKx/Ov0LvHRBg+McCDFCLdGXBieA6Dxgj8mFGl4CyqbW4MYAi\n",
       "nPQEOLrB6++aiYonwN8X/3cIBb8CD+3IM9gRtrWJaddZK8efQIN+otzP6jHnayrRU1Jqrr8lqDMH\n",
       "l1NcuP+7ImquNdBZFBG6Kv3OJvHNd1vo2XWZ1QYUfTKJql3zZatvcEVg6XAAN22BJAVmTvocgyfg\n",
       "Oaq0q4kidoKAxCM3mHFitIjEigosAc8fNF2mgELVCYP8r/aJZhl+lLwFXm7TrBF2UU22tgA8WEQV\n",
       "5KBP44MT60ajG+3f5e+IesjznCcIFQyo08PCVXaxp3MgX/Yb7E8a7RCuq1x9tUf5DCt+1iU5VgKz\n",
       "h9/jnT0OeQT8G2Aw6yD1QADZJjsshuu6EzXJ69U43u7XxUj58cLdaIIsABBxAAAAOkGaT0nhDyZT\n",
       "AiP/AAADAAEjoTe4USPSa8mkJIb7eSZ/Klyn6wj8UgW3KARbDkS7dJXguALk0BwBgeEAAAGSQZpy\n",
       "SeEPJlMCI/8AAAMAASb9aMfcGr6hMWIN/i1VW2Brxq9CQKF19WH6QrfAsDl9Vp4p2N/kmD894xfe\n",
       "kr5e69CjYXlJp2Az6hRiYUlFaaqXjzSwAqgdzZcB4dSPP+f2w4V+qWjOW0pkw37rbPAotSNPIf3t\n",
       "eaptXoMaealUQbBYMQYpPG5khNoF0XCIna//6JdoD5nnOqeT2OMYo9EI+asmW+3pbO7LE2ReXpF/\n",
       "w31xT+TwU5LHbiRHHhEN6wvcm9txzAIKauxw1hUG49uX3xnhBRUuCgCbgFgl5cJ+66IvlckZTT2G\n",
       "bX7MR4onCNrLYcPAzavRgD6q3p5hYtmBHXvjwuC66K9Fbhbp9RAJ668W4m9q3MNGvQZyBevuG07o\n",
       "2q3g9+nHrCxvUGP5BueCNlbT7rCfh9LJhCjNAKcQRqSB1dXYg6eevBOWhNSlA6/LD5K1ygCsWpzj\n",
       "BS7D2j2+ixyHZZLynXPi6pJyCHywMlO1AcV4OYHlgJESSYOVtgYnLbL91rY209w2rc3uN9+k8rco\n",
       "AAAAQEGekEURPCn/Ai1geEgCfJhKN1Tue3rcL6A5gHzpz5BJ1b9MqLzTZNEOocgNA02+cW9SBc4a\n",
       "8FD2BXxlQKOAS3gAAAAkAZ6xakLfAjj+kA9Y1ByYz1yin0gD0Qna/BRXH/x/iVz10rd5AAABe0Ga\n",
       "s0moQWiZTAivAAADAAIt9VZGtYAvviYf9bm48Kll/COZfdcHfda30AbQ2VRu22jWpL+O+BZ/TnTA\n",
       "vZP4UmYsko0BmQrvTmrdxIKDpN/b1AtYeU3JwUeHq2w2icoHL0T3HWasU3Bt7EJiiZD6LZIn6tzf\n",
       "lKQK6tzgvr0LcMktEbcnzzacKDznE+edPu9ORnn4YUL75ZL00rljB4ufbgMtOy1yD8MW/gCMarJv\n",
       "mxTXAa14b90FJjXKX6O1xcrr52Eo7PcPeVDhQfz+i9yCyHORFxabtvBDT9aS3Qh0WCDkNt2ave2D\n",
       "znY0JSnr11yd9yGjsSUJw8oTqBH2KW9oB5wuIdqxmxhO5392CeuJg8dzAIUOnhYVC212JUxhG0JL\n",
       "MaUxzKsdABcUtR1rEqPN9WwQVwf5ZzWWB2GOYg8EhFo74O7vw8fgZdX8PeJJEhwJ6zJAlVm/9dIH\n",
       "t+gK5NWXD0Td0+gS+QJcD4YChk7vCLiThG3UTyAAG4sJVsAAAAA8QZrWSeEKUmUwIz8AAAMAAxee\n",
       "xWPhb25W69kSKYnnBFPMIEH0ogpsbRUEKWRYEVnxdshwyWe9zZCBrKtHAAAAL0Ge9EU0TCn/Aiwa\n",
       "BADdk0mquK9sqV+Scl7EJGfKOILFGQDcHMelyVSF9YCk+jRPAAAAHgGfFWpC3wI4/pAMiG3FdjGj\n",
       "oAItqAO6juoXqnehMAAAAatBmxdJqEFomUwIzwAAAwADk76NWvh3/dZ43Px7AFf5cYlchf5Nv125\n",
       "G2v3LI9SOEarhFmNQ214hzH1ydeSypxJbXp3A6EzMVTU0mZxCXWL/EkSFeHTS5hErAkADgJBYq27\n",
       "+uuCrX5aQM1bo7UuGznFztmkSjoMIA6DFPmqAdde0wLDQSq6vYlXwXR9CSaJsRYg1c9zYG2HjFyY\n",
       "xKBAza/8EMSHO3cde90xYcON0jEWkmEOOiSHftwlv6dKbRp7YlZU49Cn8OR7N33KNyqJXPOfcxKy\n",
       "PVSn8DpoU2K+gRbagtzMceG2I06DZI5gKekpRqYouzGw1am7q2pHDWCZJCLI676wNCeHqXy3/Gzo\n",
       "YnY6qtaLBkliWg+qJnSZfevzbmMlX5CMGwplCH5dJhL/Xh+/9rjm8Bb0YBQs/e9SIWj9FMnfzkF9\n",
       "Dwc2n6VReQHa02Dx2bWIRZAzQBkPzHV3w9U7TwJXD5+ppsSZtxxsBmcZUHsO34raNyRnEv63ikcu\n",
       "POACnVYtp33k1yvHwAXff190KsB7wNSUFjiYNDY3c0j+LkpRNYUgd+Y1xJjBAAABoUGbOEnhClJl\n",
       "MCO/AAADAAZv7+vRRtQQP+A1PQsiXguneg3w+Ej78FGZnkMCj2ZCCvEodahg54yST/6lV/TD4aTl\n",
       "Qqj0JbpOAsCPnK93Z7Of3UwXozspokqj891l/ZCpsCfZ6LZpNFWE2J8tbkUnPaQ2PXRcVsThvIZ8\n",
       "32Fh5dPo7py6hGeC/2fo+4CHaGAt+jGif2HZVLTVEG9uKTeTx2abtx/aNajgx9IpnKRemQL9tys+\n",
       "caUH7YKtOoivWEnOSW7NU33I6MBjFWcmcIlRvv9bZQhxqJMqe4aR5okJWswcHESkGxzLsOsGc6ny\n",
       "gL9g8m3inRaZJbqebBdCzyuGtRwy26MjDBrx5OFlN7ht0rS/EJmcjOGcNiJ/BfPROabQXBaZgKAs\n",
       "vIVfrpSv0oDfL+aPojHouGThSYsKdWsIFtuBlKei1Oqbpvt3rk89Zx65cOKSyo7QkFwPXunECpzm\n",
       "Mf5fA8Tx9/u66nMf21t/ovIj7RRZuyNMJizJfoRGYMon4O6IsDrI8S7OMUHbIcHwoMmKJaU4Xu7X\n",
       "jTnSfK72o9gwIQAAAZJBm1pJ4Q6JlMFNEwl/AAADAAzj1XFVYjBpKQf+0YEhVD7r13qs7r/BgK1Q\n",
       "W9ZNA9gbfVKXwrNFaQrD5oVz9Zc/sT5cOjE13Y9bk5zLwFtjMkGHo2DXOaBR2V0V5hrmA+BHiiMY\n",
       "W5oou/RE3fYuUOKsFRDLoDikMShx45Ys3KK35Ql5eDPm6c9Gtvm8a2caemv5lfLwKG1Xnhy9a1U8\n",
       "P5z3hSRo7ZPNOUQ9ldqd9Troh1DAxY3Qa5FC1Rn5btwwlnt+bVY6eFzx9Z3YSH+KY4oA5Pk5n3Pb\n",
       "ITm5Chx2edvxeI7h74eA3k/83XZDSWAB3pZNgw5z2RVbaMGcuiqrc1MmAzszLMxshXK/eXgNfYRe\n",
       "fUTtdE4Ewc6i7/jxeg6CUGurf+otwOAJWkNxgYoVcbk29Pn0qmA8mA8qepg7qImOOwWbxthax2UJ\n",
       "YEO4wvrnWU8tLJihZJly/ixgaZQRqH0yVhlv6QHtnjt4jo9gcdsL4562Y3RXKnSGHM5VGf+H68wX\n",
       "/GzLfNE/E7CV+oWAL6wCLuAAAAAsAZ95akLfAj13xCQDTDPJHD+snUBLYDkVWg8A4XVcs4MITfQR\n",
       "SyAx/wMgCd0AAAFkQZt7SeEPJlMCFv8AAAMAEEcoOCz4z8BMltv3RMzponyclnk0mN3/hBhyiZyt\n",
       "xvG1PoVA5oy3mXclYjfQMjKhsUIJirfjDVh7VPN2gGNqxnIQhHElHKkhRxPMYI5TdzgA65TdjQ6i\n",
       "9xasWR3G0qsuGbbImGiYa5rvp4bZtyw1PkvU1jOm+hhR63X15T1gLe1r2IOjLaNdcUuiIPp0MFik\n",
       "80D14vA5din16bT+f4H6+CFkyZlfb3uaGwJyLjWvRWx3LSednrGvU6MkZC+r5E4FGkWtLrzNGZrQ\n",
       "HC19t8mh0HpuHC93aWKenJaU15kSNgH6k+5m/nkO5Cn/JQbPAjVMMFfE9QLbOCmuDsjgM89Gk+xX\n",
       "ntZ+NiuWv7MqlCcDmhRwjtln/F6mMIwL6Cw0Ye+5+d6r54QJiUJhg8Reir+qEUhwW5/Olh3jxmqR\n",
       "j2OLnQOp9zUxSiMGIEe4NuDz2tz4fzyQq6AAAAVzbW9vdgAAAGxtdmhkAAAAAAAAAAAAAAAAAAAD\n",
       "6AAAC7gAAQAAAQAAAAAAAAAAAAAAAAEAAAAAAAAAAAAAAAAAAAABAAAAAAAAAAAAAAAAAABAAAAA\n",
       "AAAAAAAAAAAAAAAAAAAAAAAAAAAAAAAAAAAAAgAABJ50cmFrAAAAXHRraGQAAAADAAAAAAAAAAAA\n",
       "AAABAAAAAAAAC7gAAAAAAAAAAAAAAAAAAAAAAAEAAAAAAAAAAAAAAAAAAAABAAAAAAAAAAAAAAAA\n",
       "AABAAAAAAfQAAAH0AAAAAAAkZWR0cwAAABxlbHN0AAAAAAAAAAEAAAu4AAAEAAABAAAAAAQWbWRp\n",
       "YQAAACBtZGhkAAAAAAAAAAAAAAAAAAAoAAAAeABVxAAAAAAALWhkbHIAAAAAAAAAAHZpZGUAAAAA\n",
       "AAAAAAAAAABWaWRlb0hhbmRsZXIAAAADwW1pbmYAAAAUdm1oZAAAAAEAAAAAAAAAAAAAACRkaW5m\n",
       "AAAAHGRyZWYAAAAAAAAAAQAAAAx1cmwgAAAAAQAAA4FzdGJsAAAAuXN0c2QAAAAAAAAAAQAAAKlh\n",
       "dmMxAAAAAAAAAAEAAAAAAAAAAAAAAAAAAAAAAfQB9ABIAAAASAAAAAAAAAABAAAAAAAAAAAAAAAA\n",
       "AAAAAAAAAAAAAAAAAAAAAAAAAAAAGP//AAAAN2F2Y0MBZAAe/+EAGmdkAB6s2UCAEHnnhAAAAwAE\n",
       "AAADAKA8WLZYAQAGaOvjyyLA/fj4AAAAABx1dWlka2hA8l8kT8W6OaUbzwMj8wAAAAAAAAAYc3R0\n",
       "cwAAAAAAAAABAAAAPAAAAgAAAAAUc3RzcwAAAAAAAAABAAAAAQAAAWBjdHRzAAAAAAAAACoAAAAB\n",
       "AAAEAAAAAAEAAAoAAAAAAQAABAAAAAABAAAAAAAAAAEAAAIAAAAAAQAACgAAAAABAAAEAAAAAAEA\n",
       "AAAAAAAAAQAAAgAAAAABAAAKAAAAAAEAAAQAAAAAAQAAAAAAAAABAAACAAAAAAEAAAgAAAAAAgAA\n",
       "AgAAAAADAAAEAAAAAAEAAAYAAAAAAQAAAgAAAAACAAAEAAAAAAEAAAYAAAAAAQAAAgAAAAABAAAE\n",
       "AAAAAAEAAAYAAAAAAQAAAgAAAAAFAAAEAAAAAAEAAAYAAAAAAQAAAgAAAAABAAAGAAAAAAEAAAIA\n",
       "AAAABgAABAAAAAABAAAGAAAAAAEAAAIAAAAAAwAABAAAAAABAAAIAAAAAAIAAAIAAAAAAQAABAAA\n",
       "AAABAAAIAAAAAAIAAAIAAAAAAgAABAAAAAABAAAGAAAAAAEAAAIAAAAAAQAABAAAAAAcc3RzYwAA\n",
       "AAAAAAABAAAAAQAAADwAAAABAAABBHN0c3oAAAAAAAAAAAAAADwAAAkkAAAAIgAAABIAAAASAAAA\n",
       "EgAAABkAAAAVAAAAEwAAABQAAAAZAAAAFAAAABIAAAASAAABfAAAACEAAAAiAAABmQAAAZAAAABK\n",
       "AAABfwAAACkAAAGIAAAAPAAAAaYAAAAoAAABnAAAAEAAAAAiAAABegAAAYYAAAF3AAABoAAAAZYA\n",
       "AABGAAAAJgAAAE8AAAAhAAABiQAAAX0AAAA/AAAAPwAAAZUAAAA6AAAARgAAACcAAAGeAAABngAA\n",
       "AD4AAAGWAAAARAAAACgAAAF/AAAAQAAAADMAAAAiAAABrwAAAaUAAAGWAAAAMAAAAWgAAAAUc3Rj\n",
       "bwAAAAAAAAABAAAAMAAAAGF1ZHRhAAAAWW1ldGEAAAAAAAAAIWhkbHIAAAAAAAAAAG1kaXJhcHBs\n",
       "AAAAAAAAAAAAAAAALGlsc3QAAAAkqXRvbwAAABxkYXRhAAAAAQAAAABMYXZmNjEuNy4xMDA=\n",
       "\">\n",
       "  Your browser does not support the video tag.\n",
       "</video>"
      ],
      "text/plain": [
       "<IPython.core.display.HTML object>"
      ]
     },
     "execution_count": 10,
     "metadata": {},
     "output_type": "execute_result"
    }
   ],
   "source": [
    "test_agent(env, policy, episodes=1)"
   ]
  },
  {
   "cell_type": "markdown",
   "metadata": {
    "id": "tF2UjZft6Vbg"
   },
   "source": [
    "#### Plot the policy"
   ]
  },
  {
   "cell_type": "code",
   "execution_count": 11,
   "metadata": {
    "id": "HJdUvc1T6Vbg"
   },
   "outputs": [
    {
     "data": {
      "image/png": "[encoded data removed]",
      "text/plain": [
       "<Figure size 800x400 with 2 Axes>"
      ]
     },
     "metadata": {},
     "output_type": "display_data"
    }
   ],
   "source": [
    "plot_policy(policy_probs, frame)"
   ]
  },
  {
   "cell_type": "markdown",
   "metadata": {
    "id": "btCVXrhJ6Vbg"
   },
   "source": [
    "## Define value table $V(s)$"
   ]
  },
  {
   "cell_type": "markdown",
   "metadata": {
    "id": "byOFEsaA6Vbg"
   },
   "source": [
    "#### Create the $V(s)$ table"
   ]
  },
  {
   "cell_type": "code",
   "execution_count": 12,
   "metadata": {
    "id": "j2lX_33D6Vbg"
   },
   "outputs": [],
   "source": [
    "state_values = np.zeros(shape=(5,5))"
   ]
  },
  {
   "cell_type": "markdown",
   "metadata": {
    "id": "D9_EfMnY6Vbh"
   },
   "source": [
    "#### Plot V(s)"
   ]
  },
  {
   "cell_type": "code",
   "execution_count": 13,
   "metadata": {
    "id": "TI5YZTSF6Vbh"
   },
   "outputs": [
    {
     "data": {
      "image/png": "[encoded data removed]",
      "text/plain": [
       "<Figure size 1000x400 with 3 Axes>"
      ]
     },
     "metadata": {},
     "output_type": "display_data"
    }
   ],
   "source": [
    "plot_values(state_values, frame)"
   ]
  },
  {
   "cell_type": "markdown",
   "metadata": {
    "id": "qfiam4Ef6Vbh"
   },
   "source": [
    "## Implement the Policy Iteration algorithm"
   ]
  },
  {
   "cell_type": "code",
   "execution_count": 14,
   "metadata": {
    "id": "N_5XQChT6Vbh"
   },
   "outputs": [],
   "source": [
    "def policy_evaluation(policy_probs, state_values, theta=1e-6, gamma=0.99):\n",
    "    delta = float(\"inf\")\n",
    "\n",
    "    while delta > theta:\n",
    "        delta = 0\n",
    "\n",
    "        for row in range(5):\n",
    "            for col in range(5):\n",
    "                old_value = state_values[(row,col)]\n",
    "                new_value = 0.\n",
    "                action_probabilities = policy_probs[(row,col)]\n",
    "\n",
    "                for action, prob in enumerate(action_probabilities): # for index and first element\n",
    "                    next_state, reward, _, _ = env.simulate_step((row,col), action)\n",
    "                    new_value += prob * (reward + gamma * state_values[next_state])\n",
    "\n",
    "                state_value[(row,col)] = new_value\n",
    "\n",
    "                delta = max(delta, abs(old_value - new_value))"
   ]
  },
  {
   "cell_type": "code",
   "execution_count": null,
   "metadata": {
    "id": "JRj7ZxuO6Vbh"
   },
   "outputs": [],
   "source": []
  },
  {
   "cell_type": "code",
   "execution_count": null,
   "metadata": {
    "id": "-0F0aB_f6Vbh"
   },
   "outputs": [],
   "source": []
  },
  {
   "cell_type": "code",
   "execution_count": null,
   "metadata": {
    "id": "0eZr-1ko6Vbh"
   },
   "outputs": [],
   "source": []
  },
  {
   "cell_type": "markdown",
   "metadata": {
    "id": "zHHT9iLY6Vbh"
   },
   "source": [
    "## Show results"
   ]
  },
  {
   "cell_type": "markdown",
   "metadata": {
    "id": "4bVf7AMd7ajW"
   },
   "source": [
    "Show resulting value table V(s)"
   ]
  },
  {
   "cell_type": "code",
   "execution_count": null,
   "metadata": {
    "id": "Y1GDXzvt7atl"
   },
   "outputs": [],
   "source": [
    "plot_values(state_values, frame)"
   ]
  },
  {
   "cell_type": "markdown",
   "metadata": {
    "id": "1OdMtp1n7hBU"
   },
   "source": [
    "Show resulting policy $\\pi(\\cdot|s)$"
   ]
  },
  {
   "cell_type": "code",
   "execution_count": null,
   "metadata": {
    "id": "y4u6alml7hHQ"
   },
   "outputs": [],
   "source": [
    "plot_policy(policy_probs, frame)"
   ]
  },
  {
   "cell_type": "markdown",
   "metadata": {
    "id": "onu9Yu8D6Vbh"
   },
   "source": [
    "#### Test the resulting agent"
   ]
  },
  {
   "cell_type": "code",
   "execution_count": null,
   "metadata": {
    "id": "U_8oUWxl6Vbh"
   },
   "outputs": [],
   "source": [
    "test_agent(env, policy)"
   ]
  },
  {
   "cell_type": "markdown",
   "metadata": {
    "id": "bixFf0kp6Vbh"
   },
   "source": [
    "## Resources"
   ]
  },
  {
   "cell_type": "markdown",
   "metadata": {
    "id": "NIU61hO36Vbh"
   },
   "source": [
    "[[1] Reinforcement Learning: An Introduction. Ch. 4: Dynamic Programming](https://web.stanford.edu/class/psych209/Readings/SuttonBartoIPRLBook2ndEd.pdf)"
   ]
  }
 ],
 "metadata": {
  "colab": {
   "provenance": []
  },
  "kernelspec": {
   "display_name": "Python 3 (ipykernel)",
   "language": "python",
   "name": "python3"
  },
  "language_info": {
   "codemirror_mode": {
    "name": "ipython",
    "version": 3
   },
   "file_extension": ".py",
   "mimetype": "text/x-python",
   "name": "python",
   "nbconvert_exporter": "python",
   "pygments_lexer": "ipython3",
   "version": "3.12.3"
  }
 },
 "nbformat": 4,
 "nbformat_minor": 4
}
