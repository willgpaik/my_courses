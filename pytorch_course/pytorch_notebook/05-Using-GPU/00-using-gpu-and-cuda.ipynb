{
 "cells": [
  {
   "cell_type": "code",
   "execution_count": 1,
   "id": "dffc2195-6524-4009-9ecc-c7cc3c4a6106",
   "metadata": {},
   "outputs": [],
   "source": [
    "import torch"
   ]
  },
  {
   "cell_type": "code",
   "execution_count": 2,
   "id": "99a69b8c-d0d9-4c2a-8d6f-82ed4c4088e5",
   "metadata": {},
   "outputs": [
    {
     "data": {
      "text/plain": [
       "True"
      ]
     },
     "execution_count": 2,
     "metadata": {},
     "output_type": "execute_result"
    }
   ],
   "source": [
    "torch.cuda.is_available()"
   ]
  },
  {
   "cell_type": "code",
   "execution_count": 3,
   "id": "92eee06a-f2e9-4e58-bd93-dc4ec30d846c",
   "metadata": {},
   "outputs": [
    {
     "data": {
      "text/plain": [
       "0"
      ]
     },
     "execution_count": 3,
     "metadata": {},
     "output_type": "execute_result"
    }
   ],
   "source": [
    "torch.cuda.current_device()"
   ]
  },
  {
   "cell_type": "code",
   "execution_count": 5,
   "id": "fb85fc3c-d50c-4410-a7c7-97666b163af1",
   "metadata": {},
   "outputs": [
    {
     "data": {
      "text/plain": [
       "'NVIDIA GeForce RTX 3070'"
      ]
     },
     "execution_count": 5,
     "metadata": {},
     "output_type": "execute_result"
    }
   ],
   "source": [
    "torch.cuda.get_device_name(0)"
   ]
  },
  {
   "cell_type": "code",
   "execution_count": 6,
   "id": "65a851f6-089e-4d21-b975-f973f136db75",
   "metadata": {},
   "outputs": [
    {
     "data": {
      "text/plain": [
       "0"
      ]
     },
     "execution_count": 6,
     "metadata": {},
     "output_type": "execute_result"
    }
   ],
   "source": [
    "torch.cuda.memory_allocated()"
   ]
  },
  {
   "cell_type": "code",
   "execution_count": 7,
   "id": "de4f20f3-8bf3-47bc-a33c-b27e7debd04c",
   "metadata": {},
   "outputs": [
    {
     "name": "stderr",
     "output_type": "stream",
     "text": [
      "/home/gpaik/.conda/envs/pytorchenv/lib/python3.12/site-packages/torch/cuda/memory.py:440: FutureWarning: torch.cuda.memory_cached has been renamed to torch.cuda.memory_reserved\n",
      "  warnings.warn(\n"
     ]
    },
    {
     "data": {
      "text/plain": [
       "0"
      ]
     },
     "execution_count": 7,
     "metadata": {},
     "output_type": "execute_result"
    }
   ],
   "source": [
    "torch.cuda.memory_cached()"
   ]
  },
  {
   "cell_type": "code",
   "execution_count": 8,
   "id": "4857c19f-426a-4f59-ab1c-0f674a2fa634",
   "metadata": {},
   "outputs": [],
   "source": [
    "a = torch.FloatTensor([1.0,2.0])"
   ]
  },
  {
   "cell_type": "code",
   "execution_count": 9,
   "id": "8fedc363-52e1-4b99-9ccb-3373b5e4e194",
   "metadata": {},
   "outputs": [
    {
     "data": {
      "text/plain": [
       "device(type='cpu')"
      ]
     },
     "execution_count": 9,
     "metadata": {},
     "output_type": "execute_result"
    }
   ],
   "source": [
    "a.device"
   ]
  },
  {
   "cell_type": "code",
   "execution_count": 10,
   "id": "0f4e306f-02cd-41bd-8c48-cfe77d15245c",
   "metadata": {},
   "outputs": [],
   "source": [
    "a = torch.FloatTensor([1.0,2.0]).cuda()"
   ]
  },
  {
   "cell_type": "code",
   "execution_count": 11,
   "id": "68d76095-784e-4e79-9fdf-41001b33e65f",
   "metadata": {},
   "outputs": [
    {
     "data": {
      "text/plain": [
       "device(type='cuda', index=0)"
      ]
     },
     "execution_count": 11,
     "metadata": {},
     "output_type": "execute_result"
    }
   ],
   "source": [
    "a.device"
   ]
  },
  {
   "cell_type": "code",
   "execution_count": 12,
   "id": "b0d5076f-4f7d-4048-ad0e-f4abe845121f",
   "metadata": {},
   "outputs": [
    {
     "data": {
      "text/plain": [
       "512"
      ]
     },
     "execution_count": 12,
     "metadata": {},
     "output_type": "execute_result"
    }
   ],
   "source": [
    "torch.cuda.memory_allocated()"
   ]
  },
  {
   "cell_type": "code",
   "execution_count": 35,
   "id": "e12d3667-2631-4f3c-b7ab-9704c71b3b76",
   "metadata": {},
   "outputs": [],
   "source": [
    "import torch.nn as nn\n",
    "import torch.nn.functional as F\n",
    "from torch.utils.data import Dataset, DataLoader\n",
    "from sklearn.model_selection import train_test_split\n",
    "\n",
    "import pandas as pd\n",
    "import matplotlib.pyplot as plt"
   ]
  },
  {
   "cell_type": "code",
   "execution_count": 15,
   "id": "7b3270f8-224d-48d8-a10c-dc92464d22db",
   "metadata": {},
   "outputs": [],
   "source": [
    "class Model(nn.Module):\n",
    "    def __init__(self, in_features=4, h1=8, h2=9, out_features=3):\n",
    "        super().__init__()\n",
    "        self.fc1 = nn.Linear(in_features, h1)\n",
    "        self.fc2 = nn.Linear(h1, h2)\n",
    "        self.out = nn.Linear(h2, out_features)\n",
    "\n",
    "    def forward(self, X):\n",
    "        X = F.relu(self.fc1(X))\n",
    "        X = F.relu(self.fc2(X))\n",
    "        X = self.out(X)\n",
    "        return X"
   ]
  },
  {
   "cell_type": "code",
   "execution_count": 16,
   "id": "e6aa0f3e-34f4-4416-baf4-1db6f499a114",
   "metadata": {},
   "outputs": [],
   "source": [
    "torch.manual_seed(32)\n",
    "model = Model()"
   ]
  },
  {
   "cell_type": "code",
   "execution_count": 17,
   "id": "f3776ff9-351f-4f5c-a9aa-5933bff1ce69",
   "metadata": {},
   "outputs": [
    {
     "data": {
      "text/plain": [
       "False"
      ]
     },
     "execution_count": 17,
     "metadata": {},
     "output_type": "execute_result"
    }
   ],
   "source": [
    "next(model.parameters()).is_cuda"
   ]
  },
  {
   "cell_type": "code",
   "execution_count": 18,
   "id": "9070e8ad-52d1-4450-9829-b8813cc61ac8",
   "metadata": {},
   "outputs": [],
   "source": [
    "gpumodel = model.cuda()"
   ]
  },
  {
   "cell_type": "code",
   "execution_count": 19,
   "id": "c918a126-b291-4e20-abff-620251ec07a6",
   "metadata": {},
   "outputs": [
    {
     "data": {
      "text/plain": [
       "True"
      ]
     },
     "execution_count": 19,
     "metadata": {},
     "output_type": "execute_result"
    }
   ],
   "source": [
    "next(gpumodel.parameters()).is_cuda"
   ]
  },
  {
   "cell_type": "code",
   "execution_count": 20,
   "id": "d31ddebc-0e41-4666-8bc0-06413eed2493",
   "metadata": {},
   "outputs": [],
   "source": [
    "df = pd.read_csv('../Data/iris.csv')"
   ]
  },
  {
   "cell_type": "code",
   "execution_count": 21,
   "id": "6b929442-2b6d-44bd-bb02-74b91b83e242",
   "metadata": {},
   "outputs": [],
   "source": [
    "X = df.drop('target', axis=1).values"
   ]
  },
  {
   "cell_type": "code",
   "execution_count": 22,
   "id": "ef2b2878-bb7b-48e0-9e3f-a86d14b6245b",
   "metadata": {},
   "outputs": [],
   "source": [
    "y = df['target'].values"
   ]
  },
  {
   "cell_type": "code",
   "execution_count": 29,
   "id": "ce064bd0-e0b1-4161-ac02-426f67c8170e",
   "metadata": {},
   "outputs": [],
   "source": [
    "X_train, X_test, y_train, y_test = train_test_split(X,y,test_size=0.2, random_state=33)"
   ]
  },
  {
   "cell_type": "code",
   "execution_count": 30,
   "id": "c6629e52-6705-407d-8051-f66eec61b470",
   "metadata": {},
   "outputs": [],
   "source": [
    "X_train = torch.FloatTensor(X_train).cuda()"
   ]
  },
  {
   "cell_type": "code",
   "execution_count": 31,
   "id": "2c0fd2fc-0bda-4c57-9014-3b8fd88e1e7f",
   "metadata": {},
   "outputs": [],
   "source": [
    "X_test = torch.FloatTensor(X_test).cuda()\n",
    "y_train = torch.LongTensor(y_train).cuda()\n",
    "y_test = torch.LongTensor(y_test).cuda()"
   ]
  },
  {
   "cell_type": "code",
   "execution_count": 32,
   "id": "ccb82e0d-9682-4392-ac5f-e2251029e882",
   "metadata": {},
   "outputs": [],
   "source": [
    "trainloader = DataLoader(X_train, batch_size=60, shuffle=True, pin_memory=True)\n",
    "testloader = DataLoader(X_test, batch_size=60, shuffle=True, pin_memory=True)"
   ]
  },
  {
   "cell_type": "code",
   "execution_count": 33,
   "id": "1b29d85e-72fc-4717-bf95-5e498ca31116",
   "metadata": {},
   "outputs": [],
   "source": [
    "criterion = nn.CrossEntropyLoss()\n",
    "optimizer = torch.optim.Adam(model.parameters(), lr=0.01)"
   ]
  },
  {
   "cell_type": "code",
   "execution_count": 36,
   "id": "bcd89767-5d26-419c-b71f-1b2c25bc2ff6",
   "metadata": {},
   "outputs": [
    {
     "name": "stdout",
     "output_type": "stream",
     "text": [
      "epoch = 0 loss: 1.1507112979888916\n",
      "epoch = 10 loss: 0.9377313256263733\n",
      "epoch = 20 loss: 0.7798258662223816\n",
      "epoch = 30 loss: 0.6099399924278259\n",
      "epoch = 40 loss: 0.40079930424690247\n",
      "epoch = 50 loss: 0.25436314940452576\n",
      "epoch = 60 loss: 0.15053051710128784\n",
      "epoch = 70 loss: 0.10086943954229355\n",
      "epoch = 80 loss: 0.08128313720226288\n",
      "epoch = 90 loss: 0.07231426239013672\n",
      "total time: 0.24511408805847168\n"
     ]
    }
   ],
   "source": [
    "import time\n",
    "start = time.time()\n",
    "\n",
    "epochs = 100\n",
    "losses = []\n",
    "\n",
    "for i in range(epochs):\n",
    "    y_pred = gpumodel.forward(X_train)\n",
    "    loss = criterion(y_pred, y_train)\n",
    "    losses.append(loss.item())\n",
    "\n",
    "    if i%10 == 0:\n",
    "        print(f'epoch = {i} loss: {loss.item()}')\n",
    "\n",
    "    optimizer.zero_grad()\n",
    "    loss.backward()\n",
    "    optimizer.step()\n",
    "\n",
    "end = time.time() - start\n",
    "print(f'total time: {end}')"
   ]
  },
  {
   "cell_type": "code",
   "execution_count": 37,
   "id": "d11c30c4-3ad1-4fcf-bd29-0a06844a1a71",
   "metadata": {},
   "outputs": [
    {
     "name": "stdout",
     "output_type": "stream",
     "text": [
      " 1. tensor([-2.1252,  4.8064, -0.8628], device='cuda:0') 1\n",
      " 2. tensor([-1.7985,  5.3098, -1.5449], device='cuda:0') 1\n",
      " 3. tensor([  6.3542,   0.8438, -10.0541], device='cuda:0') 0\n",
      " 4. tensor([-3.9123,  4.5958,  1.1693], device='cuda:0') 1\n",
      " 5. tensor([-7.4713,  3.2021,  5.7853], device='cuda:0') 2\n",
      " 6. tensor([-10.4976,   1.6459,   9.6297], device='cuda:0') 2\n",
      " 7. tensor([  6.3201,   0.9917, -10.1532], device='cuda:0') 0\n",
      " 8. tensor([  7.0468,   0.7059, -10.9137], device='cuda:0') 0\n",
      " 9. tensor([-7.2061,  3.3477,  5.3565], device='cuda:0') 2\n",
      "10. tensor([-9.3960,  2.5759,  8.1033], device='cuda:0') 2\n",
      "11. tensor([-9.8808,  2.3475,  8.7141], device='cuda:0') 2\n",
      "12. tensor([ 6.2748,  0.6655, -9.7613], device='cuda:0') 0\n",
      "13. tensor([-9.3142,  2.1880,  8.1947], device='cuda:0') 2\n",
      "14. tensor([-3.7803,  4.5050,  1.0752], device='cuda:0') 1\n",
      "15. tensor([-7.8657,  3.0117,  6.2303], device='cuda:0') 2\n",
      "16. tensor([-1.8867,  5.1572, -1.3345], device='cuda:0') 1\n",
      "17. tensor([-5.7006,  3.5030,  3.6696], device='cuda:0') 2\n",
      "18. tensor([  7.1789,   0.7369, -11.1350], device='cuda:0') 0\n",
      "19. tensor([-3.2944,  4.7931,  0.3475], device='cuda:0') 1\n",
      "20. tensor([-7.7665,  3.7629,  5.7095], device='cuda:0') 2\n",
      "21. tensor([  6.6499,   0.7889, -10.4252], device='cuda:0') 0\n",
      "22. tensor([  7.4357,   0.8918, -11.6600], device='cuda:0') 0\n",
      "23. tensor([-9.7584,  2.1744,  8.6654], device='cuda:0') 2\n",
      "24. tensor([  6.5770,   0.7421, -10.2733], device='cuda:0') 0\n",
      "25. tensor([-7.4144,  2.8719,  5.9445], device='cuda:0') 2\n",
      "26. tensor([-6.1551,  3.4030,  4.2300], device='cuda:0') 2\n",
      "27. tensor([-3.1634,  4.7460,  0.2703], device='cuda:0') 1\n",
      "28. tensor([-1.5446,  4.9031, -1.5557], device='cuda:0') 1\n",
      "29. tensor([-7.4335,  3.1101,  5.7350], device='cuda:0') 2\n",
      "30. tensor([-6.7037,  3.1187,  4.9595], device='cuda:0') 2\n",
      "\n",
      "30 out of 30 = 100.00% correct\n"
     ]
    }
   ],
   "source": [
    "correct = 0\n",
    "with torch.no_grad():\n",
    "    for i, data in enumerate(X_test):\n",
    "        y_val = gpumodel.forward(data)\n",
    "        print(f'{i+1:2}. {str(y_val):38} {y_test[i]}')\n",
    "        if y_val.argmax().item() == y_test[i]:\n",
    "            correct += 1\n",
    "print(f'\\n{correct} out of {len(y_test)} = {100*correct/len(y_test):.2f}% correct')"
   ]
  },
  {
   "cell_type": "code",
   "execution_count": null,
   "id": "1d79b5fb-30bc-44bb-87f7-74173b9eabfb",
   "metadata": {},
   "outputs": [],
   "source": []
  }
 ],
 "metadata": {
  "kernelspec": {
   "display_name": "Python 3 (ipykernel)",
   "language": "python",
   "name": "python3"
  },
  "language_info": {
   "codemirror_mode": {
    "name": "ipython",
    "version": 3
   },
   "file_extension": ".py",
   "mimetype": "text/x-python",
   "name": "python",
   "nbconvert_exporter": "python",
   "pygments_lexer": "ipython3",
   "version": "3.12.4"
  }
 },
 "nbformat": 4,
 "nbformat_minor": 5
}
