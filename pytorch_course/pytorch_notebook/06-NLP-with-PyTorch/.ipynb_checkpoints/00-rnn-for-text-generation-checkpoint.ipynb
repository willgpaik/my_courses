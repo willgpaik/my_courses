{
 "cells": [
  {
   "cell_type": "code",
   "execution_count": 1,
   "id": "3749fc82-c5c6-4e2f-88d9-e7114698ac0c",
   "metadata": {},
   "outputs": [],
   "source": [
    "import torch\n",
    "from torch import nn\n",
    "import torch.nn.functional as F"
   ]
  },
  {
   "cell_type": "code",
   "execution_count": 2,
   "id": "9089a985-5946-4d93-8597-38a47250ce25",
   "metadata": {},
   "outputs": [],
   "source": [
    "import numpy as np\n",
    "import matplotlib.pyplot as plt"
   ]
  },
  {
   "cell_type": "code",
   "execution_count": 3,
   "id": "85ff2f6a-e065-4a7f-88dc-0a2db7e9b43f",
   "metadata": {},
   "outputs": [],
   "source": [
    "with open('../Data/shakespeare.txt','r',encoding='utf8') as f:\n",
    "    text = f.read()"
   ]
  },
  {
   "cell_type": "code",
   "execution_count": 4,
   "id": "b7b15621-fdab-443f-baa5-165b67bd0042",
   "metadata": {},
   "outputs": [
    {
     "data": {
      "text/plain": [
       "str"
      ]
     },
     "execution_count": 4,
     "metadata": {},
     "output_type": "execute_result"
    }
   ],
   "source": [
    "type(text)"
   ]
  },
  {
   "cell_type": "code",
   "execution_count": 5,
   "id": "3c32051b-c05a-4767-b13e-ec772493d9b5",
   "metadata": {},
   "outputs": [
    {
     "name": "stdout",
     "output_type": "stream",
     "text": [
      "\n",
      "                     1\n",
      "  From fairest creatures we desire increase,\n",
      "  That thereby beauty's rose might never die,\n",
      "  But as the riper should by time decease,\n",
      "  His tender heir might bear his memory:\n",
      "  But thou contracted to thine own bright eyes,\n",
      "  Feed'st thy light's flame with self-substantial fuel,\n",
      "  Making a famine where abundance lies,\n",
      "  Thy self thy foe, to thy sweet self too cruel:\n",
      "  Thou that art now the world's fresh ornament,\n",
      "  And only herald to the gaudy spring,\n",
      "  Within thine own bud buriest thy content,\n",
      "  And tender churl mak'st waste in niggarding:\n",
      "    Pity the world, or else this glutton be,\n",
      "    To eat the world's due, by the grave and thee.\n",
      "\n",
      "\n",
      "                     2\n",
      "  When forty winters shall besiege thy brow,\n",
      "  And dig deep trenches in thy beauty's field,\n",
      "  Thy youth's proud livery so gazed on now,\n",
      "  Will be a tattered weed of small worth held:  \n",
      "  Then being asked, where all thy beauty lies,\n",
      "  Where all the treasure of thy lusty days;\n",
      "  To say within thine own deep su\n"
     ]
    }
   ],
   "source": [
    "print(text[:1000])"
   ]
  },
  {
   "cell_type": "code",
   "execution_count": 6,
   "id": "743add13-1a8c-41d4-b5e8-a88bc9d9fd5a",
   "metadata": {},
   "outputs": [
    {
     "data": {
      "text/plain": [
       "5445609"
      ]
     },
     "execution_count": 6,
     "metadata": {},
     "output_type": "execute_result"
    }
   ],
   "source": [
    "len(text)"
   ]
  },
  {
   "cell_type": "code",
   "execution_count": 7,
   "id": "3e426e55-2346-4ded-a5ca-ade50af7153a",
   "metadata": {},
   "outputs": [],
   "source": [
    "all_characters = set(text)"
   ]
  },
  {
   "cell_type": "code",
   "execution_count": 8,
   "id": "c7b1d7e1-a857-46a6-a3c4-4c8664f46d2a",
   "metadata": {},
   "outputs": [
    {
     "data": {
      "text/plain": [
       "84"
      ]
     },
     "execution_count": 8,
     "metadata": {},
     "output_type": "execute_result"
    }
   ],
   "source": [
    "len(all_characters)"
   ]
  },
  {
   "cell_type": "code",
   "execution_count": 9,
   "id": "b53b4fa7-405d-426f-9b37-57e766a4b81b",
   "metadata": {},
   "outputs": [],
   "source": [
    "# number of value ---> letter\n",
    "decoder = dict(enumerate(all_characters))"
   ]
  },
  {
   "cell_type": "code",
   "execution_count": 10,
   "id": "3927b319-796d-4e36-8b8d-090b81ca6b58",
   "metadata": {},
   "outputs": [],
   "source": [
    "#decoder"
   ]
  },
  {
   "cell_type": "code",
   "execution_count": 11,
   "id": "794f5a8b-6f1b-485f-8a9c-4c83cad02cb2",
   "metadata": {},
   "outputs": [],
   "source": [
    "# letter ---> corresponding number\n",
    "encoder = {char: idx for idx,char in decoder.items()}"
   ]
  },
  {
   "cell_type": "code",
   "execution_count": 12,
   "id": "a24b2c30-1a29-4ff5-8ab2-8c4c6ff1372f",
   "metadata": {},
   "outputs": [],
   "source": [
    "#encoder"
   ]
  },
  {
   "cell_type": "code",
   "execution_count": 13,
   "id": "887e0feb-52a0-4420-a6dc-21500741ceb4",
   "metadata": {},
   "outputs": [],
   "source": [
    "encoded_text = np.array([encoder[char] for char in text])"
   ]
  },
  {
   "cell_type": "code",
   "execution_count": 14,
   "id": "955792cc-ed99-4c1c-8aab-edcb1ca65be5",
   "metadata": {},
   "outputs": [
    {
     "data": {
      "text/plain": [
       "array([25, 20, 20, 20, 20, 20, 20, 20, 20, 20, 20, 20, 20, 20, 20, 20, 20,\n",
       "       20, 20, 20, 20, 20, 53, 25, 20, 20, 27, 51, 58, 42, 20, 26, 43,  2,\n",
       "       51,  8, 28, 68, 20, 34, 51,  8, 43, 68, 21, 51,  8, 28, 20, 78,  8,\n",
       "       20, 10,  8, 28,  2, 51,  8, 20,  2, 44, 34, 51,  8, 43, 28,  8, 52,\n",
       "       25, 20, 20,  7, 16, 43, 68, 20, 68, 16,  8, 51,  8, 63, 74, 20, 63,\n",
       "        8, 43, 21, 68, 74, 64, 28, 20, 51, 58, 28,  8, 20, 42,  2,  3, 16,\n",
       "       68, 20, 44,  8, 72,  8, 51, 20, 10,  2,  8, 52, 25, 20, 20,  0, 21,\n",
       "       68, 20, 43, 28, 20, 68, 16,  8, 20, 51,  2,  1,  8, 51, 20, 28, 16,\n",
       "       58, 21, 79, 10, 20, 63, 74, 20, 68,  2, 42,  8, 20, 10,  8, 34,  8,\n",
       "       43, 28,  8, 52, 25, 20, 20, 83,  2, 28, 20, 68,  8, 44, 10,  8, 51,\n",
       "       20, 16,  8,  2, 51, 20, 42,  2,  3, 16, 68, 20, 63,  8, 43, 51, 20,\n",
       "       16,  2, 28, 20, 42,  8, 42, 58, 51, 74, 57, 25, 20, 20,  0, 21, 68,\n",
       "       20, 68, 16, 58, 21, 20, 34, 58, 44, 68, 51, 43, 34, 68,  8, 10, 20,\n",
       "       68, 58, 20, 68, 16,  2, 44,  8, 20, 58, 78, 44, 20, 63, 51,  2,  3,\n",
       "       16, 68, 20,  8, 74,  8, 28, 52, 25, 20, 20, 27,  8,  8, 10, 64, 28,\n",
       "       68, 20, 68, 16, 74, 20, 79,  2,  3, 16, 68, 64, 28, 20, 26, 79, 43,\n",
       "       42,  8, 20, 78,  2, 68, 16, 20, 28,  8, 79, 26, 81, 28, 21, 63, 28,\n",
       "       68, 43, 44, 68,  2, 43, 79, 20, 26, 21,  8, 79, 52, 25, 20, 20, 40,\n",
       "       43, 32,  2, 44,  3, 20, 43, 20, 26, 43, 42,  2, 44,  8, 20, 78, 16,\n",
       "        8, 51,  8, 20, 43, 63, 21, 44, 10, 43, 44, 34,  8, 20, 79,  2,  8,\n",
       "       28, 52, 25, 20, 20,  7, 16, 74, 20, 28,  8, 79, 26, 20, 68, 16, 74,\n",
       "       20, 26, 58,  8, 52, 20, 68, 58, 20, 68, 16, 74, 20, 28, 78,  8,  8,\n",
       "       68, 20, 28,  8, 79, 26, 20, 68, 58, 58, 20, 34, 51, 21,  8, 79, 57,\n",
       "       25, 20, 20,  7, 16, 58, 21, 20, 68, 16, 43, 68, 20, 43, 51, 68, 20,\n",
       "       44, 58, 78, 20, 68, 16,  8, 20, 78, 58, 51, 79, 10, 64, 28, 20, 26,\n",
       "       51,  8, 28, 16, 20, 58, 51, 44, 43, 42,  8, 44, 68, 52, 25, 20, 20,\n",
       "       59, 44, 10, 20, 58, 44, 79, 74, 20, 16,  8, 51, 43, 79, 10, 20, 68,\n",
       "       58, 20, 68, 16,  8, 20,  3, 43, 21, 10, 74, 20, 28,  1, 51,  2, 44,\n",
       "        3, 52, 25, 20, 20, 48,  2, 68, 16,  2, 44, 20, 68, 16,  2, 44,  8,\n",
       "       20, 58, 78, 44, 20, 63, 21])"
      ]
     },
     "execution_count": 14,
     "metadata": {},
     "output_type": "execute_result"
    }
   ],
   "source": [
    "encoded_text[:500]"
   ]
  },
  {
   "cell_type": "code",
   "execution_count": 15,
   "id": "e6fc5fcc-c7b2-4477-92d3-3e9f8b3b9435",
   "metadata": {},
   "outputs": [
    {
     "data": {
      "text/plain": [
       "'a'"
      ]
     },
     "execution_count": 15,
     "metadata": {},
     "output_type": "execute_result"
    }
   ],
   "source": [
    "decoder[43]"
   ]
  },
  {
   "cell_type": "code",
   "execution_count": 16,
   "id": "2dd85ce2-036e-4db3-b5a6-85fff031040b",
   "metadata": {},
   "outputs": [],
   "source": [
    "def one_hot_encoder(encoded_text, num_uni_chars):\n",
    "    # encoded text ---> batch of encoded text\n",
    "    # num_uni_chars ---> len(set(text))\n",
    "\n",
    "    one_hot = np.zeros((encoded_text.size, num_uni_chars))\n",
    "\n",
    "    # convert data type\n",
    "    one_hot = one_hot.astype(np.float32)\n",
    "\n",
    "    # set values to 1 for each corresponding character (i.e. 0, 0, 0, 0, ..., 1(43rd position), 0, 0, ...) for ' ' (space)\n",
    "    one_hot[np.arange(one_hot.shape[0]), encoded_text.flatten()] = 1.0\n",
    "\n",
    "    one_hot = one_hot.reshape((*encoded_text.shape, num_uni_chars))\n",
    "\n",
    "    return one_hot"
   ]
  },
  {
   "cell_type": "code",
   "execution_count": 17,
   "id": "df9fccfd-3561-4784-bb3a-69de41e8f557",
   "metadata": {},
   "outputs": [],
   "source": [
    "arr = np.array([1,2,0])"
   ]
  },
  {
   "cell_type": "code",
   "execution_count": 18,
   "id": "590c7885-a7ea-475d-89ea-62dd882d751a",
   "metadata": {},
   "outputs": [
    {
     "data": {
      "text/plain": [
       "array([1, 2, 0])"
      ]
     },
     "execution_count": 18,
     "metadata": {},
     "output_type": "execute_result"
    }
   ],
   "source": [
    "arr"
   ]
  },
  {
   "cell_type": "code",
   "execution_count": 19,
   "id": "1d485e21-9816-489e-bf12-43e3f73de37c",
   "metadata": {},
   "outputs": [
    {
     "data": {
      "text/plain": [
       "array([[0., 1., 0.],\n",
       "       [0., 0., 1.],\n",
       "       [1., 0., 0.]], dtype=float32)"
      ]
     },
     "execution_count": 19,
     "metadata": {},
     "output_type": "execute_result"
    }
   ],
   "source": [
    "# for idx 1 of row 1 -> 1, idx 2 of row 2 -> 1, and idx 0 of row 2 -> 1\n",
    "one_hot_encoder(arr, 3)"
   ]
  },
  {
   "cell_type": "code",
   "execution_count": 20,
   "id": "a2ffe010-2a5c-4b5d-8f50-b692ac7c8b57",
   "metadata": {},
   "outputs": [],
   "source": [
    "example_text = np.arange(10)"
   ]
  },
  {
   "cell_type": "code",
   "execution_count": 21,
   "id": "27dfbd8f-6706-4ded-a92d-2fe0fbca32fe",
   "metadata": {},
   "outputs": [
    {
     "data": {
      "text/plain": [
       "array([0, 1, 2, 3, 4, 5, 6, 7, 8, 9])"
      ]
     },
     "execution_count": 21,
     "metadata": {},
     "output_type": "execute_result"
    }
   ],
   "source": [
    "example_text"
   ]
  },
  {
   "cell_type": "code",
   "execution_count": 22,
   "id": "856b6753-5d8a-45d7-b665-6e871cf361dc",
   "metadata": {},
   "outputs": [
    {
     "data": {
      "text/plain": [
       "array([[0, 1],\n",
       "       [2, 3],\n",
       "       [4, 5],\n",
       "       [6, 7],\n",
       "       [8, 9]])"
      ]
     },
     "execution_count": 22,
     "metadata": {},
     "output_type": "execute_result"
    }
   ],
   "source": [
    "example_text.reshape((5,-1))"
   ]
  },
  {
   "cell_type": "code",
   "execution_count": 28,
   "id": "597e6839-b7fc-4856-827a-0a2a25823191",
   "metadata": {},
   "outputs": [],
   "source": [
    "def generate_batches(encoded_text, samp_per_batch=10, seq_len=50):\n",
    "    # X: encoded text of length seq_len\n",
    "    # ex: [0, 1, 2]\n",
    "    #     [1, 2, 3]\n",
    "    \n",
    "    # Y: encoded text shifted by one\n",
    "    # ex: [1, 2, 3]\n",
    "    #     [2, 3, 4]\n",
    "    \n",
    "    char_per_batch = samp_per_batch * seq_len # total number of chars per batch\n",
    "    num_batches_avail = int(len(encoded_text)/char_per_batch) # how many batches can we make\n",
    "\n",
    "    # cut off the end of the encoded text, that won't fit evenly into a batch (remove last few chars, up to 49)\n",
    "    encoded_text = encoded_text[:num_batches_avail*char_per_batch]\n",
    "\n",
    "    encoded_text = encoded_text.reshape((samp_per_batch,-1))\n",
    "\n",
    "    for n in range(0, encoded_text.shape[1], seq_len):\n",
    "        x = encoded_text[:,n:n+seq_len]\n",
    "\n",
    "        # zero array to the same shape as x\n",
    "        y = np.zeros_like(x)\n",
    "\n",
    "        try:\n",
    "            y[:,:-1] = x[:,1:]\n",
    "            y[:,-1] = encoded_text[:,n+seq_len]\n",
    "        except:\n",
    "            y[:,:-1] = x[:,1:]\n",
    "            y[:,-1] = encoded_text[:,0]\n",
    "\n",
    "        yield x,y"
   ]
  },
  {
   "cell_type": "code",
   "execution_count": 33,
   "id": "85f478cb-f0c6-4cd1-ba13-a110ea4827d0",
   "metadata": {},
   "outputs": [],
   "source": [
    "sample_text = np.arange(20)"
   ]
  },
  {
   "cell_type": "code",
   "execution_count": 34,
   "id": "e59edef4-2ee4-4e65-9186-4d2d4085f1bf",
   "metadata": {},
   "outputs": [
    {
     "data": {
      "text/plain": [
       "array([ 0,  1,  2,  3,  4,  5,  6,  7,  8,  9, 10, 11, 12, 13, 14, 15, 16,\n",
       "       17, 18, 19])"
      ]
     },
     "execution_count": 34,
     "metadata": {},
     "output_type": "execute_result"
    }
   ],
   "source": [
    "sample_text"
   ]
  },
  {
   "cell_type": "code",
   "execution_count": 35,
   "id": "0cbbdf8b-aac6-4d46-844a-f75fd93db86c",
   "metadata": {},
   "outputs": [],
   "source": [
    "batch_generator = generate_batches(sample_text, samp_per_batch=2, seq_len=5)"
   ]
  },
  {
   "cell_type": "code",
   "execution_count": 36,
   "id": "1e09e595-a6af-47e9-9a70-60c8df8a662b",
   "metadata": {},
   "outputs": [],
   "source": [
    "x,y = next(batch_generator)"
   ]
  },
  {
   "cell_type": "code",
   "execution_count": 37,
   "id": "70e63fbb-49ce-44de-acb5-22d9ed62b802",
   "metadata": {},
   "outputs": [
    {
     "data": {
      "text/plain": [
       "array([[ 0,  1,  2,  3,  4],\n",
       "       [10, 11, 12, 13, 14]])"
      ]
     },
     "execution_count": 37,
     "metadata": {},
     "output_type": "execute_result"
    }
   ],
   "source": [
    "x"
   ]
  },
  {
   "cell_type": "code",
   "execution_count": 38,
   "id": "e0969d66-6194-4402-bb94-7617ecdc2078",
   "metadata": {},
   "outputs": [
    {
     "data": {
      "text/plain": [
       "array([[ 1,  2,  3,  4,  5],\n",
       "       [11, 12, 13, 14, 15]])"
      ]
     },
     "execution_count": 38,
     "metadata": {},
     "output_type": "execute_result"
    }
   ],
   "source": [
    "y"
   ]
  },
  {
   "cell_type": "code",
   "execution_count": 46,
   "id": "b0d3b6e0-2378-4784-a184-9b9ac046dc47",
   "metadata": {},
   "outputs": [],
   "source": [
    "class CharModel(nn.Module):\n",
    "    def __init__(self, all_chars, num_hidden=256, num_layers=4, drop_prob=0.5, use_gpu=False):\n",
    "        super().__init__()\n",
    "        self.drop_prob = drop_prob\n",
    "        self.num_layers = num_layers\n",
    "        self.num_hidden = num_hidden\n",
    "        self.use_gpu = use_gpu\n",
    "\n",
    "        self.all_chars = all_chars\n",
    "        self.decoder = dict(enumerate(all_chars))\n",
    "        self.encoder = {char:idx for idx, char in decoder.items()}\n",
    "\n",
    "        # use batch_first=True to match the format as batch generator\n",
    "        self.lstm = nn.LSTM(len(self.all_chars), num_hidden, num_layers, dropout=drop_prob, batch_first=True)\n",
    "        self.dropout = nn.Dropout(drop_prob)\n",
    "        self.fc_linear = nn.Linear(num_hidden, len(self.all_chars))\n",
    "\n",
    "    def forward(self, x, hidden):\n",
    "        lstm_output, hidden = self.lstm(x,hidden)\n",
    "        drop_output = self.dropout(lstm_output)\n",
    "        drop_output = drop_output.contiguous().view(-1,self.num_hidden) # reshaping\n",
    "        final_out = self.fc_linear(drop_output)\n",
    "\n",
    "        return final_out, hidden\n",
    "\n",
    "    def hidden_state(self, batch_size):\n",
    "        if self.use_gpu:\n",
    "            hidden = (torch.zeros(self.num_layers, batch_size, self.num_hidden).cuda(),\n",
    "                torch.zeros(self.num_layers, batch_size, self.num_hidden).cuda())\n",
    "        else:\n",
    "            hidden = (torch.zeros(self.num_layers, batch_size, self.num_hidden),\n",
    "                torch.zeros(self.num_layers, batch_size, self.num_hidden))\n",
    "\n",
    "        return hidden"
   ]
  },
  {
   "cell_type": "code",
   "execution_count": 47,
   "id": "19d5a39b-d02e-47c2-9477-3261d7232d9e",
   "metadata": {},
   "outputs": [],
   "source": [
    "model = CharModel(all_chars=all_characters, num_hidden=512, num_layers=3, drop_prob=0.5, use_gpu=True)"
   ]
  },
  {
   "cell_type": "code",
   "execution_count": 48,
   "id": "56c2bcfb-fa0f-4ff2-837b-382798cc5c3b",
   "metadata": {},
   "outputs": [],
   "source": [
    "total_param = []\n",
    "for p in model.parameters():\n",
    "    total_param.append(int(p.numel()))"
   ]
  },
  {
   "cell_type": "code",
   "execution_count": 49,
   "id": "c2aa5c3c-856b-4134-9e5d-bc847d8beaf0",
   "metadata": {},
   "outputs": [
    {
     "data": {
      "text/plain": [
       "5470292"
      ]
     },
     "execution_count": 49,
     "metadata": {},
     "output_type": "execute_result"
    }
   ],
   "source": [
    "sum(total_param)\n",
    "# try to match size of dataset (at least order of magnitude)\n",
    "# too many parameters for too small text data -> overfitting\n",
    "# too less parameters for too much text data -> underfitting"
   ]
  },
  {
   "cell_type": "code",
   "execution_count": 50,
   "id": "86035842-c62b-4982-a1d4-7292dda92a4b",
   "metadata": {},
   "outputs": [],
   "source": [
    "optimizer = torch.optim.Adam(model.parameters(), lr=0.001)\n",
    "criterion = nn.CrossEntropyLoss()"
   ]
  },
  {
   "cell_type": "code",
   "execution_count": 51,
   "id": "26217eed-ee7e-4e95-8c63-cbbd4e471ca6",
   "metadata": {},
   "outputs": [],
   "source": [
    "train_percent = 0.1"
   ]
  },
  {
   "cell_type": "code",
   "execution_count": 52,
   "id": "3164a765-e1ec-417b-ad75-9ba6a86fae07",
   "metadata": {},
   "outputs": [],
   "source": [
    "train_idx = int(len(encoded_text)*train_percent)"
   ]
  },
  {
   "cell_type": "code",
   "execution_count": 53,
   "id": "5c0e330c-15a2-4ec6-a87b-db5e12545dfe",
   "metadata": {},
   "outputs": [],
   "source": [
    "train_data = encoded_text[:train_idx]\n",
    "val_data = encoded_text[train_idx:]"
   ]
  },
  {
   "cell_type": "code",
   "execution_count": 54,
   "id": "fe4964be-de43-41a4-a7a3-ede2ae34cb87",
   "metadata": {},
   "outputs": [
    {
     "data": {
      "text/plain": [
       "544560"
      ]
     },
     "execution_count": 54,
     "metadata": {},
     "output_type": "execute_result"
    }
   ],
   "source": [
    "len(train_data)"
   ]
  },
  {
   "cell_type": "code",
   "execution_count": 55,
   "id": "260f1b66-78a7-47be-bc58-941bdcda207a",
   "metadata": {},
   "outputs": [
    {
     "data": {
      "text/plain": [
       "4901049"
      ]
     },
     "execution_count": 55,
     "metadata": {},
     "output_type": "execute_result"
    }
   ],
   "source": [
    "len(val_data)"
   ]
  },
  {
   "cell_type": "code",
   "execution_count": 56,
   "id": "ec4b50d4-9578-44bb-966e-2ea90f3685b4",
   "metadata": {},
   "outputs": [],
   "source": [
    "train_percent = 0.9 # majority of data will be used for training"
   ]
  },
  {
   "cell_type": "code",
   "execution_count": 59,
   "id": "d181f270-20ae-48d6-840c-4743b74c43a7",
   "metadata": {},
   "outputs": [],
   "source": [
    "train_idx = int(len(encoded_text) * train_percent)"
   ]
  },
  {
   "cell_type": "code",
   "execution_count": 60,
   "id": "6debcbbb-8897-4cbf-86c4-c476f339e63b",
   "metadata": {},
   "outputs": [],
   "source": [
    "train_data = encoded_text[:train_idx]\n",
    "val_data = encoded_text[train_idx:]"
   ]
  },
  {
   "cell_type": "code",
   "execution_count": null,
   "id": "394a19bf-7524-4e22-8dc1-626001e154a9",
   "metadata": {},
   "outputs": [],
   "source": []
  }
 ],
 "metadata": {
  "kernelspec": {
   "display_name": "Python 3 (ipykernel)",
   "language": "python",
   "name": "python3"
  },
  "language_info": {
   "codemirror_mode": {
    "name": "ipython",
    "version": 3
   },
   "file_extension": ".py",
   "mimetype": "text/x-python",
   "name": "python",
   "nbconvert_exporter": "python",
   "pygments_lexer": "ipython3",
   "version": "3.12.4"
  }
 },
 "nbformat": 4,
 "nbformat_minor": 5
}
