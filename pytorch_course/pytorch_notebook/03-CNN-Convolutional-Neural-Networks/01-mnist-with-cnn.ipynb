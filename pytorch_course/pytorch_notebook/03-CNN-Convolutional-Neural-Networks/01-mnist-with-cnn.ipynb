{
 "cells": [
  {
   "cell_type": "code",
   "execution_count": 1,
   "id": "42c4e373-8c7e-410a-a446-e282dd256f36",
   "metadata": {},
   "outputs": [],
   "source": [
    "import torch\n",
    "import torch.nn as nn\n",
    "import torch.nn.functional as F\n",
    "from torch.utils.data import DataLoader\n",
    "from torchvision import datasets, transforms\n",
    "from torchvision.utils import make_grid\n",
    "\n",
    "import numpy as np\n",
    "import pandas as pd\n",
    "from sklearn.metrics import confusion_matrix\n",
    "import matplotlib.pyplot as plt"
   ]
  },
  {
   "cell_type": "code",
   "execution_count": 2,
   "id": "13658aa0-97ac-4f1a-b8d3-70d649b5e825",
   "metadata": {},
   "outputs": [],
   "source": [
    "transform = transforms.ToTensor()"
   ]
  },
  {
   "cell_type": "code",
   "execution_count": 3,
   "id": "1a44c379-dc31-4265-ab17-c1a697c9a071",
   "metadata": {},
   "outputs": [],
   "source": [
    "train_data = datasets.MNIST(root='../Data/', train=True, download=True, transform=transform)"
   ]
  },
  {
   "cell_type": "code",
   "execution_count": 4,
   "id": "f7c12516-988c-4607-a093-1206e3ee9ea7",
   "metadata": {},
   "outputs": [],
   "source": [
    "test_data = datasets.MNIST(root='../Data/', train=False, download=True, transform=transform)"
   ]
  },
  {
   "cell_type": "code",
   "execution_count": 5,
   "id": "2e216897-8d41-4fd5-87d6-a97914608867",
   "metadata": {},
   "outputs": [
    {
     "data": {
      "text/plain": [
       "Dataset MNIST\n",
       "    Number of datapoints: 60000\n",
       "    Root location: ../Data/\n",
       "    Split: Train\n",
       "    StandardTransform\n",
       "Transform: ToTensor()"
      ]
     },
     "execution_count": 5,
     "metadata": {},
     "output_type": "execute_result"
    }
   ],
   "source": [
    "train_data"
   ]
  },
  {
   "cell_type": "code",
   "execution_count": 6,
   "id": "27faff90-5901-40a2-9686-d06a7c84ad37",
   "metadata": {},
   "outputs": [
    {
     "data": {
      "text/plain": [
       "Dataset MNIST\n",
       "    Number of datapoints: 10000\n",
       "    Root location: ../Data/\n",
       "    Split: Test\n",
       "    StandardTransform\n",
       "Transform: ToTensor()"
      ]
     },
     "execution_count": 6,
     "metadata": {},
     "output_type": "execute_result"
    }
   ],
   "source": [
    "test_data"
   ]
  },
  {
   "cell_type": "code",
   "execution_count": 7,
   "id": "a02f3aff-0c5c-4836-9aea-f42729c74607",
   "metadata": {},
   "outputs": [],
   "source": [
    "train_loader = DataLoader(train_data, batch_size=10, shuffle=True)\n",
    "test_loader = DataLoader(test_data, batch_size=10, shuffle=False)"
   ]
  },
  {
   "cell_type": "code",
   "execution_count": 8,
   "id": "82de2774-2103-4b16-8dd3-3e5ddb2056d0",
   "metadata": {},
   "outputs": [],
   "source": [
    "# 1 color channel, 6 filters (output channels, arbitrary), 3x3 kernel, stride=1\n",
    "conv1 = nn.Conv2d(1,6,3,1) # original img ---> 6 filters ---> pooling ---> conv2\n",
    "\n",
    "# 6 input filters from conv1, 16 filters (arbitrary), 3x3 kernel, stride=1\n",
    "conv2 = nn.Conv2d(6,16,3,1)"
   ]
  },
  {
   "cell_type": "code",
   "execution_count": 9,
   "id": "81ecc0cc-9dec-423c-acf8-f0ce78379022",
   "metadata": {},
   "outputs": [],
   "source": [
    "for i, (X_train, y_train) in enumerate(train_data):\n",
    "    break"
   ]
  },
  {
   "cell_type": "code",
   "execution_count": 10,
   "id": "47d3667e-f457-448b-82f1-d1cfaa88da4a",
   "metadata": {},
   "outputs": [],
   "source": [
    "# (add dimension to batch size (1), 1, 28, 28)\n",
    "x = X_train.view(1, 1, 28, 28) # conver to ----> 4D batch (batch of 1 image)"
   ]
  },
  {
   "cell_type": "code",
   "execution_count": 11,
   "id": "e94cfbdd-ad98-424e-bebe-a09295bf36f2",
   "metadata": {},
   "outputs": [],
   "source": [
    "x = F.relu(conv1(x))"
   ]
  },
  {
   "cell_type": "code",
   "execution_count": 12,
   "id": "b8ccffce-60f1-4ba4-849d-a9ea538f1dfa",
   "metadata": {},
   "outputs": [
    {
     "data": {
      "text/plain": [
       "torch.Size([1, 6, 26, 26])"
      ]
     },
     "execution_count": 12,
     "metadata": {},
     "output_type": "execute_result"
    }
   ],
   "source": [
    "x.shape # (1 image, 6 filters, losing border info (28->26), same->26) because no paddings are added"
   ]
  },
  {
   "cell_type": "code",
   "execution_count": 13,
   "id": "591a7a10-2954-4e34-9dea-6489fa9467d7",
   "metadata": {},
   "outputs": [],
   "source": [
    "x = F.max_pool2d(x,2,2) # (data, 2x2 kernel, stride=2)"
   ]
  },
  {
   "cell_type": "code",
   "execution_count": 15,
   "id": "3740dc78-b6d8-4fe9-824a-d15dee46ebae",
   "metadata": {},
   "outputs": [
    {
     "data": {
      "text/plain": [
       "torch.Size([1, 6, 13, 13])"
      ]
     },
     "execution_count": 15,
     "metadata": {},
     "output_type": "execute_result"
    }
   ],
   "source": [
    "x.shape # reduce the size by 2 (because of 2x2 kernel and stride=2)"
   ]
  },
  {
   "cell_type": "code",
   "execution_count": 16,
   "id": "56d9b7a9-2476-4670-8e81-722ebf8e763b",
   "metadata": {},
   "outputs": [],
   "source": [
    "x = F.relu(conv2(x))"
   ]
  },
  {
   "cell_type": "code",
   "execution_count": 17,
   "id": "6bc4ab44-a055-4c84-be65-d43f39856eae",
   "metadata": {},
   "outputs": [
    {
     "data": {
      "text/plain": [
       "torch.Size([1, 16, 11, 11])"
      ]
     },
     "execution_count": 17,
     "metadata": {},
     "output_type": "execute_result"
    }
   ],
   "source": [
    "x.shape"
   ]
  },
  {
   "cell_type": "code",
   "execution_count": 18,
   "id": "061a19cd-b8bb-4d23-932a-71b446a452df",
   "metadata": {},
   "outputs": [],
   "source": [
    "x = F.max_pool2d(x,2,2)"
   ]
  },
  {
   "cell_type": "code",
   "execution_count": 19,
   "id": "4dd7a4f0-d938-4109-b0a3-e44f0f29c22e",
   "metadata": {},
   "outputs": [
    {
     "data": {
      "text/plain": [
       "torch.Size([1, 16, 5, 5])"
      ]
     },
     "execution_count": 19,
     "metadata": {},
     "output_type": "execute_result"
    }
   ],
   "source": [
    "x.shape"
   ]
  },
  {
   "cell_type": "code",
   "execution_count": 21,
   "id": "79435747-767b-425f-95cd-064b3b7d79da",
   "metadata": {},
   "outputs": [
    {
     "data": {
      "text/plain": [
       "5.5"
      ]
     },
     "execution_count": 21,
     "metadata": {},
     "output_type": "execute_result"
    }
   ],
   "source": [
    "((28-2)/2-2)/2 # how to get 5"
   ]
  },
  {
   "cell_type": "code",
   "execution_count": 23,
   "id": "efcc83cd-a372-45bc-8931-a4d918562c60",
   "metadata": {},
   "outputs": [
    {
     "data": {
      "text/plain": [
       "torch.Size([1, 400])"
      ]
     },
     "execution_count": 23,
     "metadata": {},
     "output_type": "execute_result"
    }
   ],
   "source": [
    "x.view(-1,16*5*5).shape # keep first dimension, 16*5*5 to flatten"
   ]
  },
  {
   "cell_type": "code",
   "execution_count": null,
   "id": "8af9d4fb-5f99-4f8a-a8fe-2106d5fc4e36",
   "metadata": {},
   "outputs": [],
   "source": []
  }
 ],
 "metadata": {
  "kernelspec": {
   "display_name": "Python 3 (ipykernel)",
   "language": "python",
   "name": "python3"
  },
  "language_info": {
   "codemirror_mode": {
    "name": "ipython",
    "version": 3
   },
   "file_extension": ".py",
   "mimetype": "text/x-python",
   "name": "python",
   "nbconvert_exporter": "python",
   "pygments_lexer": "ipython3",
   "version": "3.12.4"
  }
 },
 "nbformat": 4,
 "nbformat_minor": 5
}
