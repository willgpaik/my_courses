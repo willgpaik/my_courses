{
 "cells": [
  {
   "cell_type": "markdown",
   "metadata": {
    "id": "2nhVFL7kkzBH",
    "pycharm": {
     "name": "#%%\n"
    }
   },
   "source": [
    "# A coding introduction to the Markov Decision Process\n",
    "\n",
    "<br><br>\n",
    "\n",
    "In this notebook we will practice the concepts learned about control tasks and Markov decision processes. In particular, we will get familiar with a software library called OpenAI Gym that will provide us with a simple interface to these tasks.\n",
    "<br><br><br>\n",
    "<div style=\"text-align:center\">\n",
    "    <b>This notebook belongs to section 2 of the course \"Reinforcement Learning: beginner to master\".</b>\n",
    "    <br><br>\n",
    "    <a href=\"https://www.udemy.com\">Reinforcement Learning: beginner to master</a> (English)\n",
    "    <br>\n",
    "    <a href=\"https://www.udemy.com\">Reinforcement Learning: de principiante a maestro</a> (Spanish)\n",
    "</div>\n",
    "\n",
    "\n",
    "<br><br>\n"
   ]
  },
  {
   "cell_type": "code",
   "execution_count": 2,
   "metadata": {
    "cellView": "form",
    "id": "Klag2liexhB8"
   },
   "outputs": [
    {
     "name": "stderr",
     "output_type": "stream",
     "text": [
      "<frozen importlib._bootstrap>:488: RuntimeWarning: Your system is avx2 capable but pygame was not built with support for it. The performance of some of your blits could be adversely affected. Consider enabling compile time detection with environment variables like PYGAME_DETECT_AVX2=1 if you are compiling without cross compilation.\n"
     ]
    }
   ],
   "source": [
    "# @title Setup code (not important) - Run this cell by pressing \"Shift + Enter\"\n",
    "\n",
    "\n",
    "\n",
    "!pip install -qq gym==0.23.0\n",
    "\n",
    "\n",
    "from typing import Tuple, Dict, Optional, Iterable\n",
    "\n",
    "import numpy as np\n",
    "import matplotlib\n",
    "from matplotlib import animation\n",
    "\n",
    "from IPython.display import HTML\n",
    "\n",
    "import gym\n",
    "from gym import spaces\n",
    "from gym.error import DependencyNotInstalled\n",
    "\n",
    "import pygame\n",
    "from pygame import gfxdraw\n",
    "\n",
    "\n",
    "class Maze(gym.Env):\n",
    "\n",
    "    def __init__(self, exploring_starts: bool = False,\n",
    "                 shaped_rewards: bool = False, size: int = 5) -> None:\n",
    "        super().__init__()\n",
    "        self.exploring_starts = exploring_starts\n",
    "        self.shaped_rewards = shaped_rewards\n",
    "        self.state = (size - 1, size - 1)\n",
    "        self.goal = (size - 1, size - 1)\n",
    "        self.maze = self._create_maze(size=size)\n",
    "        self.distances = self._compute_distances(self.goal, self.maze)\n",
    "        self.action_space = spaces.Discrete(n=4)\n",
    "        self.action_space.action_meanings = {0: 'UP', 1: 'RIGHT', 2: 'DOWN', 3: \"LEFT\"}\n",
    "        self.observation_space = spaces.MultiDiscrete([size, size])\n",
    "\n",
    "        self.screen = None\n",
    "        self.agent_transform = None\n",
    "\n",
    "    def step(self, action: int) -> Tuple[Tuple[int, int], float, bool, Dict]:\n",
    "        reward = self.compute_reward(self.state, action)\n",
    "        self.state = self._get_next_state(self.state, action)\n",
    "        done = self.state == self.goal\n",
    "        info = {}\n",
    "        return self.state, reward, done, info\n",
    "\n",
    "    def reset(self) -> Tuple[int, int]:\n",
    "        if self.exploring_starts:\n",
    "            while self.state == self.goal:\n",
    "                self.state = tuple(self.observation_space.sample())\n",
    "        else:\n",
    "            self.state = (0, 0)\n",
    "        return self.state\n",
    "\n",
    "    def render(self, mode: str = 'human') -> Optional[np.ndarray]:\n",
    "        assert mode in ['human', 'rgb_array']\n",
    "\n",
    "        screen_size = 600\n",
    "        scale = screen_size / 5\n",
    "\n",
    "        if self.screen is None:\n",
    "            pygame.init()\n",
    "            self.screen = pygame.Surface((screen_size, screen_size))\n",
    "\n",
    "        surf = pygame.Surface((screen_size, screen_size))\n",
    "        surf.fill((22, 36, 71))\n",
    "\n",
    "\n",
    "        for row in range(5):\n",
    "            for col in range(5):\n",
    "\n",
    "                state = (row, col)\n",
    "                for next_state in [(row + 1, col), (row - 1, col), (row, col + 1), (row, col - 1)]:\n",
    "                    if next_state not in self.maze[state]:\n",
    "\n",
    "                        # Add the geometry of the edges and walls (i.e. the boundaries between\n",
    "                        # adjacent squares that are not connected).\n",
    "                        row_diff, col_diff = np.subtract(next_state, state)\n",
    "                        left = (col + (col_diff > 0)) * scale - 2 * (col_diff != 0)\n",
    "                        right = ((col + 1) - (col_diff < 0)) * scale + 2 * (col_diff != 0)\n",
    "                        top = (5 - (row + (row_diff > 0))) * scale - 2 * (row_diff != 0)\n",
    "                        bottom = (5 - ((row + 1) - (row_diff < 0))) * scale + 2 * (row_diff != 0)\n",
    "\n",
    "                        gfxdraw.filled_polygon(surf, [(left, bottom), (left, top), (right, top), (right, bottom)], (255, 255, 255))\n",
    "\n",
    "        # Add the geometry of the goal square to the viewer.\n",
    "        left, right, top, bottom = scale * 4 + 10, scale * 5 - 10, scale - 10, 10\n",
    "        gfxdraw.filled_polygon(surf, [(left, bottom), (left, top), (right, top), (right, bottom)], (40, 199, 172))\n",
    "\n",
    "        # Add the geometry of the agent to the viewer.\n",
    "        agent_row = int(screen_size - scale * (self.state[0] + .5))\n",
    "        agent_col = int(scale * (self.state[1] + .5))\n",
    "        gfxdraw.filled_circle(surf, agent_col, agent_row, int(scale * .6 / 2), (228, 63, 90))\n",
    "\n",
    "        surf = pygame.transform.flip(surf, False, True)\n",
    "        self.screen.blit(surf, (0, 0))\n",
    "\n",
    "        return np.transpose(\n",
    "                np.array(pygame.surfarray.pixels3d(self.screen)), axes=(1, 0, 2)\n",
    "            )\n",
    "\n",
    "    def close(self) -> None:\n",
    "        if self.screen is not None:\n",
    "            pygame.display.quit()\n",
    "            pygame.quit()\n",
    "            self.screen = None\n",
    "\n",
    "    def compute_reward(self, state: Tuple[int, int], action: int) -> float:\n",
    "        next_state = self._get_next_state(state, action)\n",
    "        if self.shaped_rewards:\n",
    "            return - (self.distances[next_state] / self.distances.max())\n",
    "        return - float(state != self.goal)\n",
    "\n",
    "    def simulate_step(self, state: Tuple[int, int], action: int):\n",
    "        reward = self.compute_reward(state, action)\n",
    "        next_state = self._get_next_state(state, action)\n",
    "        done = next_state == self.goal\n",
    "        info = {}\n",
    "        return next_state, reward, done, info\n",
    "\n",
    "    def _get_next_state(self, state: Tuple[int, int], action: int) -> Tuple[int, int]:\n",
    "        if action == 0:\n",
    "            next_state = (state[0] - 1, state[1])\n",
    "        elif action == 1:\n",
    "            next_state = (state[0], state[1] + 1)\n",
    "        elif action == 2:\n",
    "            next_state = (state[0] + 1, state[1])\n",
    "        elif action == 3:\n",
    "            next_state = (state[0], state[1] - 1)\n",
    "        else:\n",
    "            raise ValueError(\"Action value not supported:\", action)\n",
    "        if next_state in self.maze[state]:\n",
    "            return next_state\n",
    "        return state\n",
    "\n",
    "    @staticmethod\n",
    "    def _create_maze(size: int) -> Dict[Tuple[int, int], Iterable[Tuple[int, int]]]:\n",
    "        maze = {(row, col): [(row - 1, col), (row + 1, col), (row, col - 1), (row, col + 1)]\n",
    "                for row in range(size) for col in range(size)}\n",
    "\n",
    "        left_edges = [[(row, 0), (row, -1)] for row in range(size)]\n",
    "        right_edges = [[(row, size - 1), (row, size)] for row in range(size)]\n",
    "        upper_edges = [[(0, col), (-1, col)] for col in range(size)]\n",
    "        lower_edges = [[(size - 1, col), (size, col)] for col in range(size)]\n",
    "        walls = [\n",
    "            [(1, 0), (1, 1)], [(2, 0), (2, 1)], [(3, 0), (3, 1)],\n",
    "            [(1, 1), (1, 2)], [(2, 1), (2, 2)], [(3, 1), (3, 2)],\n",
    "            [(3, 1), (4, 1)], [(0, 2), (1, 2)], [(1, 2), (1, 3)],\n",
    "            [(2, 2), (3, 2)], [(2, 3), (3, 3)], [(2, 4), (3, 4)],\n",
    "            [(4, 2), (4, 3)], [(1, 3), (1, 4)], [(2, 3), (2, 4)],\n",
    "        ]\n",
    "\n",
    "        obstacles = upper_edges + lower_edges + left_edges + right_edges + walls\n",
    "\n",
    "        for src, dst in obstacles:\n",
    "            maze[src].remove(dst)\n",
    "\n",
    "            if dst in maze:\n",
    "                maze[dst].remove(src)\n",
    "\n",
    "        return maze\n",
    "\n",
    "    @staticmethod\n",
    "    def _compute_distances(goal: Tuple[int, int],\n",
    "                           maze: Dict[Tuple[int, int], Iterable[Tuple[int, int]]]) -> np.ndarray:\n",
    "        distances = np.full((5, 5), np.inf)\n",
    "        visited = set()\n",
    "        distances[goal] = 0.\n",
    "\n",
    "        while visited != set(maze):\n",
    "            sorted_dst = [(v // 5, v % 5) for v in distances.argsort(axis=None)]\n",
    "            closest = next(x for x in sorted_dst if x not in visited)\n",
    "            visited.add(closest)\n",
    "\n",
    "            for neighbour in maze[closest]:\n",
    "                distances[neighbour] = min(distances[neighbour], distances[closest] + 1)\n",
    "        return distances\n",
    "\n",
    "\n",
    "def display_video(frames):\n",
    "    # Copied from: https://colab.research.google.com/github/deepmind/dm_control/blob/master/tutorial.ipynb\n",
    "    orig_backend = matplotlib.get_backend()\n",
    "    matplotlib.use('Agg')\n",
    "    fig, ax = plt.subplots(1, 1, figsize=(5, 5))\n",
    "    matplotlib.use(orig_backend)\n",
    "    ax.set_axis_off()\n",
    "    ax.set_aspect('equal')\n",
    "    ax.set_position([0, 0, 1, 1])\n",
    "    im = ax.imshow(frames[0])\n",
    "    def update(frame):\n",
    "        im.set_data(frame)\n",
    "        return [im]\n",
    "    anim = animation.FuncAnimation(fig=fig, func=update, frames=frames,\n",
    "                                    interval=50, blit=True, repeat=False)\n",
    "    return HTML(anim.to_html5_video())\n"
   ]
  },
  {
   "cell_type": "markdown",
   "metadata": {
    "id": "ibSRyE_2kzBL"
   },
   "source": [
    "## Quick view of the Gym library:\n",
    "<br/>\n",
    "<br/>\n",
    "\n",
    "Gym is a library for reinforcement learning research. It provides us with a simple interface to a large number of tasks, including\n",
    "\n",
    "- Classic control tasks (CartPole, Pendulum, MountainCar, etc)\n",
    "- Classic video games (Space Invaders, Breakout, Pong, etc)\n",
    "- Continuous control tasks\n",
    "- Robotic arm manipulation\n",
    "\n",
    "In this section we are going to get familiar with the five methods that we'll use while solving a control\n",
    "task.\n",
    "\n",
    "\n",
    "<br/>\n",
    "<br/>\n",
    "\n",
    "\n",
    "![title](https://github.com/escape-velocity-labs/beginner_master_rl/blob/main/img/mdp_diagram.svg?raw=1)\n",
    "\n",
    "###### Source: https://upload.wikimedia.org/wikipedia/commons/1/1b/Reinforcement_learning_diagram.svg"
   ]
  },
  {
   "cell_type": "markdown",
   "metadata": {
    "id": "DXOjbZOakzBL"
   },
   "source": [
    "##### Making the environment: Maze()\n",
    "\n",
    "To create an environment, just pass a string with its name to the gym.make method. If the environment exists, the method returns an instance of the gym.Env class, which represents the environment of the task we are going to solve."
   ]
  },
  {
   "cell_type": "code",
   "execution_count": 3,
   "metadata": {
    "id": "3MaQzsX8kzBK",
    "pycharm": {
     "name": "#%%\n"
    }
   },
   "outputs": [],
   "source": [
    "import gym\n",
    "import numpy as np\n",
    "from IPython import display\n",
    "from matplotlib import pyplot as plt\n",
    "\n",
    "%matplotlib inline"
   ]
  },
  {
   "cell_type": "code",
   "execution_count": 4,
   "metadata": {
    "id": "OzOU7ahAkzBL"
   },
   "outputs": [],
   "source": [
    "env = Maze()"
   ]
  },
  {
   "cell_type": "markdown",
   "metadata": {
    "id": "Y9Zf8RM9kzBL"
   },
   "source": [
    "###### env.reset()\n",
    "\n",
    "This method places the environment in its initial state to  and returns it so that the agent can observe it.\n"
   ]
  },
  {
   "cell_type": "code",
   "execution_count": 5,
   "metadata": {
    "id": "L0ZTYVoHkzBM"
   },
   "outputs": [
    {
     "name": "stdout",
     "output_type": "stream",
     "text": [
      "The new episode will start in state: (0, 0)\n"
     ]
    }
   ],
   "source": [
    "initial_state = env.reset()\n",
    "print(f\"The new episode will start in state: {initial_state}\")"
   ]
  },
  {
   "cell_type": "markdown",
   "metadata": {
    "id": "ipPJDHubkzBM"
   },
   "source": [
    "##### env.render()\n",
    "\n",
    "This method generates an image that represents the current state of the environment, in the form of a np.ndarray."
   ]
  },
  {
   "cell_type": "code",
   "execution_count": 6,
   "metadata": {
    "id": "ZNeffQeYkzBM",
    "scrolled": true
   },
   "outputs": [
    {
     "data": {
      "text/plain": [
       "<matplotlib.image.AxesImage at 0x7f10a0482a80>"
      ]
     },
     "execution_count": 6,
     "metadata": {},
     "output_type": "execute_result"
    },
    {
     "data": {
      "image/png": "[encoded data removed]",
      "text/plain": [
       "<Figure size 640x480 with 1 Axes>"
      ]
     },
     "metadata": {},
     "output_type": "display_data"
    }
   ],
   "source": [
    "frame = env.render(mode='rgb_array')\n",
    "plt.axis('off')\n",
    "plt.title(f\"State: {initial_state}\")\n",
    "plt.imshow(frame)"
   ]
  },
  {
   "cell_type": "markdown",
   "metadata": {
    "id": "9-nfuN8YkzBM"
   },
   "source": [
    "##### env.step()\n",
    "\n",
    "This method applies the action selected by the agent in the environment, to modify it. In response, the environment returns a tuple of four objects:\n",
    "\n",
    "- The next state\n",
    "- The reward obtained\n",
    "- (bool) if the task has been completed\n",
    "- any other relevant information in a python dictionary"
   ]
  },
  {
   "cell_type": "code",
   "execution_count": 7,
   "metadata": {
    "id": "Z4OSEY9qkzBM"
   },
   "outputs": [
    {
     "name": "stdout",
     "output_type": "stream",
     "text": [
      "After moving down 1 row, the agent is in state: (1, 0)\n",
      "After moving down 1 row, we got a reward of: -1.0\n",
      "After moving down 1 row, the task is not finished\n"
     ]
    }
   ],
   "source": [
    "action = 2\n",
    "next_state, reward, done, info = env.step(action)\n",
    "print(f\"After moving down 1 row, the agent is in state: {next_state}\")\n",
    "print(f\"After moving down 1 row, we got a reward of: {reward}\")\n",
    "print(\"After moving down 1 row, the task is\", \"\" if done else \"not\", \"finished\")"
   ]
  },
  {
   "cell_type": "markdown",
   "metadata": {
    "id": "plqDtRxykzBM"
   },
   "source": [
    "###### Render the new state"
   ]
  },
  {
   "cell_type": "code",
   "execution_count": 8,
   "metadata": {
    "id": "peCRUOJOkzBM"
   },
   "outputs": [
    {
     "data": {
      "text/plain": [
       "<matplotlib.image.AxesImage at 0x7f10766afc20>"
      ]
     },
     "execution_count": 8,
     "metadata": {},
     "output_type": "execute_result"
    },
    {
     "data": {
      "image/png": "[encoded data removed]",
      "text/plain": [
       "<Figure size 640x480 with 1 Axes>"
      ]
     },
     "metadata": {},
     "output_type": "display_data"
    }
   ],
   "source": [
    "frame = env.render(mode='rgb_array')\n",
    "plt.axis('off')\n",
    "plt.title(f\"State: {next_state}\")\n",
    "plt.imshow(frame)"
   ]
  },
  {
   "cell_type": "markdown",
   "metadata": {
    "id": "0vjG25uekzBM"
   },
   "source": [
    "##### env.close()\n",
    "\n",
    "It completes the task and closes the environment, releasing the associated resources."
   ]
  },
  {
   "cell_type": "code",
   "execution_count": 9,
   "metadata": {
    "id": "F7GJc38UkzBN"
   },
   "outputs": [],
   "source": [
    "env.close()"
   ]
  },
  {
   "cell_type": "markdown",
   "metadata": {
    "id": "1U8GvYvzkzBN"
   },
   "source": [
    "## Maze environment: Find the exit.\n",
    "\n",
    "\n",
    "In this section we are going to familiarize ourselves with the environment that we'll use in the lessons 2 (dynamic programming), 3 (Monte Carlo methods) and 4 (temporal difference methods). This environment is perfect for learning the basics of Reinforcement Learning because:\n",
    "\n",
    "- It has few states (25)\n",
    "- Transitions between states are deterministic ($p(s', r| s, a) = 1$)\n",
    "- All rewards are the same (-1) until the episode concludes. Thus facilitating the study of the value and action-value functions\n",
    "\n",
    "Through this environment, we are going to review the concepts seen in lesson 1 (The Markov decision process):\n",
    "\n",
    "- States and state space\n",
    "- Actions and action space\n",
    "- Trajectories and episodes\n",
    "- Rewards and returns\n",
    "- Policy\n",
    "\n",
    "\n",
    "The environment is a maze of 5x5 cells, in which the goal of the agent is to find the exit, located in the lower right corner, in the cell (4,4). In the image, the exit is colored in light green.\n",
    "\n",
    "To reach the exit, the agent can take four different actions: move up, move down, move left and move right."
   ]
  },
  {
   "cell_type": "markdown",
   "metadata": {
    "id": "3F11h1aHkzBN"
   },
   "source": [
    "###### Create the environment."
   ]
  },
  {
   "cell_type": "code",
   "execution_count": 10,
   "metadata": {
    "id": "OpfNnSqWkzBN"
   },
   "outputs": [],
   "source": [
    "env = Maze()"
   ]
  },
  {
   "cell_type": "markdown",
   "metadata": {
    "id": "HT_Ik1H5kzBN"
   },
   "source": [
    "##### States and state space\n",
    "\n",
    "The states consist of a tuple of two integers, both in the range [0, 4], representing the row and column in which the agent is currently located:\n",
    "<br>\n",
    "<br>\n",
    "\n",
    "\\begin{equation}\n",
    "    s = (row, column) \\;\\\\\n",
    "    row, column \\in \\{0,1,2,3, 4\\}\n",
    "\\end{equation}\n",
    "<br>\n",
    "<br>\n",
    "The state space (set of all possible states in the task) has 25 elements (all possible combinations of rows and columns):\n",
    "\n",
    "\n",
    "\\begin{equation}\n",
    "    Rows \\times Columns \\;\\\\\n",
    "    S = \\{(0, 0), (0, 1), (1, 0), ...\\}\n",
    "\\end{equation}\n",
    "\n",
    "Information about the state space is stored in the env.observation_space property. In this environment, it is of MultiDiscrete([5 5]) type, which means that it consists of two elements (rows and columns), each with 5 different values."
   ]
  },
  {
   "cell_type": "code",
   "execution_count": 12,
   "metadata": {
    "id": "z-5Mnmm0kzBN"
   },
   "outputs": [
    {
     "name": "stdout",
     "output_type": "stream",
     "text": [
      "For example, the initial state is: (0, 0)\n",
      "The space state is of type: MultiDiscrete([5 5])\n"
     ]
    }
   ],
   "source": [
    "print(f\"For example, the initial state is: {env.reset()}\")\n",
    "print(f\"The space state is of type: {env.observation_space}\")"
   ]
  },
  {
   "cell_type": "markdown",
   "metadata": {
    "id": "Id_veMkskzBN"
   },
   "source": [
    "##### Actions and action space\n",
    "\n",
    "In this environment, there are four different actions and they are represented by integers:\n",
    "\n",
    "\\begin{equation}\n",
    "a \\in \\{0, 1, 2, 3\\}\n",
    "\\end{equation}\n",
    "\n",
    "- 0 -> move up\n",
    "- 1 -> move right\n",
    "- 2 -> move down\n",
    "- 3 -> move left\n",
    "\n",
    "To execute an action, simply pass it as an argument to the env.step method. Information about the action space is stored in the env.action_space property which is of Discrete(4) class. This means that in this case it only consists of an element in the range [0,4), unlike the state space seen above.\n"
   ]
  },
  {
   "cell_type": "code",
   "execution_count": 13,
   "metadata": {
    "id": "KC8iHy6lkzBN"
   },
   "outputs": [
    {
     "name": "stdout",
     "output_type": "stream",
     "text": [
      "An example of a valid action is: 2\n",
      "The action state is of type: Discrete(4)\n"
     ]
    }
   ],
   "source": [
    "print(f\"An example of a valid action is: {env.action_space.sample()}\")\n",
    "print(f\"The action state is of type: {env.action_space}\")"
   ]
  },
  {
   "cell_type": "markdown",
   "metadata": {
    "id": "dribhLtQkzBO"
   },
   "source": [
    "##### Trajectories and episodes\n",
    "\n",
    "A trajectory is the sequence generated by moving from one state to another (both arbitrary)\n",
    "\n",
    "\\begin{equation}\n",
    "  \\tau = S_0, A_0, R_1, S_1, A_1, ... R_N, S_N,\n",
    "\\end{equation}\n",
    "\n",
    "Let's generate a trajectory of 3 moves in code:"
   ]
  },
  {
   "cell_type": "code",
   "execution_count": 14,
   "metadata": {
    "id": "tVqrUPk5kzBO"
   },
   "outputs": [
    {
     "name": "stdout",
     "output_type": "stream",
     "text": [
      "Congrats! You just generated your first trajectory:\n",
      "[[(0, 0), 0, -1.0, False, (0, 0)], [(0, 0), 3, -1.0, False, (0, 0)], [(0, 0), 2, -1.0, False, (1, 0)]]\n"
     ]
    }
   ],
   "source": [
    "env = Maze()\n",
    "state = env.reset()\n",
    "trajectory = []\n",
    "for _ in range(3):\n",
    "    action = env.action_space.sample()\n",
    "    next_state, reward, done, extra_info = env.step(action)\n",
    "    trajectory.append([state, action, reward, done, next_state])\n",
    "    state = next_state\n",
    "env.close()\n",
    "\n",
    "print(f\"Congrats! You just generated your first trajectory:\\n{trajectory}\")"
   ]
  },
  {
   "cell_type": "markdown",
   "metadata": {
    "id": "rJzFOtbOkzBO"
   },
   "source": [
    "An episode is a trajectory that goes from the initial state of the process to the final one:\n",
    "\n",
    "\\begin{equation}\n",
    "  \\tau = S_0, A_0, R_1, S_1, A_1, ... R_T, S_T,\n",
    "\\end{equation}\n",
    "where T is the terminal state.\n",
    "\n",
    "Let's generate a whole episode in code:"
   ]
  },
  {
   "cell_type": "code",
   "execution_count": 15,
   "metadata": {
    "id": "Qeylme63kzBO"
   },
   "outputs": [
    {
     "name": "stdout",
     "output_type": "stream",
     "text": [
      "Congrats! You just generated your first episode:\n",
      "[[(0, 0), 2, -1.0, False, (1, 0)], [(1, 0), 1, -1.0, False, (1, 0)], [(1, 0), 3, -1.0, False, (1, 0)], [(1, 0), 2, -1.0, False, (2, 0)], [(2, 0), 1, -1.0, False, (2, 0)], [(2, 0), 1, -1.0, False, (2, 0)], [(2, 0), 2, -1.0, False, (3, 0)], [(3, 0), 2, -1.0, False, (4, 0)], [(4, 0), 0, -1.0, False, (3, 0)], [(3, 0), 1, -1.0, False, (3, 0)], [(3, 0), 0, -1.0, False, (2, 0)], [(2, 0), 3, -1.0, False, (2, 0)], [(2, 0), 3, -1.0, False, (2, 0)], [(2, 0), 2, -1.0, False, (3, 0)], [(3, 0), 0, -1.0, False, (2, 0)], [(2, 0), 0, -1.0, False, (1, 0)], [(1, 0), 0, -1.0, False, (0, 0)], [(0, 0), 0, -1.0, False, (0, 0)], [(0, 0), 1, -1.0, False, (0, 1)], [(0, 1), 0, -1.0, False, (0, 1)], [(0, 1), 2, -1.0, False, (1, 1)], [(1, 1), 2, -1.0, False, (2, 1)], [(2, 1), 0, -1.0, False, (1, 1)], [(1, 1), 2, -1.0, False, (2, 1)], [(2, 1), 2, -1.0, False, (3, 1)], [(3, 1), 3, -1.0, False, (3, 1)], [(3, 1), 3, -1.0, False, (3, 1)], [(3, 1), 3, -1.0, False, (3, 1)], [(3, 1), 2, -1.0, False, (3, 1)], [(3, 1), 2, -1.0, False, (3, 1)], [(3, 1), 1, -1.0, False, (3, 1)], [(3, 1), 3, -1.0, False, (3, 1)], [(3, 1), 1, -1.0, False, (3, 1)], [(3, 1), 1, -1.0, False, (3, 1)], [(3, 1), 0, -1.0, False, (2, 1)], [(2, 1), 2, -1.0, False, (3, 1)], [(3, 1), 1, -1.0, False, (3, 1)], [(3, 1), 3, -1.0, False, (3, 1)], [(3, 1), 0, -1.0, False, (2, 1)], [(2, 1), 0, -1.0, False, (1, 1)], [(1, 1), 1, -1.0, False, (1, 1)], [(1, 1), 3, -1.0, False, (1, 1)], [(1, 1), 0, -1.0, False, (0, 1)], [(0, 1), 2, -1.0, False, (1, 1)], [(1, 1), 0, -1.0, False, (0, 1)], [(0, 1), 1, -1.0, False, (0, 2)], [(0, 2), 3, -1.0, False, (0, 1)], [(0, 1), 1, -1.0, False, (0, 2)], [(0, 2), 2, -1.0, False, (0, 2)], [(0, 2), 0, -1.0, False, (0, 2)], [(0, 2), 3, -1.0, False, (0, 1)], [(0, 1), 1, -1.0, False, (0, 2)], [(0, 2), 3, -1.0, False, (0, 1)], [(0, 1), 2, -1.0, False, (1, 1)], [(1, 1), 2, -1.0, False, (2, 1)], [(2, 1), 3, -1.0, False, (2, 1)], [(2, 1), 2, -1.0, False, (3, 1)], [(3, 1), 0, -1.0, False, (2, 1)], [(2, 1), 3, -1.0, False, (2, 1)], [(2, 1), 0, -1.0, False, (1, 1)], [(1, 1), 3, -1.0, False, (1, 1)], [(1, 1), 2, -1.0, False, (2, 1)], [(2, 1), 2, -1.0, False, (3, 1)], [(3, 1), 0, -1.0, False, (2, 1)], [(2, 1), 0, -1.0, False, (1, 1)], [(1, 1), 1, -1.0, False, (1, 1)], [(1, 1), 1, -1.0, False, (1, 1)], [(1, 1), 3, -1.0, False, (1, 1)], [(1, 1), 2, -1.0, False, (2, 1)], [(2, 1), 2, -1.0, False, (3, 1)], [(3, 1), 3, -1.0, False, (3, 1)], [(3, 1), 3, -1.0, False, (3, 1)], [(3, 1), 1, -1.0, False, (3, 1)], [(3, 1), 2, -1.0, False, (3, 1)], [(3, 1), 3, -1.0, False, (3, 1)], [(3, 1), 2, -1.0, False, (3, 1)], [(3, 1), 0, -1.0, False, (2, 1)], [(2, 1), 2, -1.0, False, (3, 1)], [(3, 1), 1, -1.0, False, (3, 1)], [(3, 1), 1, -1.0, False, (3, 1)], [(3, 1), 2, -1.0, False, (3, 1)], [(3, 1), 2, -1.0, False, (3, 1)], [(3, 1), 0, -1.0, False, (2, 1)], [(2, 1), 1, -1.0, False, (2, 1)], [(2, 1), 0, -1.0, False, (1, 1)], [(1, 1), 0, -1.0, False, (0, 1)], [(0, 1), 2, -1.0, False, (1, 1)], [(1, 1), 1, -1.0, False, (1, 1)], [(1, 1), 0, -1.0, False, (0, 1)], [(0, 1), 3, -1.0, False, (0, 0)], [(0, 0), 0, -1.0, False, (0, 0)], [(0, 0), 2, -1.0, False, (1, 0)], [(1, 0), 0, -1.0, False, (0, 0)], [(0, 0), 3, -1.0, False, (0, 0)], [(0, 0), 0, -1.0, False, (0, 0)], [(0, 0), 2, -1.0, False, (1, 0)], [(1, 0), 1, -1.0, False, (1, 0)], [(1, 0), 2, -1.0, False, (2, 0)], [(2, 0), 2, -1.0, False, (3, 0)], [(3, 0), 1, -1.0, False, (3, 0)], [(3, 0), 2, -1.0, False, (4, 0)], [(4, 0), 3, -1.0, False, (4, 0)], [(4, 0), 1, -1.0, False, (4, 1)], [(4, 1), 0, -1.0, False, (4, 1)], [(4, 1), 2, -1.0, False, (4, 1)], [(4, 1), 0, -1.0, False, (4, 1)], [(4, 1), 0, -1.0, False, (4, 1)], [(4, 1), 2, -1.0, False, (4, 1)], [(4, 1), 0, -1.0, False, (4, 1)], [(4, 1), 1, -1.0, False, (4, 2)], [(4, 2), 3, -1.0, False, (4, 1)], [(4, 1), 1, -1.0, False, (4, 2)], [(4, 2), 2, -1.0, False, (4, 2)], [(4, 2), 0, -1.0, False, (3, 2)], [(3, 2), 2, -1.0, False, (4, 2)], [(4, 2), 1, -1.0, False, (4, 2)], [(4, 2), 1, -1.0, False, (4, 2)], [(4, 2), 2, -1.0, False, (4, 2)], [(4, 2), 2, -1.0, False, (4, 2)], [(4, 2), 0, -1.0, False, (3, 2)], [(3, 2), 3, -1.0, False, (3, 2)], [(3, 2), 1, -1.0, False, (3, 3)], [(3, 3), 0, -1.0, False, (3, 3)], [(3, 3), 1, -1.0, False, (3, 4)], [(3, 4), 0, -1.0, False, (3, 4)], [(3, 4), 2, -1.0, True, (4, 4)]]\n"
     ]
    }
   ],
   "source": [
    "env = Maze()\n",
    "state = env.reset()\n",
    "episode = []\n",
    "done = False\n",
    "while not done:\n",
    "    action = env.action_space.sample()\n",
    "    next_state, reward, done, extra_info = env.step(action)\n",
    "    episode.append([state, action, reward, done, next_state])\n",
    "    state = next_state\n",
    "env.close()\n",
    "\n",
    "print(f\"Congrats! You just generated your first episode:\\n{episode}\")"
   ]
  },
  {
   "cell_type": "markdown",
   "metadata": {
    "id": "nDpBTu8rkzBO"
   },
   "source": [
    "##### Rewards and returns\n",
    "\n",
    "A reward is numerical feedback that the environment generates when the agent takes an action *a* in a state *s*:\n",
    "\n",
    "\\begin{equation}\n",
    "    r = r(s, a)\n",
    "\\end{equation}\n",
    "\n",
    "Let's generate a reward from the environment:"
   ]
  },
  {
   "cell_type": "code",
   "execution_count": null,
   "metadata": {
    "id": "4nv4JmpekzBO"
   },
   "outputs": [],
   "source": [
    "env = Maze()\n",
    "state = env.reset()\n",
    "action = env.action_space.sample()\n",
    "_, reward, _, _ = env.step(action)\n",
    "print(f\"We achieved a reward of {reward} by taking action {action} in state {state}\")"
   ]
  },
  {
   "cell_type": "markdown",
   "metadata": {
    "id": "n3cUQup0kzBO"
   },
   "source": [
    "The return associated with a moment in time *t* is the sum (discounted) of rewards that the agent obtains from that moment. We are going to calculate $G_0$, that is, the return to the beginning of the episode:\n",
    "\n",
    "\\begin{equation}\n",
    "    G_0 = R_1 + \\gamma R_2 + \\gamma^2 R_3 + ... + \\gamma^{T-1} R_T\n",
    "\\end{equation}\n",
    "\n",
    "\n",
    "\n",
    "Let's assume that the discount factor $\\gamma = 0.99$:\n"
   ]
  },
  {
   "cell_type": "code",
   "execution_count": 16,
   "metadata": {
    "id": "sVHUd8lAkzBP"
   },
   "outputs": [
    {
     "name": "stdout",
     "output_type": "stream",
     "text": [
      "It took us 291 moves to find the exit,\n",
      "    and each reward r(s,a)=-1, so the return amounts to -94.63164004769764\n"
     ]
    }
   ],
   "source": [
    "env = Maze()\n",
    "state = env.reset()\n",
    "done = False\n",
    "gamma = 0.99\n",
    "G_0 = 0\n",
    "t = 0\n",
    "while not done:\n",
    "    action = env.action_space.sample()\n",
    "    _, reward, done, _ = env.step(action)\n",
    "    G_0 += gamma ** t * reward\n",
    "    t += 1\n",
    "env.close()\n",
    "\n",
    "print(\n",
    "    f\"\"\"It took us {t} moves to find the exit,\n",
    "    and each reward r(s,a)=-1, so the return amounts to {G_0}\"\"\")"
   ]
  },
  {
   "cell_type": "markdown",
   "metadata": {
    "id": "k_-SzsKqkzBP"
   },
   "source": [
    "##### Policy\n",
    "\n",
    "A policy is a function $\\pi(a|s) \\in [0, 1]$ that gives the probability of an action given the current state. The function takes the state and action as inputs and returns a float in [0,1].\n",
    "\n",
    "Since in practice we will need to compute the probabilities of all actions, we will represent the policy as a function that takes the state as an argument and returns the probabilities associated with each of the actions. Thus, if the probabilities are:\n",
    "\n",
    "[0.5, 0.3, 0.1]\n",
    "\n",
    "we will understand that the action with index 0 has a 50% probability of being chosen, the one with index 1 has 30% and the one with index 2 has 10%.\n",
    "\n",
    "Let's code a policy function that chooses actions randomly:"
   ]
  },
  {
   "cell_type": "code",
   "execution_count": 17,
   "metadata": {
    "id": "ma5JmoBpkzBP"
   },
   "outputs": [],
   "source": [
    "def random_policy(state):\n",
    "    return np.array([0.25] * 4)"
   ]
  },
  {
   "cell_type": "markdown",
   "metadata": {
    "id": "OFo4dB1XkzBP"
   },
   "source": [
    "## Playing an episode with our random policy"
   ]
  },
  {
   "cell_type": "markdown",
   "metadata": {
    "id": "cyKI_99lkzBP"
   },
   "source": [
    "###### Create and reset the environment"
   ]
  },
  {
   "cell_type": "code",
   "execution_count": 18,
   "metadata": {
    "id": "fyvHJbbGkzBP"
   },
   "outputs": [],
   "source": [
    "env = Maze()\n",
    "state = env.reset()"
   ]
  },
  {
   "cell_type": "markdown",
   "metadata": {
    "id": "FMwqTWLvkzBP"
   },
   "source": [
    "Compute $p(a|s) \\ \\forall a \\in \\{0, 1, 2, 3\\}$"
   ]
  },
  {
   "cell_type": "code",
   "execution_count": 19,
   "metadata": {
    "id": "6FuAJ8cSkzBP"
   },
   "outputs": [],
   "source": [
    "action_probabilities = random_policy(state)"
   ]
  },
  {
   "cell_type": "code",
   "execution_count": 20,
   "metadata": {
    "id": "X1E0GbytkzBP"
   },
   "outputs": [
    {
     "data": {
      "image/png": "[encoded data removed]",
      "text/plain": [
       "<Figure size 640x480 with 1 Axes>"
      ]
     },
     "metadata": {},
     "output_type": "display_data"
    }
   ],
   "source": [
    "objects = ('Up', 'Right', 'Down', 'Left')\n",
    "y_pos = np.arange(len(objects))\n",
    "\n",
    "plt.bar(y_pos, action_probabilities, alpha=0.5)\n",
    "plt.xticks(y_pos, objects)\n",
    "plt.ylabel('P(a|s)')\n",
    "plt.title('Random Policy')\n",
    "plt.tight_layout()\n",
    "\n",
    "plt.show()"
   ]
  },
  {
   "cell_type": "markdown",
   "metadata": {
    "id": "0qoQVv-wkzBQ"
   },
   "source": [
    "##### Use the policy to play an episode (This cell has been updated, read below)\n",
    "\n",
    "\n",
    "Dear student, to keep the course content up to date, the code for displaying our policy facing the environment has been updated.\n",
    "This function works the same way as described in the video, the only difference\n",
    "is that now we save a screenshot of every state in the `frames` variable and then, we use the `display_video` function to turn those images into a video.\n",
    "\n",
    "<br>\n",
    "\n",
    "In any case, this is convenience code that is completely unrelated to Reinforcement Learning, so in the following notebooks, I'll just make it available to you in the first code cell (which you can just run and ignore, like you did this time). That way, you'll be able to focus on the important part.\n",
    "\n",
    "Cheers!\n",
    "\n",
    "\n",
    "\n"
   ]
  },
  {
   "cell_type": "code",
   "execution_count": 21,
   "metadata": {
    "id": "c54pyJpc2bq1"
   },
   "outputs": [
    {
     "name": "stderr",
     "output_type": "stream",
     "text": [
      "/tmp/ipykernel_47959/1354377292.py:187: MatplotlibDeprecationWarning: Auto-close()ing of figures upon backend switching is deprecated since 3.8 and will be removed two minor releases later.  To suppress this warning, explicitly call plt.close('all') first.\n",
      "  matplotlib.use(orig_backend)\n"
     ]
    },
    {
     "data": {
      "text/html": [
       "<video width=\"500\" height=\"500\" controls autoplay>\n",
       "  <source type=\"video/mp4\" src=\"data:video/mp4;base64,AAAAIGZ0eXBNNFYgAAACAE00ViBpc29taXNvMmF2YzEAAAAIZnJlZQAAORNtZGF0AAACrwYF//+r\n",
       "3EXpvebZSLeWLNgg2SPu73gyNjQgLSBjb3JlIDE2NCByMzEwOCAzMWUxOWY5IC0gSC4yNjQvTVBF\n",
       "Ry00IEFWQyBjb2RlYyAtIENvcHlsZWZ0IDIwMDMtMjAyMyAtIGh0dHA6Ly93d3cudmlkZW9sYW4u\n",
       "b3JnL3gyNjQuaHRtbCAtIG9wdGlvbnM6IGNhYmFjPTEgcmVmPTMgZGVibG9jaz0xOjA6MCBhbmFs\n",
       "eXNlPTB4MzoweDExMyBtZT1oZXggc3VibWU9NyBwc3k9MSBwc3lfcmQ9MS4wMDowLjAwIG1peGVk\n",
       "X3JlZj0xIG1lX3JhbmdlPTE2IGNocm9tYV9tZT0xIHRyZWxsaXM9MSA4eDhkY3Q9MSBjcW09MCBk\n",
       "ZWFkem9uZT0yMSwxMSBmYXN0X3Bza2lwPTEgY2hyb21hX3FwX29mZnNldD0tMiB0aHJlYWRzPTE2\n",
       "IGxvb2thaGVhZF90aHJlYWRzPTIgc2xpY2VkX3RocmVhZHM9MCBucj0wIGRlY2ltYXRlPTEgaW50\n",
       "ZXJsYWNlZD0wIGJsdXJheV9jb21wYXQ9MCBjb25zdHJhaW5lZF9pbnRyYT0wIGJmcmFtZXM9MyBi\n",
       "X3B5cmFtaWQ9MiBiX2FkYXB0PTEgYl9iaWFzPTAgZGlyZWN0PTEgd2VpZ2h0Yj0xIG9wZW5fZ29w\n",
       "PTAgd2VpZ2h0cD0yIGtleWludD0yNTAga2V5aW50X21pbj0yMCBzY2VuZWN1dD00MCBpbnRyYV9y\n",
       "ZWZyZXNoPTAgcmNfbG9va2FoZWFkPTQwIHJjPWNyZiBtYnRyZWU9MSBjcmY9MjMuMCBxY29tcD0w\n",
       "LjYwIHFwbWluPTAgcXBtYXg9NjkgcXBzdGVwPTQgaXBfcmF0aW89MS40MCBhcT0xOjEuMDAAgAAA\n",
       "BalliIQAn9lnQQTHEoEe/T1jMRSYbUUAvtTDsX6kX35fgSBmEqW59OC/Pa3jEepdsAAAAwAAAwBA\n",
       "pzomoB/4x4ZybNx15K60HxeaGvBy3fNv766p24vRRnzTwituniL2lAQX+KD/n1TDwb7kYjvg1eMC\n",
       "6D/cezdF3T1HalRgH0wHRtaNBh9DWkbr43lYR85qMewOjfniAozoyyEEHCiWNlcNXkAf8D0pmipi\n",
       "y4S2EWPwucpIZMaDWjho3U43eFsRFqNNtOYg19V8XjJdMxxdrmjXAPtSUZ1HSnzyssoiDw3N98Un\n",
       "+iQr0AAVUhm2VB9x56BHev2WagWW8yB9oblECL9yzUz/oWawMahQTn83k1o/SFdMXb8E5TcaT5XZ\n",
       "r3M+27BoKEiDzvVozdRN85EMlB3wnyob407DQCAPSLNGVf3/d44vswT5njBS9RZcdeKW0OhgAAFW\n",
       "bzQFnZLpARmpt77xWtcQ1Lb2AMUd1dcitYz9m9nM11Kljm8agjcZUYhIqaTfP6l0s+h5KgXqh1rX\n",
       "GIdbIN2zVsYsp2bFPaMt7LccKR8KBTz8AAB14NibMTHeLpuO7rhYHefbQsVnSOBDKz8nIqg5by5r\n",
       "9C5yECwXyN62PC2WPQjP1NGCOwaxppIjGltmJ/xHMNHELFWHqE/gIFW9LhN8Rdrw4eY3WQx/n/18\n",
       "wKn0g88hXDWJa1HnaQvWYQVrAkcedLOSRMbxR6M5yPnYA4iDMzYxgHc4IY+EUSxA23V3RsIQWKf8\n",
       "eIikjDO36/jcbSH7GWbLYAHa4vnZAUjqm/U4Ldin4NsUClp/yREANeV6g7qYH9E0Sz/9t7I465sR\n",
       "tIo9My6NxuUERdMO/E9T8J8vJx8Lgu0xA4FfuN5sAH0RRvUqc4cHFQlp7NObW2ssSv12MlGzMhWz\n",
       "LLJgZYWc6dGjZJSuNxh5Cw4Is1NDer4Gjq9Chztd633B6UZwq7OlAheQSR6Z7160pRZnihVj3e8J\n",
       "pAWWtOX5u+s4xN/LqOzT0HquHmzupm9ZLKmFhs/A5OrsEcODzNh6muFFdALMR0Jr3d0FpSioOLpF\n",
       "LjHw5IKsCWM6gW5F6h8ZpTJxcJ488PApadmH4EVo/IB2PDElv5dsDjMSEbSwWaUGcQ2nZ6k6Wtnt\n",
       "AmnabUhxAVuaOJHGFT71M6TFgHljoPnS7xwsOH2sbE05LbA+bvrhDBnoJoVHbhOCu8dRz7oOCW3Z\n",
       "lQ1XYP1C5mkPtdgTxkPjUuDxwKf3KbfWTnh0Ni6MOv7j9O4Uif6HTIVeUdS32fl1qA+WL8Mk6BgD\n",
       "P7EXyJM9Cek7R3B05sZDtfKJcZl7d3TM3JEAR8w59pmkPcAhALEnrOlzRHxHUT2TmBdTZdb7lQvo\n",
       "5hgLrQ3lmFvMbuwAAAMAmTsLiNw/gBqMjcn/BYhLY89ryL3ozE0MC1/2BY1HUm8nCufxXKvAxv4N\n",
       "lrUz6b/MGA6d4znqI7h1uqgVrijGimY703fV4d3oKOaR8Ge+X5GfbJ8HxYGljEmwDagEbX7j4SUs\n",
       "9/paOY3UNKmM72l4R3eQoAYMq8wgxL3bQecULMAdd/nm/Rmilt3tkPWxj7FAIqXvuuzNzetH2Zgc\n",
       "fBmmZtrew1vvdLUovC7TRdh97oe66GdzZW+9G1SSpPYDXnr1fzKnOcBWFIQ7JBSey+nd/WO7jGLD\n",
       "4yKA/mBVmlS2XeMPCnI6GXwmFONoK6gNSZ7wryiaJjIGN2J73qjqY1H9ng6gVUYf9UCEAsADbKsM\n",
       "VCW2zf1VrgD0h9LVpcKiZzDkTzRyv1unzOqQY+b1A2WS4E2PEuchfxvjxOiD1SddptUnvWqN7u16\n",
       "TsAqj7iQMkbalszZLnp3jnBnkmRVLkOwzxcAQZCj4tjPE/CwhFh3YMZGkG/CLCkfLz6JtbRKOfNp\n",
       "ZO4F9Zq3Sylk23eutE+kAMfXM/rBj3OEmeEAAAGpQZojbEn/AB8/pw1ARvFCu3ik8heFAyd2O4Kw\n",
       "ybLCsBDU78849VttHKWBMSu+167tEkd9Bw5GlffRX5dlvWF/i1zvrVI7WijSLljQVjHMQT/xou56\n",
       "yeLdbae+/I23he60/GB0W6Fm5b3N3WO8crVTeMslVXGxzhjpM7+On0utZyzGpnv9VRItmnSsXL+M\n",
       "thwkYQWmWkXGp6DskEpps7QrnuSk/t60/N2VFNAkye7o3nLVzMCeBEcU9DBxfeXXi6o5FlrH4K5o\n",
       "VbrlXjKWCcx+byFiqCp3jfxyPHhQ/DUhEwijbQBAqssM8ulHS+nmCRK9lJnZU0lEqM2tikYFIo0q\n",
       "Vxdle1REl/Q95hFdUOhVcGBO1jSDEjnS1FFvHKaeB/kv243ivgE0Yv0ZaXVlUO1+Ww7FAsZuQgIT\n",
       "iEjM1W/SWB0OOPBYCkQ4O3L37gAA5BU+yYPqHfevGKnYLziL45xHdsc7HkNGiIsbsdS1oV8iAnJL\n",
       "4YGi+N6TLd/AN319/+T0TM1q68noAAADAAmq2p48+adg/MLYDTBryX4bLElWCip1I+Sdq+ko7oAA\n",
       "AAA0QZ5BeIU/Papf+YFYZ/p4IVNkgDMOSswfeE9OYJ+sAJ522Fqd6CDxraWTfYQFYEFplgAJWQAA\n",
       "AC8BnmJqQt8/WIzSzkAbny5nXQQCaawGnHuFW6+UAC8Y1rPsDoYj9wRs1QAE79sUkAAAAD9BmmZJ\n",
       "qEFomUwJPwAd1zzbrcq6BbYgQFD+lNbBEPpjXHGDTBqHyR323mcrVMvP3tNGTJXM/e4MuGq5ZvQA\n",
       "2YEAAAAjQZ6ERREsKf89Dm0cL7N+5FctS0Lfcf5AzqnPZ4kAFV8AA9sAAAASAZ6lakLfBPRLNz0A\n",
       "AAMAACFhAAABvEGaqkmoQWyZTAk/AB8/pw0tPDESAm7qKbmZKVAs4yM438kEM//9DUu0Bu7F4gPc\n",
       "sadR63dZI6QaE0GCd9nBt6PjhnSR9Av0qkypaDwQuCJGtI0kKyvtP1Po0O4J5ryfW+aPkog0ZwJ3\n",
       "8UaqLADW4CBI7WJ/A0p/sTzVSVPdLY4aYGtCwTMtpcmDw4y7Ry0EAVtUvEQjYtGxb4tZqxZ6c3Kg\n",
       "RpUuR/iP/Fi3s7eZUJ/q7gfpuh4xTuoaYj6/fgnLkbFgcDZ9kkmwRHiIWWCBS7lBDas3smEwxmKR\n",
       "sZT3p9iYaquGjGxeyZSgLF1MP4TKrP6Ix2R8bXaOPtOSTFuKoI8BKh6g08WIyXqu4w+Q6AVy6kjl\n",
       "+J57BKNNNQlH0h9gMgJnAQzFrPeh86lf4kbbYM5+ZrbF8JAFdK2kajAFeqH5oJqn3giC44Wn/Qar\n",
       "q4u77snBG++PTcTCc/3PXXYvahin8C3LO4TeGTavmW9/RISs+oS3411s5gQS0h0kfp1wigu8BcN4\n",
       "lGPJ94gc470VDeEGd3okaYKbahv60uPBbavl8FtmaiefhptRENJCmIlp1faIAOUPFAAAAwB3QQAA\n",
       "ACtBnshFFSwl/zjgCDgNafU0/CqZQcyYIH9TYs+GDV+r0zhq36SOAAADAAMCAAAAHwGe53RC3z6A\n",
       "A+EwFsf0fNRfOO5n0X+iEkDAAAADAk4AAAAbAZ7pakLfMi4pqLgpbjYIJGkbH6DIAAADAMWBAAAA\n",
       "PUGa7EmoQWyZTBRMnwAd57d4/rx+L7bSYl7laAamnqiU3gT2ZvqzbU/rL11FQzQKlu3RPb2FvAUA\n",
       "AAMAKSAAAAAlAZ8LakLfP1iNcZcjLhmP0sGyEyzuqjyIWVDnVqrr+YAAAAMB/gAAAYJBmw1J4QpS\n",
       "ZTAk/wAd1xH2Kyhpo/4AAIV3hK6WYATA1I+v/oyMHzEpVqaCrVJSiJI76DhyNGA2f6Ql07C/xa53\n",
       "1qkdrRRpFyxoKxjmIJ/40Xc9ZPFkePhqLkIpvr3Wn4wOi3Qs05JgJZuEGxr+QBJusquNjnDHSZP8\n",
       "lnf5MPrMame/1VEi2adKxcv4y2HCRhBaZaRcanoU2kHX0SyVz3JK50E0/N0hHrqvs5NNouiIBr/e\n",
       "BEcU9DBxfeXXi6pjXGcnI/n7DZR6t/s9U5j83kLFUFTuy467c40FK3p0sCKNtBwiqyw1M6rVXbm1\n",
       "Nywk3/Z13SUSoza2KRgVPjSpXF2Vv0CyX9D3mEV1Q6FVwYE7WNIMSNs5PhfT/e9CexS/bjeK+ATM\n",
       "D/NDFhtQ9m8J1YYgCxm5CAhOISMzVb9JYHQ448FgKePK0OvfuAADkFT7Jg+od968YqdgvOIvjnEd\n",
       "iRU3V97SVaFSNqdbneKFGfb91qcJKpxfACuVSV/RMOuXtgnk4QAAADRBmy5J4Q6JlMCT/wAd1wXp\n",
       "fvZUZgAIsNUyjLIBkU7W+l6p1QD0fEKA7ehImEOKJnaAAIeBAAABekGbT0nhDyZTAk8AIEmB21Gi\n",
       "HMFq1VJxgza/eZfYt/3W3p1bFRp4RteicaWBvz+OqJPxB149aLo4t7lmmLZeUqpA5wNJb5kyi2E5\n",
       "XI4GL56kPyx8bkq6KraTAH1YckIUkBWwqKtPugabU4VKxbcOPhlwcqsYPE2iRnVhDmRy4dnlwb16\n",
       "tNP4v6lA47qoHGdd39DTwNH0lCzNAu4H6bw3xvb07pERAbEnWanAYUG2JnnMfCCEp1Z0ztxDQCU3\n",
       "UAoWG0EZ/jfcyAAGzyNCfS2W3C3INj/P6fWvpKcxwVxCPXuWS5cUIN0bG2jfv8PHtz6hwyW0VwaW\n",
       "EyWNevCH4FN0bTjEAm+9SgjG5qNWCRcA9SeNjF+TTVbtscn8dkYoVsoVYzUFMAhwtZb/d0xUDIEG\n",
       "ctpVLQQ0uEqCKZ4yQsqgO2gmS6/zGf6P8feeO2iLOy7kGgZCubazzNP2SeBisVecicS+EuUw64wj\n",
       "g2FbBdRggGFQ9y27RQAAAwAd0QAAADFBm3BJ4Q8mUwJPAB3XBemdftbtcIjmsAACKHxBbW7RgpUs\n",
       "2kVASRm9FLCLCgAAAwHVAAAAQkGbkUnhDyZTAk8AIgqptBbnHnIglr9upXPEbxaTx5jtHXuyApkh\n",
       "cssxRIeUvWd3nPFAPQ+Rc5gLa2sRmCwAAAMDAgAAAZRBm7NJ4Q8mUwURPJ8AE5/RxaKBgRWPl/TX\n",
       "b6AlkzaA4CYH2CbbdJEUYxyOmLj6H6geq5C3qXosTaHiukbMYmhpCZgywqb1bSi+kKzHUCv1GQdp\n",
       "NT+YDqEKlf9dnDgmic6IA/VaEE7ILY14WyK1BTvD8ItXRh28Lbeqv46dOf0Tn17WNlWOljOaqiEH\n",
       "8k49y3GQBurUPCLU2EJ7MPKA7toBGlLxHvknOfyMoU7BbONJ01QK8DPXpAb0UB/Isf71yTGiK90F\n",
       "2ae7zhOSin5EvYfDOmAjDrZvSrTyKAAA5A23uney1bFBxumJrsBK/nClFW/L40NeDePWg4ZAvXzD\n",
       "TZH5y02gjNv+NrgIv/uAGy3fk9LqMuK6IAUriBvkj4T88VuXzm9TzKHQBTjTBscvWn4pJMNVQeX1\n",
       "eCzvQdyPd2INlko/iY0clCBSFFOzNYLxjZyaFP8qRBcd6ICtT13/Yvd53ZHr5GoouvUOnUmsy0H7\n",
       "ncj4ZMVyjy8tw2cL8BYHzQx3K7uHRV834IbPqopWAgAAAwBXwQAAACsBn9JqQt82YAPD5y8LPhIb\n",
       "G6RWnzKuRXaYGhaiXmfKWdP0g1b+AAADAFJAAAAAREGb1EnhDyZTAk8AE5+S14sAl9YAXAJBN2Vw\n",
       "E7iIdjfZs8kWzne8OwAL+Yy5UH8/ADlLHmBFV8dkcb2gVGPK39FpYAHzAAABg0Gb90nhDyZTAk8A\n",
       "HzwIaBR/gqEKuwuX06Kp1lHscLyoGLPlSBPr+pKsmbxhvQV/5YfiD5bEXH3f+caIv87xQe2YePqi\n",
       "PRfYFCtE35TEiWSFCOj3WAxdwSIEo9Ia8x7zTjbVK0kVRS4R5Daocyp501yVoY4/fC/Juw5TNiX2\n",
       "1I02EwVuATbujEeu/VddfLc5afJ8ULVSHrDU8WzSHoFDzlNdGEiAzepzbc1C40t8DImJXL+qBACG\n",
       "dZKNAvgekvO51pebAxakBVLzgsyera44aPzBk7nEgFaBZq9d3HoEBXUzCUTZ7k1jIHoT1U6y7ag5\n",
       "hu4SYWmECze2ddVrnvG4T3VlzfduKZ8rxL4KeXwM6dkRnIF3Y9CYuwlVWhJ4heeKtXlsoafI6L8i\n",
       "e17Y8o5fwR6laS5qx1n4lwGy48OVwfw8z89oPUCrOG2zGR4H0ZdZWPxjVzaldsMbWgnRuzd5QUFk\n",
       "nUXnfcbbDZzEd0d7U04I0OR0Tm49ZwSAABJYIcCwAAAesQAAAC5BnhVFETwp/z0ZTZ7GIS8AVWx1\n",
       "P+TC0zbnTwijKSl3Jdqsc4cp60+yAAADAAccAAAAGwGeNmpC3z3DXXQDuf9SzeaI9khW8jAAAAMB\n",
       "lQAAADVBmjpJqEFomUwJPwAfP8pzqiBHgkphnON/IgrFMsD8T0WIZmEOq4fVRZyj987FB8PeAAAE\n",
       "fQAAAC1BnlhFESwp/z0ABwOnOxwW5/SbLbFQSeWUHq/+TTYBwIpPMI93vcAAAAMAB0wAAAAbAZ55\n",
       "akLfOaLIXikD8x1frEf3idOgAAADADphAAAAO0GafkmoQWyZTAk/AB3nvdKvuc1o/NLNs2o0kdnt\n",
       "OfYrTK0en4x2DrxT6HHFgwcobX2WEGqk8XqAAAFTAAAARkGenEUVLCX/OPNZBL9LH8/ZeUpzsQkh\n",
       "RgXglpPMJrMRqQxnpYpLI6hRb5MWWHXZgVanq8m1tlj26KnqbN/mezSAAAADAWUAAAAeAZ67dELf\n",
       "PoAAYUBM0xfCpxqfgE7TN5/jQAAAAwFXAAAAGwGevWpC3z24LWKN5xtxh594MtMJxZAAAAMBJwAA\n",
       "AXRBmqFJqEFsmUwJPwAfP8p0W016mnaKQOuka5sSwK78KTxerU0FWqSlESR30HDkaVz3GYpJhUj8\n",
       "RjiI81HDTgg0i5Y0FYxzEE/8aLuesni6Hge9jxDheF7rT8YHRboWbtZPimITmbX8gCTdZVcbHOGO\n",
       "kyuHLO/yYIqbMk9/qqJFselrFy/jLYcJGEFplpFxqeiXpANQOzs9w6hwtkUZaQdWvVJoNSAx0OEk\n",
       "pzWlxg9ET0MHF95deLqzMWV+WLwfsNlHq3+z1cVsRHNCpwsSAN1OJBSooJyBMihFG2gHBCNYUDMM\n",
       "NZwbjB39dV+s67pcZNhixEDMDhNhZn0eawpAtS8C9dpN1UOhVcGBO1jSDEjpy2lfLyCUoM0Sgo4E\n",
       "o96wc498nHNu1D2bwnZpIymLcSEBCcQkZmq36SwOhxx4LAU9ahBA5fuAADkFT7Jg9+eokQsVOwXn\n",
       "EXxziO7Y52NL7SVaFSNqdbneKFHBLM5kvBfG+VoAAesAAAA0QZ7fRRUsKf89AAGZxMDPSwNNc8rF\n",
       "G103/BLSAicFfTsGGBvlXDl3X5Q9BRTHh8hAAABdwQAAAB0BnuBqQt8vgY90B89rGut/e7fCY3ih\n",
       "IG1gAABFwAAAAZ1BmuJJqEFsmUwJPwAAID/sJ8kump1B/DfTbMlv52iw68yVp9ghX/EqMDlecEzf\n",
       "nu6+1xn2dCRfJYJXnmhh4Nto9cylQ7kVSQHe7a/N+/jjsWY00GUYVrkBO6oQMNjXqUAYktCIpPc+\n",
       "+Tvo2g3/7Leeyr8SxxJlDYVyNMDdgrLUJb456441LeHY65NgwlnGDFVZ1LM2ouIWzxBSaHgNa/Yb\n",
       "NQp0KfxoVT3unr9+DrvLwxtG6CpTvMIBKqtcy9/ubl/AffGOVGVrkqQXIJrg1YuuGYlen2nfj6Tp\n",
       "lvVYn2r0HRBavhV+vbDUpfnJRdOkZKqircemyx4Kjq38+OKc2A7WdK7qpPw+N4giHSJGDH+QcAiO\n",
       "yc2IP9k/tjJShEz7nE+tdpkZujYM5xA6nOk3r0kMoVCoGpjFxVJeFXDOJ7N00Zr2H2FUhLb8RtO/\n",
       "i1t8c9Hq7/MyE58Xbtkrwn3rEQkIL5EXZ8CHCy5+dL55Ag8uEwL1K4cPKPYr4Vwe5InldpzP4D3F\n",
       "hb9kAJdjpSF8qxVN/ZxfseBJdJNlBQAtoQAAAZJBmwVJ4QpSZTAk/wAAAwA6n+U6Llo5aFbNAOXx\n",
       "Cydk7Ilr90cV7727+MEJueyjo4qyYn0+hcriVN6zzZIVWNzJJLaqtS3XdIGj9IboDc1rVBE3C3cn\n",
       "QC7wqR+14uMQDKTXDdILEfxxEU38YtV1TIR5BtWt4HpsdLyKIEE2q8ppR9STYtNJbO20neWhf/rg\n",
       "a4d1ln/rjJvrtt7lW4ZeORI8ESMYyqvV0haIep4XjJy07Thqo/1C3gqdSGVGzuoCQ1l1L0Z81YNn\n",
       "kMJNcJkPkv2YbX2yZ/+n5Yzs5tuU0Snv/6/78RFYClUVfeEc8nENBLC2jlEw9sEhUrkviXePYcf3\n",
       "8q3GHgsmKBM3+XXbsYPdLdqpHub0TQkcawL3KJXneCkM1s/xZYYsjlzRlRe6VM/VeMoteC468rgI\n",
       "EPOWpPcLDjcDaJIbHVN0opJPLzL8hR0pvt6C/z8p4FyyCZeVMinKxMZMyvkHrShm+o/7oywnu/WK\n",
       "h/U7h40Q/4qCWuj2PrfIhJVjXjEZDff7qMRcAR/QVQQAAABDQZ8jRTRMKf8ufGBvpGn4NDxECp9K\n",
       "AAKAnl1vDNwro5HIG3gRedVW0pQ3kASQ9F0FCONYz/9OvHcrPtXIOAhrj+BQQQAAAB4Bn0RqQt8v\n",
       "gY90B89rGut/IAD3tB7eflXQ+mJADPkAAAGFQZtISahBaJlMCT8AAAMAAG0/ynSW0dVcci4MNVMI\n",
       "9ceiDpq2EB84H9VKhV2Fy+nRVOso9jheVAxZ8qQJ9fPyexFAkPegr/yw/EHy2IuPu/840Rf53ig9\n",
       "sw8fVEei+wKFaJiDVr29BQjo91gMXcEiBKPSGr3RB5B0QTDIqilwjyG1Q5lTzprkrQxx+97ZNIhF\n",
       "HTTBW4BNu6MR679V118tzlp8nxQtVIesNTxai6egUPOU10YSIDNtiSx1mN6dRQnB1WUZtWIAQzrJ\n",
       "Rj7ZzHbf/tEPblKqcD6M9F/t3ZAV6jb/9ZpqWkQtbuPQICupmuoxjFvxEq+3ZlTcytiqHoIMGwxU\n",
       "GKPFpfcCMK2/OT3VlzkeYMLTrvuUA/wr7nIF3Y9CYuwlVWhJ4heeKtCMYTax/4FgYLdEF5Ry/gj1\n",
       "K0nPVjrPxLgR973VswLh5n9LQfF/K1wusd1hXwfmDnDTTV54tavFjQwTo3Zu8oKCyTqLzvuNths5\n",
       "iO6O9rCiaio66Jzces4LPOkAAAA1QZ9mRREsKf8ubnWAWE9hHUir0gvAAexwucTB2/QuiirXEhAy\n",
       "F2B5g9Y0ghupg2y0eJ745GMAAAAgAZ+HakLfL4GPdAfPaxrrfyAA5IA5QiV7g9DzpTC9d0AAAAF7\n",
       "QZuKSahBbJlMFEyfAAADAAADAFv/2E+SXT5+hVaqk4wZtfvMvsW/7rb06jr/xaJZKvHq/A35/HVE\n",
       "n4g68etF0cW9yzTFsvKVUgc4Gkt8yZRbCcql6nbI1Iflj43JV0VW0l9UHbqTVjpnbCoq0+6BptTh\n",
       "UrFtw4+GXByqxg8G6pd0BXLDOHZ5cG9erTT+L+pQOO6qBxnXd/Q08DR9JQszQLuB+m8N8b29O5WZ\n",
       "22rtYh5lSADbFOonwgUadWdM7cQ0AlN1AKFhtBGf433PtKt64AkXKCjNALZS+GVA4da+kpzHBXEI\n",
       "9e5ZaLZ1tGQXKHusOyPbsHYZLaK4NLCZLGvXhElJIdkEOtoF6FR2+JBoPawSLgHqTxsgx2jrhdmj\n",
       "pGMo/pQ0KFWM1BTAIcLWW/3dMVJJhBkyDpoHJbFKgNp6GIjoccWTTlf5tPrCNWktttEXmrBBMD7q\n",
       "mI0F5Nmafsk8DFYq85E4l8Jcph1xhJNXLJZ8YcT9PRwDWhkqYAAAADEBn6lqQt8vse/vlU8AVeeB\n",
       "ZroABWNaddxPcQgn4XKkOgQ7f7QBfT9pgSV/Ew06iZlRAAABnEGbrEnhClJlMFLJ/wAAAwAAAwBO\n",
       "f9QjgeD1kG96S/eTy8qImEzaA4CYH2CbbdJEUYxyOmLj6H6geq5C3qXosTaHiukbMYHTIbmOJCpv\n",
       "VtKL6QrMdQK/UZB2k1PzHFhwqWC/UOaNkKBogD9VoQTsgtjXhbIrUFO7cQi1dGHbwtt6q/jp05/R\n",
       "OfXtY99ezDqB6nYSCfIyQvGQBurUPCLU2EJ7MPKA7toBGlLxHvkEOfy5pY7BbONJ01QK8DPXpAb0\n",
       "Q23Isewr0mNEV7oLs093nCclFPyJew+GdMBGHWzelWnkeAAGqm29072WrYoON0xNdgJX84Uoq35f\n",
       "H0rwbx60Hks/6+YabI/OWm0EZt/xtcBF/9wA2W78npdRlxXZAFE7gb5I+E/PFbl85vU8yh0AU40w\n",
       "bHL1p+KSTDVU3mYXgs70Hcj3diDZZKP4mNHJQgUhRTszWC8Y2cn5T/KkQXHeiArU9d/2L3ed2R6+\n",
       "RqKLr1Dp1JrMtB+53I+GTdco8vLcNnC/AWB80Mdyu7h0VfN+CGz64eaYYzUU/S/xryAAAAArAZ/L\n",
       "akLfAh13xCQAA9V2C6NWsmVJvzVcDpG8lsBWQJGwylOnsg1XR67bwAAAAaJBm9BJ4Q6JlMCT/wAA\n",
       "AwAATnljURdv4wQm57KPmDRLPoeS+19dtm1flcxJPgLtmn4CqPfvY57M53qJKk8Uziukb3n0+jzs\n",
       "v3yrLQebPqKf0h762jPxTOoflveqUg/vOFkrAD0DQlpBTdXXEMqCeZXJMq/R/B/Y+pSF8cl1ao4x\n",
       "gVF0GW9fd6u6YICALyw2DV2iiKWGcycILNdz+mHNFy5sY8K4GqoMWycOZAYzH6IZRPS91L8Lp3NR\n",
       "O8U87iFZfzojX+PNMFyWljGloFzznW/pCDpZRzuKWyBDz5I4G2Z2Yy91wcv2J++EfQCGIBU/Xy3D\n",
       "ceGrEuSBb/m6+ng1OGFVM2y0/PtlueB93FCVGL8mf0WDJIBsgUJQHQQFBe0TUPnVsh6rzM2517XF\n",
       "2x6dMDqOtniEjBe51e64aFHlJT5GpPyjyZYM3U0TYmAjfOaS1ohtgzZtMsc4ddVoFJ4m9vuW+Kh2\n",
       "Pj9rUkzmcSn9n2TTeEL05bHuJRXEDK8/MsYmiImooH/Stz2BVzBhe4gf+5q7eMSp5Y8W9bzJNlwA\n",
       "OUEcOzpBAAAASEGf7kUVPCX/Aebzb2QDOecLdAR0hXpYCEFxiz+A2xecdwbrVaeF38r5yK45c2Wx\n",
       "i6iibBCkLFD2mb6FXE0AWEthiEwoNMYXcQAAACEBng10Qt8A7I8YFhQORaEOC0/JpVPfwBBY/Zcy\n",
       "r9nSjukAAAAaAZ4PakLfAOpeoBeTOxA+Fv26/etYIiWAGpAAAAGgQZoRSahBaJlMCT8AAAMAAE2c\n",
       "SZpjT+9v4wQm57KRxeyt9DJ6G/Wg3LfGlyKt9UPdQ/qbBNzrI0xi+VxoxYxyF1DZVR9oj+UNxfF6\n",
       "u6jvvJpQGorswZA83byG7ObUIzaMlDRnDxyAgKE5kMcfH/uI/mP4nGSx4Gxkah3QH6DLgack8Pg8\n",
       "cI/Jgk+V6LlXjdz58RTmvPrhfwZUJiVzyzzq63o7uEBmJ7x/bkGaHb/Bsff3B1voX4OKF/RFxIen\n",
       "6HweY2AdiAy1vykoMwziuDvzS3ZE1TMX0WpQSGbiB0VHjy7zjx5Fw1sDQiRrGxrpRcg4y3uBz99r\n",
       "sQN3gh3LvGTAk6U2PrbclCXS6+0EtDxBmTDi9MSIxIwvRThUOGC8dAC70jNa9RrQIt0fYh6cBpG9\n",
       "Iwk2yUU21Qjj/vztvvgBccHec3gh6gNe7+z3vL27lk6VJoNjE0NSRFlvCWVmkDzfd6wqsoQ5DbWZ\n",
       "x9tZiq5rEqHRKGbsIkYKoQhpdnGqp+DbBf9ZDotpHC+Df3gxbaAN7L7n5zveLavpsY9wt67zw/wA\n",
       "AAGZQZozSeEKUmUwURLJ/wAAAwAATVytvvvQ+vZ7d/GCE3PZR0cXNB+McIVNQYswJPrPlYlTes82\n",
       "SFVjcySS2qrUt13SBo/SG6A3Na1QRNyYJlqLl9aR+14uMQDKTXDdILEfxxEU38YtV1TIR5BtWt4H\n",
       "rtjnqCAG3tV5TSj6kmxaaS2dtpO8tC//XA7bHZKiZrcANkln3Ktwy8ciR4IkYxlVerpC0Q9TwvGT\n",
       "l3kldlJhvfbnY8FDXyppQdWVhu4sOtsK9GfNWDZ5DKAEC4YRidlToIWOK91/TJQ96Ezm0/6UbIbe\n",
       "tgRl0qir7wjnk4hoJYW0comYVIADOnipE9TmSse1fb80RyrcYeCyYoEzf5dduxg90t2qkahUAvMS\n",
       "uX0jxRK87wUhmtn+LLDFkcuaMqL3SHvNB9/D2C3HXlcBBpQN4lKJHJCw43A2iSGx1TdKKSUKNjgo\n",
       "ahAMmqC7GhmHtMIiEy3uyKcrExkzA+CfZdCF9R/3RlhPd+sVD+p3DxveRA2EtdHsfW+RCSrGvGIy\n",
       "G+/3UYi4AkDUbJRgQQAAAC0BnlJqQt8CHXfEJAPVJSDtI7qrn3coAsvDB+jRTwW8AMH8mVflpbQR\n",
       "Epe8K/gAAAA/QZpUSeEOiZTAk/8AAAMAAEGS/sjof5gXLwbp5lNah3UcV61oCy98J4AExVz0Je6g\n",
       "e9ellqFYJk54gXhUbqMGAAAB5kGaeEnhDyZTAk8AAAMAAE55Y+gRnb+MELcxtDMK4UP04Hk2R3Th\n",
       "rBXGGlUKFWqTxpoqnLKL/lWZg3rPNeItLyXXI3cav0QQ9ba8UysXRdlTjmsbAXgBzSFuXO+8KvUh\n",
       "UnE7VDne5WcypKC2qMlQV+fGIfeiajB4YTy/xLKUUzEjAyeIejggb0zoQyHLmvRTQZbpXcfTGIcw\n",
       "r4Omsn2UyGhKx3Wwa0nz4fQKjJfJ8+IffmPHRij93xUYA9PEdnTo7cbdJq4W6RLC3K2T9yzqVyhX\n",
       "yXn+UtuiejBZR+/tjWsAH8teQgV6VASY3eC2TjDd9Ga1a023BxtEBfbOZZn8Km0lT8yarucVF8y3\n",
       "MwUh3mmxrNW7KUOKc/vh/njdWBfU61qmLiN82ekZZJqBcfq1GbcWjwrgfSRohDMuIGV0e5pA3Jow\n",
       "jeU8IJit9KuA5Ksa6R22BaugRT1pYagIHhDgCmBltI5OeAozA+R/kvJpCcY4gqhNS1Z7DHws4srU\n",
       "1ycJ9w0EDsoaSwEgcr/T5xsPQyoMsczSVH7755bsR7Bnn4P6ihDWA4xIB9wLbQKR6atpvrzwfn+d\n",
       "j91v+KcwRstrbUp4KibxukakAIZ5O6o6katat76Mu3cAHH+Og0xKMfTqxQMAD7gEvQAAADlBnpZF\n",
       "ETwl/wHm829kAztKTUWAjpCvyAkXqNVpgLTY3sb9lC4SzIC2Ru7ahVPnFYYO9QMWcCWCpOAAAAAk\n",
       "AZ61dELfAOyPGBWBOBzH2pmfWNADgaDWAEi2wT+p41VrpwD/AAAAHgGet2pC3wDqXqAXS63r2gcc\n",
       "GyYUDaXxlgCPEmCLgQAAAZFBmrxJqEFomUwJPwAAAwAATZw419gt6jeGwCpyUT3huGWRHWCqkNFp\n",
       "TJVHUlj/Tzb7URSZtAcBMD7BNtukiKMKs+Wo7KgTYHquQt6l6LE2h4rpGzEO7G6g1YAqb1bTdXhC\n",
       "sx1Ar9RkHfgJv1Dteai79dnDgmhy2xqdpv0ArZwoimKYhYHBQxrVdGHbwtwn+VMDG/0U3RE3sEk+\n",
       "g4m9JHLcZAG6tQ+CdInJoeeT0FeF2ph28Zvyqm0L4gsdgtm1HSPRyA8p9sCBtYHOzmrcPgTksrnt\n",
       "3nCclExfcQzJGSMbSAtA4zcIPcHxeZGyBKprtG6YnRuX9eyA4Z9wqJDCKMOKxCD1IbX0fUphygIo\n",
       "Fkza9wp8OLAb9iZ99riMhgTPJ3+OrZ+QLKArwoeRHW274OuJ6fKbuIQeMALhnMo51r7gqqZtGauh\n",
       "vc3GyJ0EvYzkYzzoRwkx7+x4NFy+p2TVT1e8lMMTIk70peBgqBVs+yuyur6RZqm6fa/5zLH5xQ2K\n",
       "UhDKNfBY209j+5JXzgMmvRIdQAAAAD1BntpFESwl/wHm829kAz/E6PF2noulKr/lX8aQxiqbtG1d\n",
       "gXuKjTJtFjoJpAl9NjiTrRpOmLffVyFVEQI5AAAAKQGe+XRC3wDsjxgVUVoCjwrmOwxEVhxbi3rO\n",
       "0kg6GicgmTNmWH4l0BAYAAAAJAGe+2pC3wDqXqAXO1AvGyWYd3VAaKgLeUIUogFHE/FQWbbwgQAA\n",
       "AX1Bmv1JqEFsmUwJvwAAAwAAmWI7LeN+iUFQKW4mHC8+9m7nsp+0FUN/0ULB0KvzPyda0M+Wwlu9\n",
       "tsXtIdcPebr9RY8WsExpi0j+0mWK/5k3jlo+U17ehEQJtManLCFPZ1/zie9jqFLjrSauKMplqnIf\n",
       "fwRfyEUXrz9HmgNFrOiwRYAqzMTIMUOglN1kkW4SXzMEG5WgPLv7VwUnu+RNJVCWDBA3u7JmZQox\n",
       "fHci99VXtfS9U5C2KlEO+icpr0aJsDn6FhY689sp80QlG7+lTLdqG2OwVuZn1zGhOftA2QKdAabL\n",
       "D4VriPYgz8UeVHeL0odulcOna4sFSFqwlW0NfqV9WVIB9xT3y0g4Luijp5j7Tn3VMVR4ec9EwqFt\n",
       "rtrXlYOMRjLEpRwNcE1FbH5/2dU8KKCRYIJ7/xu1ES57Lm+SnxwLImyVKs2JPsH9ekRpecETi3eI\n",
       "/xaCbMkNd1yyma8PC7h5CGVSlyRIjZVef0cYBuYDWeN4iCDWwACH3H8AAAA4QZsASeEKUmUwJv8A\n",
       "AAMAAAMAm37rUMQvoevYYAYMUPGlPGFgFeib0aYXpv37dyeETefpWLsSn4AAAAA6QZ8+RTRMKf8C\n",
       "DWB4SAJsPLEuizL++vR4Ur5JineD1tjVDTuyZje0FGAwYxseP2Jgvb+eKtGQ57LpWAAAACEBn19q\n",
       "Qt8A6l6gFjUFXuSsunoA0Y10xxANbFPugBjWPvsAAABAQZtCSahBaJlMFPEfAAADAAADASPSnWCt\n",
       "9d80sn9bO9XF3nS1vhApuE+p1sC1ObUTit4yVp1q0MXzaYKckDTMoAAAADMBn2FqQt8CHXfEJAPN\n",
       "ckoFbdIXlIb14yh74SNGOhQL9GZJhtkwbcVUJuoyN57Am6Fql90AAAGKQZtkSeEKUmUwUsR/AAAD\n",
       "AAADAVrvclnyvvEzwAOrpCJmgK08RhqKshRLqXB2nK/BXdbWumzRAKfJZkn6G8bQy6DT+seZ2VYZ\n",
       "mxq5r+LaRLgEUn0pSqFbf3068qXGkkO4GB4p0FSV1pD9FO6tu+LwP0I+h/2zpYxdIKPZz3ZE1WCT\n",
       "EIiHb672pXikPemdjoVNhsXulZ82Lvr2QQJ1z8ALHjKQsyAJ1vKR5t7u2lUX0oxqF0H8Z9cHwnfM\n",
       "LIOI1kiEr+0ggLrcZNF/i8MdHUya5QTCFWc+bNf80jRbd/u+9uiCj7jdNVCAsOXmov7IDaqJDkJ8\n",
       "iZBbO0RPqBrWQ59eO5JjyoSOr/ZPQwH6v/Aw//DK00DfNT3UCBbdRJMibBdmR2ubvid/YgtdAzg/\n",
       "TOKNoRfkV7KL+EdAJa91821srHGeJbG1t5GPdnipEDVWuc8VZw348m6yXvBKTrR+NtX2cI84/5FD\n",
       "mA4RW58zf2akhCTAFjQYYGErVaBYCRDYBvCEe/dCq0QAIbLdMAAAAC0Bn4NqQt8CHXfEJAFImyTs\n",
       "fnATwIQaGmgcHTIwMH3lU5cax/unJxLe3QcrZi0AAAA3QZuHSeEOiZTAiv8AAAMAAAMC//GNSqC8\n",
       "gbCxiwmsbkrzq7AEkOQYAD+xqJ4quUOXh1NdIi0t0wAAAC1Bn6VFFTwp/wINYHhIAM6+Wo2NLAla\n",
       "JaJjfTMLrAvOSbqqFnVCIDLqMlb2dBEAAAAYAZ/GakLfAOpeoAAVgvCbTUowDdDo2QDNAAABlUGb\n",
       "yUmoQWiZTBTxnwAAAwAAAwOT4Z5dv//NY8SNsAW22myeARv7xc/Dpecab9FjAxjFqHPK/TXmmK2h\n",
       "ywDuk7MS4QR5Bp85UE+4hr+FFwVLZsqpHRfHQq0AhPho4BiAiN49QWS7M7RVZtLH9FxAaggWnlP+\n",
       "2sJY11sRCditO+MIf/rsbpMTmhWSyqIREFLIdZrcozjwTh7cJljL5i3uhZCY6/kX9dX7Gb/kw8sD\n",
       "h7UOrscv71hglSA5pNtuKw9LGqYQYbKbe7SB3IaoHSDghcbJmgZ49mw9++G5YuBJgSP3UsJmbRRU\n",
       "mcLnIwTGCksA/+jAN5AVIn02I71wNSPtk4xHdC63cIhDToXuITE6+9eUPHar1kJWvI4wYck6XAzQ\n",
       "KkrxeXyz3+kyikSKVNkKapzRudh3W5hSmHMY0w+UYR1PIxJHn186XJ8ntZ1zLuJ7FTY2RW96XqLa\n",
       "+2TdP95VIrV0uCamGSLW4MGY0tSh0WOpDKFJdPqOx4InLkH9gCRCK7ma7yd1OTBSGbJ4gR1VwCwB\n",
       "fpcm/AAAAC4Bn+hqQt8CHXfEJALouQug1fDQGXMSwb2Elyb77cV+ZHDveXSvfXVtlEdo6jS+AAAB\n",
       "pEGb6knhClJlMCM/AAADAAOTvtDYrnew6zxufj2AK/y4xK5C/ybfrtyNtfuWR6kcI1XCLMahtrxD\n",
       "mPrk68llTiS2vTuB0JmYqmppMziEusX+JIkK8OmlzCJWBIAHASCxVt39dcFWvy0gZq3R2pcNnOLn\n",
       "bNIlHQYQB0GKfNUA669pgWGglV1exKvguj6Ek0TYixBq57mwNsGh0Xhj/pYK1xeZzrnbuOve6YsO\n",
       "HMpGHo5MIcdEkPAqZS3yehtGntiVlTllM2zk4A64PX244lc859zEq+9VKHzye4XcrU3KPe+q7WWC\n",
       "qxs7LGkGX0k0QnPGFeoUpB9Z3NbUjhrBMlxqQd9dYFdUiRdif/jZ0MTsdWTgiwZJAloP39vhMt2K\n",
       "zsL64nuN4wn4xmNNHSYS/14fwCQLVJY6urn/ZiL3qRC0fopk7+cgvoeDtkocenfet1dKm4wQdJfI\n",
       "GaAMh+Y6u+HqnaeBK4fP1OHiRsnoNZizgeG98jHFL8h2R6sTBCuKF7bkhj2+NjQMyDPu4+ACt7+v\n",
       "uhVgPeBqSzM00xhexZiASLCAngPNuwAAAaBBmgxJ4Q6JlMFNEwh/AAADAAi368Vh6cF4GXZCvdAf\n",
       "ZqqG55gkeddZ70G9Tl5/bd9pRo5oKpGegaltvaffo2ZFJOZCCW6ZgLAjiswsEUXC1a4G9Gei7CHS\n",
       "+EvGM3LcVnu8XAbo+FpD2L8tW3ViW3vHUXRcUwJhvF/n6QSZehTnc4rtW6SHVZSLpVUPAfmok5QL\n",
       "hWl7t2/tlF3qedy48V+FXWlLUrUbj0CGNEEvGYx/L0SmmvPLsbcASH2L1JxKAn884HzQHOpEH8xk\n",
       "1hErX4HmahQloMXuOZBpUFFKafuReojbFr/JAGjLzWNldQ6/453lGi0gH+uIAKoYmQ/xvph2zwo+\n",
       "PNQ61IlB/3Z1XgthYdgZz4+x42I8Oc06JzW4aAQN73NmeU5vMu/nYhvP5DLJwgpW1YfOFKEVB97h\n",
       "AtuBWFeIwxEpsm+3exTycZGzfcyn+O2QUs9mpuKkaySmhnKipwanENsS7oB1fbTX+hUYM3qFLIR6\n",
       "f0X/JlQuFpgWs+cUY2OB7CVgPyV/LzABXgeZsZ+5xfd2sQmnWXWbnEKBgQAAADQBnitqQt8CHXfE\n",
       "JAPt+NNAoAAzSNZxwvRPTvbGfb7aUq7xAyFk0uMP3sATsv7mA8WTHt2gAAABhkGaLUnhDyZTAhL/\n",
       "AAADAA8A/xGffP0eLE0Vt9eEm0PEjZZ5jl0Wj339P4DB/5lKXqvieD+Sv3YQ8ylW7rGjdiUoXt8B\n",
       "Ae4J0/GlP5f1xRAp3diwV6oimsHFZUh0SrEhTpzNlw7g0ScSFfw8HHjmhpyjfS2d/l774VpbiBbk\n",
       "xfn62sRHshFdBQ0iq8W9+zSd4xXgMWeXTCwKvspkdXeumhohX+9J5jBtxT8Jd+hIKgXpws237OuF\n",
       "r4PhwUmiADhjkMNHkyDZgHUblQi306StYaVdYNAXwoZm32JGywP1FSaoVnCdD+L7a+Q6AfmFYM6K\n",
       "2uAiJNmKnXpgey8yqi/BpgxRTRkHzlhgFgauKga2VbtYnA/ydARwd9zQM/ks27n1VFabyXecHWCa\n",
       "BDr+uOoOOwAca6+NZWnqwXDMrG9ZwQVly5tNXni87A/yrxd/BJVP2VPDt/Ht7AhpaZdskeedO+Ph\n",
       "/bcxh6ROWVUMt9cPgiO+lZv6Odc6syWDWNRRmIyki8qNYGtDwQAAAWhBmk5J4Q8mUwIW/wAAAwAX\n",
       "kzShy+qelapAyZiN+vef+sDHKJojbTL2Hqx2oHNGW8y7krEb6B8p1uwggmKt+NTg8rtd2ZyeNqxp\n",
       "IQkHElnKkhRxPMgI5QeJm9Ncpus02khd0jZLI7jaVWXhoZSJ5WnoHNKcPXvOwvGp/g8lsZ030MIP\n",
       "W6+vKeuoZu8QAen6mSdTNDUo54sR3OYnxIMPIo5aB68dIcuxT69RtYYwG73YJt4IqUZdEJctYpd4\n",
       "abpUe5aTzs9Y38qjiwZJ6wugBObo4O6xzJbMM0Zmwf2mn23yaHYu4w21+TLllXiaaVTdH6k+5m/n\n",
       "ixSofMUoTW2H8v4dlH6fTWNLDCkotHQdKVxXoHzUco57WfqOrlsrgT3V49x0veKHcjrb8bVhGBfQ\n",
       "WGbvEdjt2ewvCMEoOWFfLeOSfS3qRMFuf0FOvIobsaDe/5xwoMB32+bdylHPnKPcG0557W58P55I\n",
       "mYsAAAZ3bW9vdgAAAGxtdmhkAAAAAAAAAAAAAAAAAAAD6AAAD24AAQAAAQAAAAAAAAAAAAAAAAEA\n",
       "AAAAAAAAAAAAAAAAAAABAAAAAAAAAAAAAAAAAABAAAAAAAAAAAAAAAAAAAAAAAAAAAAAAAAAAAAA\n",
       "AAAAAgAABaJ0cmFrAAAAXHRraGQAAAADAAAAAAAAAAAAAAABAAAAAAAAD24AAAAAAAAAAAAAAAAA\n",
       "AAAAAAEAAAAAAAAAAAAAAAAAAAABAAAAAAAAAAAAAAAAAABAAAAAAfQAAAH0AAAAAAAkZWR0cwAA\n",
       "ABxlbHN0AAAAAAAAAAEAAA9uAAAEAAABAAAAAAUabWRpYQAAACBtZGhkAAAAAAAAAAAAAAAAAAAo\n",
       "AAAAngBVxAAAAAAALWhkbHIAAAAAAAAAAHZpZGUAAAAAAAAAAAAAAABWaWRlb0hhbmRsZXIAAAAE\n",
       "xW1pbmYAAAAUdm1oZAAAAAEAAAAAAAAAAAAAACRkaW5mAAAAHGRyZWYAAAAAAAAAAQAAAAx1cmwg\n",
       "AAAAAQAABIVzdGJsAAAAuXN0c2QAAAAAAAAAAQAAAKlhdmMxAAAAAAAAAAEAAAAAAAAAAAAAAAAA\n",
       "AAAAAfQB9ABIAAAASAAAAAAAAAABAAAAAAAAAAAAAAAAAAAAAAAAAAAAAAAAAAAAAAAAAAAAGP//\n",
       "AAAAN2F2Y0MBZAAe/+EAGmdkAB6s2UCAEHnnhAAAAwAEAAADAKA8WLZYAQAGaOvjyyLA/fj4AAAA\n",
       "ABx1dWlka2hA8l8kT8W6OaUbzwMj8wAAAAAAAAAYc3R0cwAAAAAAAAABAAAATwAAAgAAAAAUc3Rz\n",
       "cwAAAAAAAAABAAAAAQAAAhhjdHRzAAAAAAAAAEEAAAABAAAEAAAAAAEAAAgAAAAAAgAAAgAAAAAB\n",
       "AAAIAAAAAAIAAAIAAAAAAQAACgAAAAABAAAEAAAAAAEAAAAAAAAAAQAAAgAAAAABAAAGAAAAAAEA\n",
       "AAIAAAAABQAABAAAAAABAAAGAAAAAAEAAAIAAAAAAQAABAAAAAABAAAIAAAAAAIAAAIAAAAAAQAA\n",
       "CAAAAAACAAACAAAAAAEAAAoAAAAAAQAABAAAAAABAAAAAAAAAAEAAAIAAAAAAQAACAAAAAACAAAC\n",
       "AAAAAAEAAAQAAAAAAQAACAAAAAACAAACAAAAAAEAAAgAAAAAAgAAAgAAAAABAAAGAAAAAAEAAAIA\n",
       "AAAAAQAABgAAAAABAAACAAAAAAEAAAoAAAAAAQAABAAAAAABAAAAAAAAAAEAAAIAAAAAAQAABAAA\n",
       "AAABAAAGAAAAAAEAAAIAAAAAAQAABAAAAAABAAAKAAAAAAEAAAQAAAAAAQAAAAAAAAABAAACAAAA\n",
       "AAEAAAoAAAAAAQAABAAAAAABAAAAAAAAAAEAAAIAAAAAAQAABAAAAAABAAAIAAAAAAIAAAIAAAAA\n",
       "AQAABgAAAAABAAACAAAAAAEAAAYAAAAAAQAAAgAAAAABAAAIAAAAAAIAAAIAAAAAAQAABgAAAAAB\n",
       "AAACAAAAAAEAAAQAAAAAAQAABgAAAAABAAACAAAAAAIAAAQAAAAAHHN0c2MAAAAAAAAAAQAAAAEA\n",
       "AABPAAAAAQAAAVBzdHN6AAAAAAAAAAAAAABPAAAIYAAAAa0AAAA4AAAAMwAAAEMAAAAnAAAAFgAA\n",
       "AcAAAAAvAAAAIwAAAB8AAABBAAAAKQAAAYYAAAA4AAABfgAAADUAAABGAAABmAAAAC8AAABIAAAB\n",
       "hwAAADIAAAAfAAAAOQAAADEAAAAfAAAAPwAAAEoAAAAiAAAAHwAAAXgAAAA4AAAAIQAAAaEAAAGW\n",
       "AAAARwAAACIAAAGJAAAAOQAAACQAAAF/AAAANQAAAaAAAAAvAAABpgAAAEwAAAAlAAAAHgAAAaQA\n",
       "AAGdAAAAMQAAAEMAAAHqAAAAPQAAACgAAAAiAAABlQAAAEEAAAAtAAAAKAAAAYEAAAA8AAAAPgAA\n",
       "ACUAAABEAAAANwAAAY4AAAAxAAAAOwAAADEAAAAcAAABmQAAADIAAAGoAAABpAAAADgAAAGKAAAB\n",
       "bAAAABRzdGNvAAAAAAAAAAEAAAAwAAAAYXVkdGEAAABZbWV0YQAAAAAAAAAhaGRscgAAAAAAAAAA\n",
       "bWRpcmFwcGwAAAAAAAAAAAAAAAAsaWxzdAAAACSpdG9vAAAAHGRhdGEAAAABAAAAAExhdmY2MS4x\n",
       "LjEwMA==\n",
       "\">\n",
       "  Your browser does not support the video tag.\n",
       "</video>"
      ],
      "text/plain": [
       "<IPython.core.display.HTML object>"
      ]
     },
     "execution_count": 21,
     "metadata": {},
     "output_type": "execute_result"
    }
   ],
   "source": [
    "def test_agent(environment, policy):\n",
    "    frames = []\n",
    "    state = env.reset()\n",
    "    done = False\n",
    "    frames.append(env.render(mode=\"rgb_array\"))\n",
    "\n",
    "    while not done:\n",
    "        action_probs = policy(state)\n",
    "        action = np.random.choice(range(4), 1, p=action_probs)\n",
    "        next_state, reward, done, extra_info = env.step(action)\n",
    "        img = env.render(mode=\"rgb_array\")\n",
    "        frames.append(img)\n",
    "        state = next_state\n",
    "\n",
    "    return display_video(frames)\n",
    "\n",
    "\n",
    "test_agent(env, random_policy)"
   ]
  },
  {
   "cell_type": "code",
   "execution_count": null,
   "metadata": {
    "id": "2Gze8vWTGYnk"
   },
   "outputs": [],
   "source": []
  }
 ],
 "metadata": {
  "colab": {
   "provenance": []
  },
  "kernelspec": {
   "display_name": "Python 3 (ipykernel)",
   "language": "python",
   "name": "python3"
  },
  "language_info": {
   "codemirror_mode": {
    "name": "ipython",
    "version": 3
   },
   "file_extension": ".py",
   "mimetype": "text/x-python",
   "name": "python",
   "nbconvert_exporter": "python",
   "pygments_lexer": "ipython3",
   "version": "3.12.3"
  }
 },
 "nbformat": 4,
 "nbformat_minor": 4
}
